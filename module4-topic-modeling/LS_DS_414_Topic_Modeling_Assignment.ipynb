{
 "cells": [
  {
   "cell_type": "markdown",
   "metadata": {},
   "source": [
    "<img align=\"left\" src=\"https://lever-client-logos.s3.amazonaws.com/864372b1-534c-480e-acd5-9711f850815c-1524247202159.png\" width=200>\n",
    "<br></br>\n",
    "<br></br>\n",
    "\n",
    "# Topic Modeling\n",
    "## *Data Science Unit 4 Sprint 1 Assignment 4*\n",
    "\n",
    "Analyze a corpus of Amazon reviews from Unit 4 Sprint 1 Module 1's lecture using topic modeling: \n",
    "\n",
    "- Fit a Gensim LDA topic model on Amazon Reviews\n",
    "- Select appropriate number of topics\n",
    "- Create some dope visualization of the topics\n",
    "- Write a few bullets on your findings in markdown at the end\n",
    "- **Note**: You don't *have* to use generators for this assignment"
   ]
  },
  {
   "cell_type": "code",
   "execution_count": 76,
   "metadata": {},
   "outputs": [
    {
     "name": "stderr",
     "output_type": "stream",
     "text": [
      "/Users/matthewdmeans/miniconda3/envs/U4-S1-NLP/lib/python3.7/site-packages/ipykernel/ipkernel.py:287: DeprecationWarning: `should_run_async` will not call `transform_cell` automatically in the future. Please pass the result to `transformed_cell` argument and any exception that happen during thetransform in `preprocessing_exc_tuple` in IPython 7.17 and above.\n",
      "  and should_run_async(code)\n"
     ]
    }
   ],
   "source": [
    "#Start Here\n",
    "\n",
    "import pandas as pd\n",
    "import numpy as np\n",
    "import re\n",
    "import os\n",
    "import spacy\n",
    "import gensim\n",
    "import en_core_web_lg\n",
    "from gensim import corpora\n",
    "from gensim.utils import simple_preprocess\n",
    "from gensim.parsing.preprocessing import STOPWORDS\n",
    "from gensim.models.ldamulticore import LdaMulticore\n",
    "import pyLDAvis.gensim\n",
    "import seaborn as sns\n",
    "import matplotlib.pyplot as plt"
   ]
  },
  {
   "cell_type": "code",
   "execution_count": 3,
   "metadata": {},
   "outputs": [],
   "source": [
    "df = pd.read_csv('/Users/matthewdmeans/unit4/DS-Unit-4-Sprint-1-NLP/module1-text-data/data/Datafiniti_Amazon_Consumer_Reviews_of_Amazon_Products_May19.csv')"
   ]
  },
  {
   "cell_type": "code",
   "execution_count": 4,
   "metadata": {
    "scrolled": true
   },
   "outputs": [
    {
     "data": {
      "text/html": [
       "<div>\n",
       "<style scoped>\n",
       "    .dataframe tbody tr th:only-of-type {\n",
       "        vertical-align: middle;\n",
       "    }\n",
       "\n",
       "    .dataframe tbody tr th {\n",
       "        vertical-align: top;\n",
       "    }\n",
       "\n",
       "    .dataframe thead th {\n",
       "        text-align: right;\n",
       "    }\n",
       "</style>\n",
       "<table border=\"1\" class=\"dataframe\">\n",
       "  <thead>\n",
       "    <tr style=\"text-align: right;\">\n",
       "      <th></th>\n",
       "      <th>id</th>\n",
       "      <th>dateAdded</th>\n",
       "      <th>dateUpdated</th>\n",
       "      <th>name</th>\n",
       "      <th>asins</th>\n",
       "      <th>brand</th>\n",
       "      <th>categories</th>\n",
       "      <th>primaryCategories</th>\n",
       "      <th>imageURLs</th>\n",
       "      <th>keys</th>\n",
       "      <th>...</th>\n",
       "      <th>reviews.didPurchase</th>\n",
       "      <th>reviews.doRecommend</th>\n",
       "      <th>reviews.id</th>\n",
       "      <th>reviews.numHelpful</th>\n",
       "      <th>reviews.rating</th>\n",
       "      <th>reviews.sourceURLs</th>\n",
       "      <th>reviews.text</th>\n",
       "      <th>reviews.title</th>\n",
       "      <th>reviews.username</th>\n",
       "      <th>sourceURLs</th>\n",
       "    </tr>\n",
       "  </thead>\n",
       "  <tbody>\n",
       "    <tr>\n",
       "      <th>0</th>\n",
       "      <td>AVpgNzjwLJeJML43Kpxn</td>\n",
       "      <td>2015-10-30T08:59:32Z</td>\n",
       "      <td>2019-04-25T09:08:16Z</td>\n",
       "      <td>AmazonBasics AAA Performance Alkaline Batterie...</td>\n",
       "      <td>B00QWO9P0O,B00LH3DMUO</td>\n",
       "      <td>Amazonbasics</td>\n",
       "      <td>AA,AAA,Health,Electronics,Health &amp; Household,C...</td>\n",
       "      <td>Health &amp; Beauty</td>\n",
       "      <td>https://images-na.ssl-images-amazon.com/images...</td>\n",
       "      <td>amazonbasics/hl002619,amazonbasicsaaaperforman...</td>\n",
       "      <td>...</td>\n",
       "      <td>NaN</td>\n",
       "      <td>NaN</td>\n",
       "      <td>NaN</td>\n",
       "      <td>NaN</td>\n",
       "      <td>3</td>\n",
       "      <td>https://www.amazon.com/product-reviews/B00QWO9...</td>\n",
       "      <td>I order 3 of them and one of the item is bad q...</td>\n",
       "      <td>... 3 of them and one of the item is bad quali...</td>\n",
       "      <td>Byger yang</td>\n",
       "      <td>https://www.barcodable.com/upc/841710106442,ht...</td>\n",
       "    </tr>\n",
       "    <tr>\n",
       "      <th>1</th>\n",
       "      <td>AVpgNzjwLJeJML43Kpxn</td>\n",
       "      <td>2015-10-30T08:59:32Z</td>\n",
       "      <td>2019-04-25T09:08:16Z</td>\n",
       "      <td>AmazonBasics AAA Performance Alkaline Batterie...</td>\n",
       "      <td>B00QWO9P0O,B00LH3DMUO</td>\n",
       "      <td>Amazonbasics</td>\n",
       "      <td>AA,AAA,Health,Electronics,Health &amp; Household,C...</td>\n",
       "      <td>Health &amp; Beauty</td>\n",
       "      <td>https://images-na.ssl-images-amazon.com/images...</td>\n",
       "      <td>amazonbasics/hl002619,amazonbasicsaaaperforman...</td>\n",
       "      <td>...</td>\n",
       "      <td>NaN</td>\n",
       "      <td>NaN</td>\n",
       "      <td>NaN</td>\n",
       "      <td>NaN</td>\n",
       "      <td>4</td>\n",
       "      <td>https://www.amazon.com/product-reviews/B00QWO9...</td>\n",
       "      <td>Bulk is always the less expensive way to go fo...</td>\n",
       "      <td>... always the less expensive way to go for pr...</td>\n",
       "      <td>ByMG</td>\n",
       "      <td>https://www.barcodable.com/upc/841710106442,ht...</td>\n",
       "    </tr>\n",
       "    <tr>\n",
       "      <th>2</th>\n",
       "      <td>AVpgNzjwLJeJML43Kpxn</td>\n",
       "      <td>2015-10-30T08:59:32Z</td>\n",
       "      <td>2019-04-25T09:08:16Z</td>\n",
       "      <td>AmazonBasics AAA Performance Alkaline Batterie...</td>\n",
       "      <td>B00QWO9P0O,B00LH3DMUO</td>\n",
       "      <td>Amazonbasics</td>\n",
       "      <td>AA,AAA,Health,Electronics,Health &amp; Household,C...</td>\n",
       "      <td>Health &amp; Beauty</td>\n",
       "      <td>https://images-na.ssl-images-amazon.com/images...</td>\n",
       "      <td>amazonbasics/hl002619,amazonbasicsaaaperforman...</td>\n",
       "      <td>...</td>\n",
       "      <td>NaN</td>\n",
       "      <td>NaN</td>\n",
       "      <td>NaN</td>\n",
       "      <td>NaN</td>\n",
       "      <td>5</td>\n",
       "      <td>https://www.amazon.com/product-reviews/B00QWO9...</td>\n",
       "      <td>Well they are not Duracell but for the price i...</td>\n",
       "      <td>... are not Duracell but for the price i am ha...</td>\n",
       "      <td>BySharon Lambert</td>\n",
       "      <td>https://www.barcodable.com/upc/841710106442,ht...</td>\n",
       "    </tr>\n",
       "    <tr>\n",
       "      <th>3</th>\n",
       "      <td>AVpgNzjwLJeJML43Kpxn</td>\n",
       "      <td>2015-10-30T08:59:32Z</td>\n",
       "      <td>2019-04-25T09:08:16Z</td>\n",
       "      <td>AmazonBasics AAA Performance Alkaline Batterie...</td>\n",
       "      <td>B00QWO9P0O,B00LH3DMUO</td>\n",
       "      <td>Amazonbasics</td>\n",
       "      <td>AA,AAA,Health,Electronics,Health &amp; Household,C...</td>\n",
       "      <td>Health &amp; Beauty</td>\n",
       "      <td>https://images-na.ssl-images-amazon.com/images...</td>\n",
       "      <td>amazonbasics/hl002619,amazonbasicsaaaperforman...</td>\n",
       "      <td>...</td>\n",
       "      <td>NaN</td>\n",
       "      <td>NaN</td>\n",
       "      <td>NaN</td>\n",
       "      <td>NaN</td>\n",
       "      <td>5</td>\n",
       "      <td>https://www.amazon.com/product-reviews/B00QWO9...</td>\n",
       "      <td>Seem to work as well as name brand batteries a...</td>\n",
       "      <td>... as well as name brand batteries at a much ...</td>\n",
       "      <td>Bymark sexson</td>\n",
       "      <td>https://www.barcodable.com/upc/841710106442,ht...</td>\n",
       "    </tr>\n",
       "    <tr>\n",
       "      <th>4</th>\n",
       "      <td>AVpgNzjwLJeJML43Kpxn</td>\n",
       "      <td>2015-10-30T08:59:32Z</td>\n",
       "      <td>2019-04-25T09:08:16Z</td>\n",
       "      <td>AmazonBasics AAA Performance Alkaline Batterie...</td>\n",
       "      <td>B00QWO9P0O,B00LH3DMUO</td>\n",
       "      <td>Amazonbasics</td>\n",
       "      <td>AA,AAA,Health,Electronics,Health &amp; Household,C...</td>\n",
       "      <td>Health &amp; Beauty</td>\n",
       "      <td>https://images-na.ssl-images-amazon.com/images...</td>\n",
       "      <td>amazonbasics/hl002619,amazonbasicsaaaperforman...</td>\n",
       "      <td>...</td>\n",
       "      <td>NaN</td>\n",
       "      <td>NaN</td>\n",
       "      <td>NaN</td>\n",
       "      <td>NaN</td>\n",
       "      <td>5</td>\n",
       "      <td>https://www.amazon.com/product-reviews/B00QWO9...</td>\n",
       "      <td>These batteries are very long lasting the pric...</td>\n",
       "      <td>... batteries are very long lasting the price ...</td>\n",
       "      <td>Bylinda</td>\n",
       "      <td>https://www.barcodable.com/upc/841710106442,ht...</td>\n",
       "    </tr>\n",
       "  </tbody>\n",
       "</table>\n",
       "<p>5 rows × 24 columns</p>\n",
       "</div>"
      ],
      "text/plain": [
       "                     id             dateAdded           dateUpdated  \\\n",
       "0  AVpgNzjwLJeJML43Kpxn  2015-10-30T08:59:32Z  2019-04-25T09:08:16Z   \n",
       "1  AVpgNzjwLJeJML43Kpxn  2015-10-30T08:59:32Z  2019-04-25T09:08:16Z   \n",
       "2  AVpgNzjwLJeJML43Kpxn  2015-10-30T08:59:32Z  2019-04-25T09:08:16Z   \n",
       "3  AVpgNzjwLJeJML43Kpxn  2015-10-30T08:59:32Z  2019-04-25T09:08:16Z   \n",
       "4  AVpgNzjwLJeJML43Kpxn  2015-10-30T08:59:32Z  2019-04-25T09:08:16Z   \n",
       "\n",
       "                                                name                  asins  \\\n",
       "0  AmazonBasics AAA Performance Alkaline Batterie...  B00QWO9P0O,B00LH3DMUO   \n",
       "1  AmazonBasics AAA Performance Alkaline Batterie...  B00QWO9P0O,B00LH3DMUO   \n",
       "2  AmazonBasics AAA Performance Alkaline Batterie...  B00QWO9P0O,B00LH3DMUO   \n",
       "3  AmazonBasics AAA Performance Alkaline Batterie...  B00QWO9P0O,B00LH3DMUO   \n",
       "4  AmazonBasics AAA Performance Alkaline Batterie...  B00QWO9P0O,B00LH3DMUO   \n",
       "\n",
       "          brand                                         categories  \\\n",
       "0  Amazonbasics  AA,AAA,Health,Electronics,Health & Household,C...   \n",
       "1  Amazonbasics  AA,AAA,Health,Electronics,Health & Household,C...   \n",
       "2  Amazonbasics  AA,AAA,Health,Electronics,Health & Household,C...   \n",
       "3  Amazonbasics  AA,AAA,Health,Electronics,Health & Household,C...   \n",
       "4  Amazonbasics  AA,AAA,Health,Electronics,Health & Household,C...   \n",
       "\n",
       "  primaryCategories                                          imageURLs  \\\n",
       "0   Health & Beauty  https://images-na.ssl-images-amazon.com/images...   \n",
       "1   Health & Beauty  https://images-na.ssl-images-amazon.com/images...   \n",
       "2   Health & Beauty  https://images-na.ssl-images-amazon.com/images...   \n",
       "3   Health & Beauty  https://images-na.ssl-images-amazon.com/images...   \n",
       "4   Health & Beauty  https://images-na.ssl-images-amazon.com/images...   \n",
       "\n",
       "                                                keys  ... reviews.didPurchase  \\\n",
       "0  amazonbasics/hl002619,amazonbasicsaaaperforman...  ...                 NaN   \n",
       "1  amazonbasics/hl002619,amazonbasicsaaaperforman...  ...                 NaN   \n",
       "2  amazonbasics/hl002619,amazonbasicsaaaperforman...  ...                 NaN   \n",
       "3  amazonbasics/hl002619,amazonbasicsaaaperforman...  ...                 NaN   \n",
       "4  amazonbasics/hl002619,amazonbasicsaaaperforman...  ...                 NaN   \n",
       "\n",
       "  reviews.doRecommend reviews.id reviews.numHelpful reviews.rating  \\\n",
       "0                 NaN        NaN                NaN              3   \n",
       "1                 NaN        NaN                NaN              4   \n",
       "2                 NaN        NaN                NaN              5   \n",
       "3                 NaN        NaN                NaN              5   \n",
       "4                 NaN        NaN                NaN              5   \n",
       "\n",
       "                                  reviews.sourceURLs  \\\n",
       "0  https://www.amazon.com/product-reviews/B00QWO9...   \n",
       "1  https://www.amazon.com/product-reviews/B00QWO9...   \n",
       "2  https://www.amazon.com/product-reviews/B00QWO9...   \n",
       "3  https://www.amazon.com/product-reviews/B00QWO9...   \n",
       "4  https://www.amazon.com/product-reviews/B00QWO9...   \n",
       "\n",
       "                                        reviews.text  \\\n",
       "0  I order 3 of them and one of the item is bad q...   \n",
       "1  Bulk is always the less expensive way to go fo...   \n",
       "2  Well they are not Duracell but for the price i...   \n",
       "3  Seem to work as well as name brand batteries a...   \n",
       "4  These batteries are very long lasting the pric...   \n",
       "\n",
       "                                       reviews.title  reviews.username  \\\n",
       "0  ... 3 of them and one of the item is bad quali...        Byger yang   \n",
       "1  ... always the less expensive way to go for pr...              ByMG   \n",
       "2  ... are not Duracell but for the price i am ha...  BySharon Lambert   \n",
       "3  ... as well as name brand batteries at a much ...     Bymark sexson   \n",
       "4  ... batteries are very long lasting the price ...           Bylinda   \n",
       "\n",
       "                                          sourceURLs  \n",
       "0  https://www.barcodable.com/upc/841710106442,ht...  \n",
       "1  https://www.barcodable.com/upc/841710106442,ht...  \n",
       "2  https://www.barcodable.com/upc/841710106442,ht...  \n",
       "3  https://www.barcodable.com/upc/841710106442,ht...  \n",
       "4  https://www.barcodable.com/upc/841710106442,ht...  \n",
       "\n",
       "[5 rows x 24 columns]"
      ]
     },
     "execution_count": 4,
     "metadata": {},
     "output_type": "execute_result"
    }
   ],
   "source": [
    "df.head()"
   ]
  },
  {
   "cell_type": "code",
   "execution_count": 16,
   "metadata": {},
   "outputs": [
    {
     "data": {
      "text/plain": [
       "Index(['id', 'dateAdded', 'dateUpdated', 'name', 'asins', 'brand',\n",
       "       'categories', 'primaryCategories', 'imageURLs', 'keys', 'manufacturer',\n",
       "       'manufacturerNumber', 'reviews.date', 'reviews.dateSeen',\n",
       "       'reviews.didPurchase', 'reviews.doRecommend', 'reviews.id',\n",
       "       'reviews.numHelpful', 'reviews.rating', 'reviews.sourceURLs',\n",
       "       'reviews.text', 'reviews.title', 'reviews.username', 'sourceURLs',\n",
       "       'tokens'],\n",
       "      dtype='object')"
      ]
     },
     "execution_count": 16,
     "metadata": {},
     "output_type": "execute_result"
    }
   ],
   "source": [
    "df.columns"
   ]
  },
  {
   "cell_type": "code",
   "execution_count": 17,
   "metadata": {},
   "outputs": [
    {
     "data": {
      "text/plain": [
       "'I order 3 of them and one of the item is bad quality. Is missing backup spring so I have to put a pcs of aluminum to make the battery work.'"
      ]
     },
     "execution_count": 17,
     "metadata": {},
     "output_type": "execute_result"
    }
   ],
   "source": [
    "df['reviews.text'][0]"
   ]
  },
  {
   "cell_type": "code",
   "execution_count": 18,
   "metadata": {},
   "outputs": [],
   "source": [
    "nlp = spacy.load('en_core_web_lg')"
   ]
  },
  {
   "cell_type": "code",
   "execution_count": 21,
   "metadata": {},
   "outputs": [],
   "source": [
    "stop_words = nlp.Defaults.stop_words\n",
    "\n",
    "def get_lemmas(text):\n",
    "    \n",
    "    lemmas = []\n",
    "    \n",
    "    doc = nlp(text)\n",
    "    \n",
    "    for token in doc:\n",
    "        conditions = (token.is_stop == False) & (token.is_punct == False) & (token.pos_ !='PRON') & (token is not stop_words)\n",
    "        if conditions:\n",
    "            lemmas.append(token.lemma_)\n",
    "            \n",
    "    return lemmas"
   ]
  },
  {
   "cell_type": "code",
   "execution_count": 22,
   "metadata": {},
   "outputs": [],
   "source": [
    "df['reviews.text'] = df['reviews.text'].apply(get_lemmas)"
   ]
  },
  {
   "cell_type": "code",
   "execution_count": 24,
   "metadata": {},
   "outputs": [
    {
     "name": "stderr",
     "output_type": "stream",
     "text": [
      "/Users/matthewdmeans/miniconda3/envs/U4-S1-NLP/lib/python3.7/site-packages/ipykernel/ipkernel.py:287: DeprecationWarning: `should_run_async` will not call `transform_cell` automatically in the future. Please pass the result to `transformed_cell` argument and any exception that happen during thetransform in `preprocessing_exc_tuple` in IPython 7.17 and above.\n",
      "  and should_run_async(code)\n"
     ]
    }
   ],
   "source": [
    "# make topic model"
   ]
  },
  {
   "cell_type": "code",
   "execution_count": 25,
   "metadata": {},
   "outputs": [
    {
     "name": "stderr",
     "output_type": "stream",
     "text": [
      "/Users/matthewdmeans/miniconda3/envs/U4-S1-NLP/lib/python3.7/site-packages/ipykernel/ipkernel.py:287: DeprecationWarning: `should_run_async` will not call `transform_cell` automatically in the future. Please pass the result to `transformed_cell` argument and any exception that happen during thetransform in `preprocessing_exc_tuple` in IPython 7.17 and above.\n",
      "  and should_run_async(code)\n"
     ]
    }
   ],
   "source": [
    "id2word = corpora.Dictionary(df['reviews.text'])"
   ]
  },
  {
   "cell_type": "code",
   "execution_count": 48,
   "metadata": {},
   "outputs": [
    {
     "name": "stderr",
     "output_type": "stream",
     "text": [
      "/Users/matthewdmeans/miniconda3/envs/U4-S1-NLP/lib/python3.7/site-packages/ipykernel/ipkernel.py:287: DeprecationWarning: `should_run_async` will not call `transform_cell` automatically in the future. Please pass the result to `transformed_cell` argument and any exception that happen during thetransform in `preprocessing_exc_tuple` in IPython 7.17 and above.\n",
      "  and should_run_async(code)\n"
     ]
    }
   ],
   "source": [
    "id2word.filter_extremes(no_below=20, no_above=0.85)"
   ]
  },
  {
   "cell_type": "code",
   "execution_count": 49,
   "metadata": {},
   "outputs": [
    {
     "name": "stderr",
     "output_type": "stream",
     "text": [
      "/Users/matthewdmeans/miniconda3/envs/U4-S1-NLP/lib/python3.7/site-packages/ipykernel/ipkernel.py:287: DeprecationWarning: `should_run_async` will not call `transform_cell` automatically in the future. Please pass the result to `transformed_cell` argument and any exception that happen during thetransform in `preprocessing_exc_tuple` in IPython 7.17 and above.\n",
      "  and should_run_async(code)\n"
     ]
    },
    {
     "data": {
      "text/plain": [
       "789"
      ]
     },
     "execution_count": 49,
     "metadata": {},
     "output_type": "execute_result"
    }
   ],
   "source": [
    "len(id2word.keys())"
   ]
  },
  {
   "cell_type": "code",
   "execution_count": 50,
   "metadata": {},
   "outputs": [
    {
     "name": "stderr",
     "output_type": "stream",
     "text": [
      "/Users/matthewdmeans/miniconda3/envs/U4-S1-NLP/lib/python3.7/site-packages/ipykernel/ipkernel.py:287: DeprecationWarning: `should_run_async` will not call `transform_cell` automatically in the future. Please pass the result to `transformed_cell` argument and any exception that happen during thetransform in `preprocessing_exc_tuple` in IPython 7.17 and above.\n",
      "  and should_run_async(code)\n"
     ]
    }
   ],
   "source": [
    "corpus = [id2word.doc2bow(doc) for doc in df['reviews.text']]"
   ]
  },
  {
   "cell_type": "code",
   "execution_count": 51,
   "metadata": {},
   "outputs": [
    {
     "name": "stderr",
     "output_type": "stream",
     "text": [
      "/Users/matthewdmeans/miniconda3/envs/U4-S1-NLP/lib/python3.7/site-packages/ipykernel/ipkernel.py:287: DeprecationWarning: `should_run_async` will not call `transform_cell` automatically in the future. Please pass the result to `transformed_cell` argument and any exception that happen during thetransform in `preprocessing_exc_tuple` in IPython 7.17 and above.\n",
      "  and should_run_async(code)\n"
     ]
    }
   ],
   "source": [
    "lda = LdaMulticore(\n",
    "    corpus=corpus,\n",
    "    id2word=id2word,\n",
    "    num_topics=10,\n",
    "    passes=100,\n",
    "    workers=12,\n",
    "    random_state=42\n",
    ")"
   ]
  },
  {
   "cell_type": "code",
   "execution_count": 52,
   "metadata": {},
   "outputs": [
    {
     "name": "stderr",
     "output_type": "stream",
     "text": [
      "/Users/matthewdmeans/miniconda3/envs/U4-S1-NLP/lib/python3.7/site-packages/ipykernel/ipkernel.py:287: DeprecationWarning: `should_run_async` will not call `transform_cell` automatically in the future. Please pass the result to `transformed_cell` argument and any exception that happen during thetransform in `preprocessing_exc_tuple` in IPython 7.17 and above.\n",
      "  and should_run_async(code)\n"
     ]
    },
    {
     "data": {
      "text/plain": [
       "[(0,\n",
       "  '0.108*\"kid\" + 0.061*\"tablet\" + 0.044*\"great\" + 0.039*\"love\" + 0.037*\"child\" + 0.024*\"easy\" + 0.022*\"set\" + 0.021*\"time\" + 0.021*\"control\" + 0.020*\"case\"'),\n",
       " (1,\n",
       "  '0.101*\"year\" + 0.101*\"old\" + 0.044*\"love\" + 0.040*\"buy\" + 0.036*\"2\" + 0.025*\"3\" + 0.020*\"4\" + 0.020*\"tablet\" + 0.018*\"5\" + 0.016*\"charge\"'),\n",
       " (2,\n",
       "  '0.028*\"tablet\" + 0.027*\"good\" + 0.025*\"buy\" + 0.022*\"device\" + 0.020*\"store\" + 0.020*\"Amazon\" + 0.018*\"purchase\" + 0.015*\"day\" + 0.014*\"find\" + 0.014*\"sale\"'),\n",
       " (3,\n",
       "  '0.173*\"great\" + 0.150*\"good\" + 0.134*\"price\" + 0.068*\"product\" + 0.065*\"work\" + 0.042*\"battery\" + 0.030*\"value\" + 0.028*\"buy\" + 0.022*\"deal\" + 0.021*\"quality\"'),\n",
       " (4,\n",
       "  '0.056*\"game\" + 0.043*\"tablet\" + 0.041*\"app\" + 0.035*\"play\" + 0.033*\"watch\" + 0.029*\"movie\" + 0.029*\"great\" + 0.027*\"book\" + 0.025*\"video\" + 0.024*\"download\"'),\n",
       " (5,\n",
       "  '0.126*\"battery\" + 0.039*\"long\" + 0.028*\"brand\" + 0.026*\"work\" + 0.020*\"Amazon\" + 0.019*\"buy\" + 0.016*\"time\" + 0.015*\"life\" + 0.013*\"use\" + 0.013*\"like\"'),\n",
       " (6,\n",
       "  '0.050*\"Fire\" + 0.044*\"fire\" + 0.038*\"great\" + 0.038*\"tablet\" + 0.037*\"Kindle\" + 0.035*\"screen\" + 0.029*\"fast\" + 0.028*\"8\" + 0.025*\"kindle\" + 0.023*\"new\"'),\n",
       " (7,\n",
       "  '0.073*\"easy\" + 0.057*\"read\" + 0.051*\"use\" + 0.043*\"book\" + 0.029*\"Kindle\" + 0.028*\"light\" + 0.025*\"size\" + 0.021*\"reader\" + 0.021*\"screen\" + 0.017*\"kindle\"'),\n",
       " (8,\n",
       "  '0.094*\"tablet\" + 0.033*\"price\" + 0.027*\"good\" + 0.023*\"iPad\" + 0.021*\"Amazon\" + 0.020*\"need\" + 0.019*\"great\" + 0.016*\"work\" + 0.016*\"like\" + 0.015*\"want\"'),\n",
       " (9,\n",
       "  '0.153*\"love\" + 0.086*\"buy\" + 0.062*\"gift\" + 0.047*\"use\" + 0.043*\"Christmas\" + 0.038*\"tablet\" + 0.033*\"purchase\" + 0.028*\"daughter\" + 0.028*\"get\" + 0.026*\"easy\"')]"
      ]
     },
     "execution_count": 52,
     "metadata": {},
     "output_type": "execute_result"
    }
   ],
   "source": [
    "lda.print_topics()"
   ]
  },
  {
   "cell_type": "code",
   "execution_count": 53,
   "metadata": {},
   "outputs": [
    {
     "name": "stderr",
     "output_type": "stream",
     "text": [
      "/Users/matthewdmeans/miniconda3/envs/U4-S1-NLP/lib/python3.7/site-packages/ipykernel/ipkernel.py:287: DeprecationWarning: `should_run_async` will not call `transform_cell` automatically in the future. Please pass the result to `transformed_cell` argument and any exception that happen during thetransform in `preprocessing_exc_tuple` in IPython 7.17 and above.\n",
      "  and should_run_async(code)\n"
     ]
    }
   ],
   "source": [
    "words = [re.findall(r'\"([^\"]*)\"', t[1]) for t in lda.print_topics()]"
   ]
  },
  {
   "cell_type": "code",
   "execution_count": 54,
   "metadata": {},
   "outputs": [
    {
     "name": "stderr",
     "output_type": "stream",
     "text": [
      "/Users/matthewdmeans/miniconda3/envs/U4-S1-NLP/lib/python3.7/site-packages/ipykernel/ipkernel.py:287: DeprecationWarning: `should_run_async` will not call `transform_cell` automatically in the future. Please pass the result to `transformed_cell` argument and any exception that happen during thetransform in `preprocessing_exc_tuple` in IPython 7.17 and above.\n",
      "  and should_run_async(code)\n"
     ]
    }
   ],
   "source": [
    "topics = [' '.join(t[0:5]) for t in words]"
   ]
  },
  {
   "cell_type": "code",
   "execution_count": 55,
   "metadata": {},
   "outputs": [
    {
     "name": "stdout",
     "output_type": "stream",
     "text": [
      "------ Topic 0 ------\n",
      "kid tablet great love child\n",
      "\n",
      "------ Topic 1 ------\n",
      "year old love buy 2\n",
      "\n",
      "------ Topic 2 ------\n",
      "tablet good buy device store\n",
      "\n",
      "------ Topic 3 ------\n",
      "great good price product work\n",
      "\n",
      "------ Topic 4 ------\n",
      "game tablet app play watch\n",
      "\n",
      "------ Topic 5 ------\n",
      "battery long brand work Amazon\n",
      "\n",
      "------ Topic 6 ------\n",
      "Fire fire great tablet Kindle\n",
      "\n",
      "------ Topic 7 ------\n",
      "easy read use book Kindle\n",
      "\n",
      "------ Topic 8 ------\n",
      "tablet price good iPad Amazon\n",
      "\n",
      "------ Topic 9 ------\n",
      "love buy gift use Christmas\n",
      "\n"
     ]
    },
    {
     "name": "stderr",
     "output_type": "stream",
     "text": [
      "/Users/matthewdmeans/miniconda3/envs/U4-S1-NLP/lib/python3.7/site-packages/ipykernel/ipkernel.py:287: DeprecationWarning: `should_run_async` will not call `transform_cell` automatically in the future. Please pass the result to `transformed_cell` argument and any exception that happen during thetransform in `preprocessing_exc_tuple` in IPython 7.17 and above.\n",
      "  and should_run_async(code)\n"
     ]
    }
   ],
   "source": [
    "for id, t in enumerate(topics):\n",
    "    print(f\"------ Topic {id} ------\")\n",
    "    print(t, end=\"\\n\\n\")"
   ]
  },
  {
   "cell_type": "code",
   "execution_count": 56,
   "metadata": {},
   "outputs": [
    {
     "name": "stderr",
     "output_type": "stream",
     "text": [
      "/Users/matthewdmeans/miniconda3/envs/U4-S1-NLP/lib/python3.7/site-packages/ipykernel/ipkernel.py:287: DeprecationWarning: `should_run_async` will not call `transform_cell` automatically in the future. Please pass the result to `transformed_cell` argument and any exception that happen during thetransform in `preprocessing_exc_tuple` in IPython 7.17 and above.\n",
      "  and should_run_async(code)\n"
     ]
    }
   ],
   "source": [
    "pyLDAvis.enable_notebook()"
   ]
  },
  {
   "cell_type": "code",
   "execution_count": 65,
   "metadata": {
    "scrolled": false
   },
   "outputs": [
    {
     "name": "stderr",
     "output_type": "stream",
     "text": [
      "/Users/matthewdmeans/miniconda3/envs/U4-S1-NLP/lib/python3.7/site-packages/ipykernel/ipkernel.py:287: DeprecationWarning: `should_run_async` will not call `transform_cell` automatically in the future. Please pass the result to `transformed_cell` argument and any exception that happen during thetransform in `preprocessing_exc_tuple` in IPython 7.17 and above.\n",
      "  and should_run_async(code)\n"
     ]
    },
    {
     "data": {
      "text/html": [
       "\n",
       "<link rel=\"stylesheet\" type=\"text/css\" href=\"https://cdn.rawgit.com/bmabey/pyLDAvis/files/ldavis.v1.0.0.css\">\n",
       "\n",
       "\n",
       "<div id=\"ldavis_el52311407015876285843910468825\"></div>\n",
       "<script type=\"text/javascript\">\n",
       "\n",
       "var ldavis_el52311407015876285843910468825_data = {\"mdsDat\": {\"x\": [-0.16832568748584312, -0.32306530024087593, 0.1072917135012292, 0.07954240451111028, -0.15653135263897378, 0.1412447671085415, 0.18360961500885234, -0.03725408968870295, -0.024953864006189996, 0.19844179393085212], \"y\": [0.17470835608783764, 0.02692020863195102, -0.13920245177969137, -0.12454808691479756, -0.08856363234613795, -0.031344460609775936, 0.18606961009051318, 0.10254009478272652, -0.19837893253683186, 0.09179929459420717], \"topics\": [1, 2, 3, 4, 5, 6, 7, 8, 9, 10], \"cluster\": [1, 1, 1, 1, 1, 1, 1, 1, 1, 1], \"Freq\": [21.734619682105105, 10.70860492736939, 9.963705103055684, 9.48205079654848, 9.101376503836931, 9.085676166318908, 8.214657973495237, 7.829765310599313, 6.964029238959483, 6.915514297711472]}, \"tinfo\": {\"Term\": [\"battery\", \"price\", \"love\", \"great\", \"good\", \"kid\", \"year\", \"old\", \"tablet\", \"easy\", \"buy\", \"product\", \"read\", \"work\", \"gift\", \"game\", \"book\", \"use\", \"Fire\", \"Kindle\", \"long\", \"app\", \"brand\", \"child\", \"Christmas\", \"2\", \"fire\", \"screen\", \"watch\", \"value\", \"remote\", \"Duracell\", \"pack\", \"AA\", \"keyboard\", \"AmazonBasics\", \"test\", \"tap\", \"controller\", \"Echo\", \"leak\", \"dead\", \"aaa\", \"energizer\", \"Basics\", \"mouse\", \"flashlight\", \"Energizer\", \"bulk\", \"AAA\", \"alkaline\", \"drain\", \"rechargeable\", \"candle\", \"Batteries\", \"duracell\", \"waste\", \"clock\", \"48\", \"flash\", \"package\", \"last\", \"box\", \"battery\", \"brand\", \"long\", \"power\", \"toy\", \"short\", \"life\", \"longer\", \"Alexa\", \"order\", \"week\", \"work\", \"try\", \"Amazon\", \"time\", \"month\", \"cheap\", \"buy\", \"like\", \"come\", \"use\", \"need\", \"charge\", \"store\", \"purchase\", \"lot\", \"advertise\", \"Great\", \"value\", \"deal\", \"shipping\", \"name\", \"beat\", \"reasonable\", \"price\", \"product\", \"describe\", \"fraction\", \"nicely\", \"delivery\", \"bargain\", \"good\", \"Ipad\", \"excellent\", \"great\", \"market\", \"affordable\", \"solid\", \"quality\", \"awesome\", \"work\", \"exactly\", \"money\", \"wonderful\", \"point\", \"quantity\", \"performance\", \"far\", \"recommend\", \"definitely\", \"battery\", \"buy\", \"expect\", \"thank\", \"life\", \"nice\", \"overall\", \"item\", \"brand\", \"long\", \"issue\", \"time\", \"purchase\", \"reader\", \"weight\", \"lightweight\", \"ebook\", \"purse\", \"comfortable\", \"Voyage\", \"dark\", \"paper\", \"text\", \"Oasis\", \"paperwhite\", \"avid\", \"adjust\", \"lighting\", \"print\", \"Paperwhite\", \"voyage\", \"carry\", \"compact\", \"bed\", \"e\", \"page\", \"library\", \"bag\", \"eye\", \"white\", \"light\", \"travel\", \"Nook\", \"read\", \"book\", \"easy\", \"size\", \"small\", \"fit\", \"Kindle\", \"use\", \"perfect\", \"hand\", \"screen\", \"kindle\", \"convenient\", \"reading\", \"touch\", \"hold\", \"navigate\", \"like\", \"want\", \"device\", \"enjoy\", \"need\", \"love\", \"nice\", \"great\", \"new\", \"right\", \"watch\", \"movie\", \"music\", \"web\", \"surf\", \"playing\", \"sd\", \"SD\", \"youtube\", \"social\", \"video\", \"selection\", \"unlimited\", \"streaming\", \"card\", \"slot\", \"stream\", \"entertainment\", \"Netflix\", \"Facebook\", \"gaming\", \"micro\", \"personal\", \"prime\", \"email\", \"YouTube\", \"news\", \"plenty\", \"additional\", \"listen\", \"internet\", \"game\", \"download\", \"play\", \"account\", \"app\", \"space\", \"memory\", \"show\", \"book\", \"access\", \"load\", \"storage\", \"etc\", \"tablet\", \"read\", \"Amazon\", \"amazon\", \"reading\", \"free\", \"great\", \"use\", \"able\", \"love\", \"work\", \"like\", \"lot\", \"need\", \"highly\", \"slow\", \"Apple\", \"apple\", \"poor\", \"pass\", \"lag\", \"iPad\", \"annoying\", \"powerful\", \"mini\", \"budget\", \"serve\", \"android\", \"alternative\", \"ad\", \"ipad\", \"support\", \"browser\", \"limited\", \"feel\", \"Android\", \"expectation\", \"$\", \"tab\", \"general\", \"function\", \"extremely\", \"people\", \"inexpensive\", \"basic\", \"low\", \"tablet\", \"little\", \"expect\", \"need\", \"want\", \"decent\", \"look\", \"cheap\", \"price\", \"recommend\", \"Amazon\", \"money\", \"nice\", \"good\", \"pay\", \"app\", \"like\", \"work\", \"great\", \"screen\", \"run\", \"quality\", \"use\", \"get\", \"thing\", \"child\", \"friendly\", \"adult\", \"parental\", \"entertain\", \"protective\", \"busy\", \"proof\", \"kid\", \"learning\", \"limit\", \"tool\", \"grow\", \"protect\", \"young\", \"safe\", \"bonus\", \"profile\", \"site\", \"activity\", \"control\", \"investment\", \"parent\", \"setting\", \"durable\", \"keep\", \"educational\", \"fun\", \"bumper\", \"content\", \"age\", \"case\", \"set\", \"user\", \"toddler\", \"tablet\", \"love\", \"time\", \"great\", \"app\", \"easy\", \"learn\", \"use\", \"daughter\", \"come\", \"perfect\", \"lot\", \"like\", \"good\", \"game\", \"play\", \"year\", \"yr\", \"cord\", \"crack\", \"anymore\", \"brother\", \"5\", \"9\", \"old\", \"3\", \"2\", \"Edition\", \"6\", \"charger\", \"call\", \"break\", \"sister\", \"warranty\", \"boy\", \"1/2\", \"4\", \"christmas\", \"program\", \"grandson\", \"1\", \"Kids\", \"plug\", \"loose\", \"ago\", \"timer\", \"s\", \"grand\", \"10\", \"charge\", \"star\", \"love\", \"buy\", \"son\", \"granddaughter\", \"get\", \"time\", \"play\", \"purchase\", \"game\", \"drop\", \"daughter\", \"use\", \"tablet\", \"month\", \"easy\", \"work\", \"app\", \"service\", \"Friday\", \"inch\", \"Black\", \"best\", \"customer\", \"Best\", \"class\", \"bang\", \"return\", \"black\", \"early\", \"install\", \"sale\", \"Buy\", \"lack\", \"30\", \"improve\", \"hate\", \"research\", \"instruction\", \"miss\", \"simply\", \"view\", \"stand\", \"plan\", \"thank\", \"today\", \"probably\", \"awhile\", \"ok\", \"photo\", \"store\", \"know\", \"replacement\", \"day\", \"issue\", \"Google\", \"device\", \"online\", \"review\", \"find\", \"item\", \"say\", \"help\", \"far\", \"purchase\", \"good\", \"buy\", \"Amazon\", \"tablet\", \"go\", \"look\", \"app\", \"Fire\", \"get\", \"come\", \"need\", \"screen\", \"product\", \"picture\", \"hd\", \"HD\", \"upgrade\", \"original\", \"generation\", \"forward\", \"improvement\", \"16\", \"HD8\", \"previous\", \"camera\", \"7\", \"Fire\", \"clarity\", \"clear\", \"fast\", \"model\", \"fire\", \"8\", \"processor\", \"crisp\", \"2nd\", \"resolution\", \"speed\", \"GB\", \"faster\", \"version\", \"amazing\", \"gb\", \"sound\", \"color\", \"Kindle\", \"new\", \"screen\", \"well\", \"kindle\", \"feature\", \"nice\", \"replace\", \"tablet\", \"great\", \"size\", \"Amazon\", \"old\", \"love\", \"like\", \"big\", \"gift\", \"mom\", \"present\", \"birthday\", \"mother\", \"law\", \"dad\", \"father\", \"Christmas\", \"niece\", \"absolutely\", \"nephew\", \"friend\", \"grandkid\", \"excited\", \"husband\", \"Grandson\", \"wife\", \"bring\", \"granddaughter\", \"loud\", \"tech\", \"grandchild\", \"school\", \"holiday\", \"daughter\", \"everyday\", \"girl\", \"love\", \"totally\", \"family\", \"son\", \"happy\", \"buy\", \"get\", \"purchase\", \"enjoy\", \"use\", \"learn\", \"easy\", \"tablet\", \"kindle\", \"great\", \"give\", \"recommend\", \"want\"], \"Freq\": [8945.0, 4913.0, 6164.0, 9246.0, 6821.0, 2808.0, 2340.0, 2665.0, 7814.0, 3426.0, 5705.0, 2501.0, 2181.0, 4441.0, 1220.0, 2034.0, 1934.0, 4945.0, 1236.0, 1793.0, 2679.0, 2384.0, 1941.0, 942.0, 875.0, 992.0, 1186.0, 1833.0, 879.0, 963.0, 484.9398682813722, 466.43739516232387, 413.363784056429, 381.1199268758302, 369.8320413781608, 260.31994449452304, 235.26774570892772, 225.12619311494637, 208.32798789582603, 186.12793089483523, 184.2949054723113, 175.76450557519266, 175.61610054499315, 162.32973392532924, 161.48638927433677, 161.48547610041766, 158.10881577767597, 153.8849298147856, 151.48654985792888, 149.66108665692266, 148.81534492439252, 131.8301673453323, 130.23154225317256, 117.5584789327665, 104.04377602829508, 98.97570358220555, 95.12312269583492, 87.99517245003253, 77.0122585046643, 74.62341693475965, 360.84709489445754, 728.5369444051023, 496.87117041511664, 7698.748324013803, 1742.201486968451, 2365.503983567294, 454.31207210745134, 434.15898005622336, 198.60884958115017, 943.0921791589435, 305.85507660460104, 298.7536654758231, 429.6764090440572, 316.2765312731352, 1565.7141899679323, 421.9703340973968, 1214.9806389111557, 1027.0017330189487, 371.02718628149427, 505.691003639569, 1191.6431096471606, 788.9742758480423, 468.4764269136643, 815.478692263546, 527.4671196486082, 396.2094410088518, 385.347551144452, 463.76365046382494, 398.27718066527456, 138.0502971097223, 45.658783653428756, 928.3663310312506, 702.427348655783, 92.99521690276836, 45.81492664240293, 426.7027180152111, 105.46974890762881, 4053.1242626091425, 2057.779312404342, 117.05598611257935, 65.25316811309673, 45.0169530852259, 48.91151888425641, 65.58899047964019, 4558.176356344533, 49.91721442775594, 427.925035505595, 5237.642256669521, 67.32007498884592, 119.80916008947928, 53.76982176342629, 653.1219608217605, 247.19214443726395, 1947.0189235917935, 74.96727822688715, 321.9156509165635, 63.03999537680112, 89.40665579040493, 26.937347537188288, 126.75479897977988, 391.20902853559596, 398.91979689480706, 160.98574855729598, 1245.611710067973, 835.8767598341211, 165.04043280161804, 121.29750625884037, 232.4313700356965, 221.39637501679937, 117.24108560831074, 137.46527584744445, 198.44236440976002, 188.97625106432952, 123.74188816016105, 133.86148075835297, 121.99904248664242, 591.1753746005865, 208.658040632888, 155.58955821790116, 111.80839381515142, 90.98707098350556, 82.15892926403585, 73.8155848279143, 73.37402991595482, 70.62287712013087, 70.28230174674323, 64.22568141249458, 62.395216329506226, 62.34692432709168, 60.52937766544542, 48.395863251657076, 49.30746882371621, 47.550808807671466, 33.212816484392775, 247.32446516619856, 72.69117197527054, 41.91274205442052, 298.35067271596927, 173.42365146229056, 143.19527811072803, 49.01693843346195, 138.5558707369499, 75.22095208658708, 787.2945142169981, 256.27071069111287, 60.37477523160141, 1626.4635478322225, 1213.3040978174813, 2033.3169767596248, 692.9746278876595, 439.2327096209657, 185.22721631305595, 816.3378464387422, 1447.1688892217212, 455.6799073139583, 207.07195937682806, 574.1326867410191, 477.9052957506835, 120.15623189960817, 205.0155429283503, 128.89162262432802, 211.75462874491336, 152.9704742045169, 473.04409707013673, 313.6896987918586, 315.304010886659, 231.63523540491371, 288.19534144510817, 441.0166160593398, 239.30865994461158, 399.8242378838191, 194.78726672847296, 179.21343280988043, 878.2562955289482, 786.8074576697522, 367.11756864710037, 275.5071106927654, 148.24409636073048, 131.81633869163352, 100.13782275450093, 97.07889292117709, 69.74594320563054, 46.53579052530488, 672.0876168282728, 70.49188928870618, 69.54841237528683, 52.299986406889914, 303.73039640537786, 49.56935750707875, 95.06989612771945, 94.43490045967064, 210.86489902792187, 55.3877182807394, 55.704982685647806, 49.304231829519125, 48.220535602315316, 189.94882856422518, 217.7901370961988, 86.97393945779552, 42.01528941180351, 129.58733340015587, 61.05950424388408, 138.98521450924562, 382.0677137871686, 1489.770264362982, 640.6073786946552, 937.2539297284075, 189.59563474978273, 1079.7750164407792, 138.66488751433533, 206.52422548060707, 179.32969611845775, 720.66507488611, 242.87167854990855, 189.6974471930154, 218.25921134859792, 196.4632936361141, 1164.2331813819023, 554.2537444325417, 575.9376784171119, 254.75851161404864, 201.56793399425936, 240.95818227638705, 766.4988506879697, 550.2896076112689, 225.8818733677055, 298.5062403398428, 246.76744242691208, 230.66653531842042, 217.6050371443789, 210.168421243108, 296.3271636246229, 334.2191287191082, 116.17727518590866, 63.988267415816296, 47.3393152075874, 47.29607506342389, 45.08091539946892, 576.4948813158484, 86.68883523758826, 60.85745871316341, 96.81153999973847, 79.09170860697223, 53.263259769522655, 158.63183131087285, 86.33580996221166, 173.90868119403618, 201.48222266463796, 83.36453630022612, 67.12498526626216, 88.67375323298712, 231.0031300640271, 129.17324181995758, 56.26163544807936, 309.9465483382656, 65.36711238323211, 36.28038096227731, 101.12125654888092, 98.03872480696329, 92.77595652429585, 140.98041219538618, 231.40239486899904, 263.7398805355226, 2391.8805856595186, 389.31329819938713, 248.89101068917452, 511.17103895113667, 402.1264337692654, 155.395470530454, 315.04440419602537, 299.61365357590427, 834.9527126587664, 335.6130184126542, 532.9029367256012, 240.83239096818338, 301.78994072667314, 674.7781217590901, 180.82780929501928, 382.7567372433715, 401.3627496091988, 421.36097870458605, 505.4171422160586, 290.32755627899076, 184.6670704467194, 229.20005727902154, 302.26327003724833, 244.22387135932115, 206.02386579606517, 941.8885122795895, 420.59078298286846, 192.55878099697478, 442.7681309800636, 148.64590414750697, 126.74700587574262, 82.2275686120439, 59.011491720928646, 2768.05395224571, 188.9862812787489, 236.16623636069997, 122.89541225912849, 60.8295863894854, 102.04752988399157, 226.8987586041581, 93.62569017736824, 33.40135199794113, 123.96595613967033, 48.923582163711444, 47.343109777123594, 525.4053100891564, 38.79044033220746, 151.38627555422792, 92.61000836037091, 252.55721726352027, 288.78979887800773, 186.32909168744345, 181.932742473129, 58.559938406871126, 164.92565785300414, 228.62595331093854, 519.5365604309985, 558.9733537689717, 261.3951986652335, 121.03221355442001, 1571.63409502879, 1013.0701966781921, 529.1060121550476, 1123.380568875036, 501.3033641611028, 606.5530181710328, 212.35956022974446, 515.076927188177, 270.8799774327619, 271.188607854163, 258.0925954870587, 268.767829738249, 314.00862142302555, 318.95116965963024, 250.32248584102663, 221.4200914591347, 2339.7780996785987, 259.42796265127254, 68.15622633875981, 49.857766522868445, 41.306423652203755, 55.60006197639581, 426.6150358552821, 128.2838217917117, 2339.2068987063767, 581.9487829022684, 834.1877671542793, 61.36971489340582, 220.4464946707996, 144.4005009756382, 45.1823123791337, 228.12979487819732, 74.74945592945546, 229.1566623661754, 79.3633005045804, 32.038809214965156, 463.770451120441, 33.36059048285174, 92.74434658816854, 336.347550854498, 153.12603803252108, 80.86203974737724, 84.71984655531303, 40.34147312006562, 83.33309333393956, 32.08123134910399, 47.35690176774075, 94.58211237477849, 134.54103939055298, 384.24956882196614, 111.09457688492596, 1025.9407100864419, 925.5992503560009, 292.2921227574447, 149.0035762121913, 293.6517234401556, 330.44560818059995, 256.5868633744449, 327.5569663455103, 293.4757253762447, 121.73016426232802, 204.01957009476646, 375.114020342141, 446.9248543514374, 142.64601016460466, 211.41299875138168, 164.28988923957695, 151.30790188657284, 253.4938153841628, 236.87049556138092, 179.87115720555911, 164.54310773536918, 119.38680070954285, 102.99146417691416, 66.82441892907536, 46.92236282118376, 40.855321095158445, 271.665945347833, 168.1437366471316, 57.977542620730574, 106.70113483276528, 305.4794129075631, 182.4705388553943, 72.39217858608707, 48.09346930226603, 38.490496903039826, 35.895818430155764, 52.35104722271287, 62.00392469846199, 61.07822125254642, 62.98419527717879, 96.24841401036315, 54.12684347743903, 66.76361687426132, 226.98002797829648, 34.944119008906526, 121.3094491669943, 31.0481665652022, 174.98258770113077, 78.67506786370645, 458.0586356555872, 282.80150578252915, 122.34212290310641, 330.99082223300024, 249.910354353293, 160.2645942523847, 473.4244441835727, 118.41565378010283, 191.546570393067, 305.0950579789322, 225.2143062884055, 148.10065719188364, 143.30644935135558, 269.5667966825698, 394.0545962922089, 636.1345876488601, 571.8583705522403, 426.26285670831, 622.7998525123228, 222.68690637630098, 206.66394837635113, 269.33970776704996, 216.150878236945, 240.79017977337304, 200.9738341574328, 216.28458210454355, 201.65049538863917, 204.20127240322864, 399.07430281571897, 349.67055572695995, 227.3064651660847, 332.1662191828434, 146.0690766664511, 86.80648796537722, 40.08298623114194, 75.67937551723405, 121.47464828972163, 152.2296137310608, 165.19675782036734, 348.96687262744945, 403.4041117416828, 983.1873432987679, 51.56850525587828, 233.1616827652727, 574.4502719006964, 245.13378640104204, 865.974366636965, 544.1679792481982, 63.071790084439314, 47.080747087418395, 50.75701124906107, 143.296120880697, 116.02112255549847, 103.8757589008541, 101.32453278198058, 221.86736786131877, 197.65351902787052, 56.85357130422072, 207.29549531073906, 189.18558533002462, 730.1328063002841, 455.18220410783886, 695.6468483294213, 404.7201527484232, 490.64205363658965, 248.38711379541073, 310.56131932958897, 213.13787544797654, 740.7309906286387, 742.4686928856003, 273.0912914996275, 354.35279138612975, 325.6191867360052, 392.6834046283303, 275.4824425142504, 208.38386338117732, 1219.2745878091048, 255.4221564833767, 189.52713690369137, 188.29286612936153, 175.3389793432658, 91.33478428894085, 78.7871637717262, 59.66887823560568, 833.819132403497, 204.83423370466957, 267.1148055092098, 178.55101068186505, 186.44171420207758, 148.01596563761106, 68.11482473233973, 143.81701525221766, 42.76940815467601, 322.80887713542774, 87.97606889049507, 305.5281783154856, 28.26281770530907, 72.98644252037445, 61.79319574261622, 113.78998463992984, 42.60679813748061, 549.1123001236165, 60.74043911501445, 33.924161860426885, 2993.005805725697, 30.5783465782316, 104.99053001295532, 410.81600799860837, 318.60515077878836, 1664.38464801534, 542.4206740991226, 653.2315604163184, 277.8227509578001, 899.9049910775713, 176.4982147062325, 502.3429025529923, 746.4380351248597, 281.54092629095743, 441.7403310185851, 126.88597927007744, 152.12541650100462, 143.29459118837426], \"Total\": [8945.0, 4913.0, 6164.0, 9246.0, 6821.0, 2808.0, 2340.0, 2665.0, 7814.0, 3426.0, 5705.0, 2501.0, 2181.0, 4441.0, 1220.0, 2034.0, 1934.0, 4945.0, 1236.0, 1793.0, 2679.0, 2384.0, 1941.0, 942.0, 875.0, 992.0, 1186.0, 1833.0, 879.0, 963.0, 485.69227507286035, 467.1899842344256, 414.1162107547379, 381.8723297054447, 370.58454609721707, 261.0723576351235, 236.0201928395489, 225.87865811269754, 209.08039653092183, 186.8803594232351, 185.0473095447467, 176.5169117996016, 176.36850490886468, 163.0829397379903, 162.2387972759848, 162.2378847680476, 158.86121776830996, 154.63733202420985, 152.23900956341564, 150.41348934601015, 149.56777504174008, 132.58261365165703, 130.98394681366372, 118.3108934287547, 104.79618448300641, 99.7281563418238, 95.87556966531486, 88.7475747237259, 77.76466741485234, 75.37584127055746, 368.32191685756845, 751.9662966303985, 519.9295943870367, 8945.001810766515, 1941.2855952233538, 2679.8599494284804, 481.3074813285437, 467.4087567642179, 210.29284268181266, 1259.5188816229074, 362.9799224096731, 363.13072064397556, 588.9116221793167, 424.3122639061897, 4441.726393909047, 661.2665311320095, 3171.1670138153654, 2468.9284783470425, 561.0422508638135, 926.3843527919759, 5705.3899861726695, 2838.4623296798763, 1145.7611011151498, 4945.394731031536, 1810.9375963239247, 1000.7361723342515, 1033.0548864694485, 2547.0968959622696, 1305.6348281742105, 138.84493093422142, 46.45331754988806, 963.91501049252, 783.1637815180354, 105.69244968578752, 53.132510384621185, 498.95175192145325, 126.6433501127026, 4913.708828863163, 2501.2269086874658, 146.3027506810895, 84.48975804499322, 61.766335131560915, 69.06465050940942, 94.21678488521012, 6821.39382122746, 77.81480014989292, 706.1467175724334, 9246.573730654374, 120.3539370695619, 226.98933081839897, 102.2522714885058, 1295.175573545875, 527.1924839215962, 4441.726393909047, 171.92820304510013, 776.5687648103469, 152.89249849034127, 222.88766300819697, 68.40077859393556, 342.7577284916431, 1167.1623605993937, 1258.5163358243096, 460.8803980666816, 8945.001810766515, 5705.3899861726695, 548.0823188993414, 366.8370715105085, 1259.5188816229074, 1216.6598695936048, 413.01622043394354, 630.3585386177542, 1941.2855952233538, 2679.8599494284804, 570.0986398966477, 2468.9284783470425, 2547.0968959622696, 591.9961765320153, 209.47886486500212, 156.41037011443103, 112.62981298404634, 91.80784801779575, 82.97975188390048, 74.63637635302722, 74.19485395400979, 71.44367500319946, 71.10311296321751, 65.04647595727938, 63.21601384161977, 63.167741977805534, 61.350163072178596, 49.21664700732872, 50.15592030466294, 48.371611028667026, 34.03360348526506, 254.24889532931084, 83.73251368321831, 48.375996101714, 345.30015820669297, 201.01902073900496, 167.55194999792022, 57.9888138880267, 165.13355079196495, 89.8906883499094, 957.978442131172, 312.00546071562894, 79.39576009445169, 2181.4605618729433, 1934.7123821026373, 3426.528591316468, 1064.9766455983013, 649.8081288460992, 259.8407978409131, 1793.053783720601, 4945.394731031536, 1087.8966578050472, 378.7791267554954, 1833.402566366312, 1507.1138813294085, 177.19751338938397, 426.24324948736796, 206.1349755150254, 552.7624156555472, 304.8948069725723, 2838.4623296798763, 1284.3466716068249, 1407.8801224783633, 866.2639038591883, 1810.9375963239247, 6164.654828863557, 1216.6598695936048, 9246.573730654374, 1074.7404164155946, 535.9461657603604, 879.0839108248862, 787.6350497480095, 367.94791738785545, 276.7744430437856, 149.07167767394714, 132.64391546091187, 100.96540057549021, 97.96036793947613, 70.5735257325099, 47.36335848147298, 702.449282526629, 76.91887717161869, 76.09053590904918, 57.47703065379576, 334.44350042759174, 55.9955916448994, 107.81949493908594, 107.81031207356052, 248.23315617179296, 65.46129100484855, 65.85945054950616, 58.397503474063875, 57.26640368905923, 228.03165809392436, 264.8245787253859, 105.76250123486089, 52.41742138991439, 161.89324732645505, 77.24505260395607, 181.0204147953253, 499.8037115690646, 2034.2480294437785, 863.1701874848754, 1491.1456502135811, 265.8276804042411, 2384.991990091838, 199.5044339129716, 328.4567300273775, 277.8114997900827, 1934.7123821026373, 457.51690482928853, 320.9351066525202, 401.71013853600994, 353.90356997973527, 7814.319209483681, 2181.4605618729433, 3171.1670138153654, 657.9517017813815, 426.24324948736796, 636.1212736820208, 9246.573730654374, 4945.394731031536, 601.5431074847692, 6164.654828863557, 4441.726393909047, 2838.4623296798763, 1305.6348281742105, 1810.9375963239247, 297.1522511984067, 336.0825968621751, 117.00238548943463, 64.81329358361872, 48.16443312303674, 48.12117153634388, 45.906222055751485, 615.5046576169399, 92.93662124703363, 66.2955045287627, 106.00254845943537, 87.64413723989465, 60.15408271274928, 181.3596071368519, 98.75033784656483, 201.47666617823134, 246.7630445919574, 102.99593125281335, 84.3837482691387, 112.59126992882214, 304.5277344990229, 174.1617143628737, 80.81919780439738, 447.8086513016818, 95.59836629398876, 54.035423088921505, 155.53137475572274, 154.1227240288405, 146.39640389696072, 226.288974157617, 376.1030731152341, 486.32632883556835, 7814.319209483681, 949.3408500718252, 548.0823188993414, 1810.9375963239247, 1284.3466716068249, 301.688641583492, 912.7709945959393, 926.3843527919759, 4913.708828863163, 1258.5163358243096, 3171.1670138153654, 776.5687648103469, 1216.6598695936048, 6821.39382122746, 471.947896100046, 2384.991990091838, 2838.4623296798763, 4441.726393909047, 9246.573730654374, 1833.402566366312, 564.7800073029622, 1295.175573545875, 4945.394731031536, 1867.9612391586022, 1051.7714574036386, 942.72218494091, 421.4364400369212, 193.41492295466202, 444.9903662808753, 149.47789387790175, 127.57907532974534, 83.05958300107382, 59.843483832444306, 2808.052386254738, 202.94649958204522, 257.4815305654535, 135.50853571178095, 67.13533572079488, 113.34459329486758, 255.9895131639398, 110.73873444314297, 40.05537909487598, 149.23042160212563, 58.96024484265443, 58.20231513536288, 653.6307621748989, 48.63084244116842, 204.2683498586654, 125.31032102343929, 348.12569539155305, 400.8412701961809, 259.3793806807113, 253.51165739920495, 84.91941962833918, 254.84868088235356, 353.8222824786293, 844.9501128227881, 927.8326675635083, 423.05279885211155, 196.8248784824299, 7814.319209483681, 6164.654828863557, 2468.9284783470425, 9246.573730654374, 2384.991990091838, 3426.528591316468, 538.0980161631703, 4945.394731031536, 1053.6262685153197, 1145.7611011151498, 1087.8966578050472, 1305.6348281742105, 2838.4623296798763, 6821.39382122746, 2034.2480294437785, 1491.1456502135811, 2340.6057023225135, 260.25552629927574, 68.98381268427754, 50.68536269058394, 42.13407996105212, 58.858371289786845, 467.26684008468857, 142.08343820263062, 2665.5729717480567, 683.798107696718, 992.4824914484825, 75.05987308779606, 280.01823836322205, 188.49885523161927, 61.04525924952739, 322.51553963915904, 105.80646821244419, 326.9959098560717, 114.02609759926845, 46.88340571371143, 689.2921815051744, 50.112900727621515, 139.63954165517993, 507.9280879652658, 239.1625980516858, 130.55242952296817, 138.1806708668786, 70.91489227254212, 147.28905649475917, 57.76462651408361, 85.90144188982713, 183.1217170399464, 272.84032216376494, 1000.7361723342515, 238.18897264223756, 6164.654828863557, 5705.3899861726695, 996.2810341621627, 455.28129033459595, 1867.9612391586022, 2468.9284783470425, 1491.1456502135811, 2547.0968959622696, 2034.2480294437785, 316.4955479030217, 1053.6262685153197, 4945.394731031536, 7814.319209483681, 561.0422508638135, 3426.528591316468, 4441.726393909047, 2384.991990091838, 254.3118489778206, 237.68752598105627, 180.68824296881957, 165.36013774107622, 120.2038319705832, 103.80848981051926, 67.64143254598065, 47.73940889519303, 41.6723483978397, 295.4171233637495, 183.03219431100675, 66.494156710215, 125.56185881242112, 372.6662925502302, 230.32043813121697, 95.96153494188924, 63.954650915457755, 54.91661027138998, 51.58373512248559, 75.86365008010551, 89.87957124964747, 89.43091322208481, 93.79579907103668, 147.89178359262266, 83.32206676824497, 107.40230563850918, 366.8370715105085, 56.73666741548441, 199.79361891993307, 51.14332380626476, 290.79934605634486, 131.00228297347073, 1033.0548864694485, 605.1329916722113, 223.93201653540947, 761.4417420856723, 570.0986398966477, 324.297421383484, 1407.8801224783633, 220.77489351591316, 437.1299999563332, 857.511141331596, 630.3585386177542, 340.0747032347382, 354.21098205413494, 1167.1623605993937, 2547.0968959622696, 6821.39382122746, 5705.3899861726695, 3171.1670138153654, 7814.319209483681, 859.9264564488003, 912.7709945959393, 2384.991990091838, 1236.559384991679, 1867.9612391586022, 1145.7611011151498, 1810.9375963239247, 1833.402566366312, 2501.2269086874658, 399.90249153689456, 350.4949784834185, 228.1308971043367, 336.60721130792285, 149.1810002310347, 95.63578466437555, 44.22348827984955, 83.86972068630543, 135.47189443545997, 170.60407562708372, 191.2266532707786, 430.14044244319365, 502.9231372280436, 1236.559384991679, 65.05632499082742, 299.9320771923243, 743.4611026427289, 324.1284867145599, 1186.2249760610746, 746.1280603322188, 91.10593770265247, 68.73420793826415, 75.49121715883184, 219.3247544366714, 179.69527114834995, 167.00887998073998, 164.40612112567595, 367.17901023547734, 332.3170988447363, 97.2123262957153, 357.3089921112154, 339.86452515027173, 1793.053783720601, 1074.7404164155946, 1833.402566366312, 1030.351316015415, 1507.1138813294085, 768.2316812329157, 1216.6598695936048, 598.2780778383772, 7814.319209483681, 9246.573730654374, 1064.9766455983013, 3171.1670138153654, 2665.5729717480567, 6164.654828863557, 2838.4623296798763, 758.8371481573419, 1220.1000474125674, 256.2477060485162, 190.3526232822814, 189.11833131835516, 176.1644527742536, 92.1602301424243, 79.61262348951178, 60.49434825932964, 875.8865047422007, 216.66627113382293, 288.67939273448803, 195.8101110524272, 210.7229435497091, 182.8792147686538, 85.60768506791624, 192.19748989826533, 57.48753781895301, 440.49512105584756, 129.15727266072565, 455.28129033459595, 46.69605198797561, 121.34975769822877, 104.13447091568517, 195.10069882912973, 76.87118154802297, 1053.6262685153197, 118.82228258058663, 67.38242749739992, 6164.654828863557, 70.89401123538698, 247.0509126869673, 996.2810341621627, 812.3627794145239, 5705.3899861726695, 1867.9612391586022, 2547.0968959622696, 866.2639038591883, 4945.394731031536, 538.0980161631703, 3426.528591316468, 7814.319209483681, 1507.1138813294085, 9246.573730654374, 426.3117956229095, 1258.5163358243096, 1284.3466716068249], \"Category\": [\"Default\", \"Default\", \"Default\", \"Default\", \"Default\", \"Default\", \"Default\", \"Default\", \"Default\", \"Default\", \"Default\", \"Default\", \"Default\", \"Default\", \"Default\", \"Default\", \"Default\", \"Default\", \"Default\", \"Default\", \"Default\", \"Default\", \"Default\", \"Default\", \"Default\", \"Default\", \"Default\", \"Default\", \"Default\", \"Default\", \"Topic1\", \"Topic1\", \"Topic1\", \"Topic1\", \"Topic1\", \"Topic1\", \"Topic1\", \"Topic1\", \"Topic1\", \"Topic1\", \"Topic1\", \"Topic1\", \"Topic1\", \"Topic1\", \"Topic1\", \"Topic1\", \"Topic1\", \"Topic1\", \"Topic1\", \"Topic1\", \"Topic1\", \"Topic1\", \"Topic1\", \"Topic1\", \"Topic1\", \"Topic1\", \"Topic1\", \"Topic1\", \"Topic1\", \"Topic1\", \"Topic1\", \"Topic1\", \"Topic1\", \"Topic1\", \"Topic1\", \"Topic1\", \"Topic1\", \"Topic1\", \"Topic1\", \"Topic1\", \"Topic1\", \"Topic1\", \"Topic1\", \"Topic1\", \"Topic1\", \"Topic1\", \"Topic1\", \"Topic1\", \"Topic1\", \"Topic1\", \"Topic1\", \"Topic1\", \"Topic1\", \"Topic1\", \"Topic1\", \"Topic1\", \"Topic1\", \"Topic1\", \"Topic1\", \"Topic2\", \"Topic2\", \"Topic2\", \"Topic2\", \"Topic2\", \"Topic2\", \"Topic2\", \"Topic2\", \"Topic2\", \"Topic2\", \"Topic2\", \"Topic2\", \"Topic2\", \"Topic2\", \"Topic2\", \"Topic2\", \"Topic2\", \"Topic2\", \"Topic2\", \"Topic2\", \"Topic2\", \"Topic2\", \"Topic2\", \"Topic2\", \"Topic2\", \"Topic2\", \"Topic2\", \"Topic2\", \"Topic2\", \"Topic2\", \"Topic2\", \"Topic2\", \"Topic2\", \"Topic2\", \"Topic2\", \"Topic2\", \"Topic2\", \"Topic2\", \"Topic2\", \"Topic2\", \"Topic2\", \"Topic2\", \"Topic2\", \"Topic2\", \"Topic2\", \"Topic2\", \"Topic2\", \"Topic3\", \"Topic3\", \"Topic3\", \"Topic3\", \"Topic3\", \"Topic3\", \"Topic3\", \"Topic3\", \"Topic3\", \"Topic3\", \"Topic3\", \"Topic3\", \"Topic3\", \"Topic3\", \"Topic3\", \"Topic3\", \"Topic3\", \"Topic3\", \"Topic3\", \"Topic3\", \"Topic3\", \"Topic3\", \"Topic3\", \"Topic3\", \"Topic3\", \"Topic3\", \"Topic3\", \"Topic3\", \"Topic3\", \"Topic3\", \"Topic3\", \"Topic3\", \"Topic3\", \"Topic3\", \"Topic3\", \"Topic3\", \"Topic3\", \"Topic3\", \"Topic3\", \"Topic3\", \"Topic3\", \"Topic3\", \"Topic3\", \"Topic3\", \"Topic3\", \"Topic3\", \"Topic3\", \"Topic3\", \"Topic3\", \"Topic3\", \"Topic3\", \"Topic3\", \"Topic3\", \"Topic3\", \"Topic3\", \"Topic3\", \"Topic3\", \"Topic4\", \"Topic4\", \"Topic4\", \"Topic4\", \"Topic4\", \"Topic4\", \"Topic4\", \"Topic4\", \"Topic4\", \"Topic4\", \"Topic4\", \"Topic4\", \"Topic4\", \"Topic4\", \"Topic4\", \"Topic4\", \"Topic4\", \"Topic4\", \"Topic4\", \"Topic4\", \"Topic4\", \"Topic4\", \"Topic4\", \"Topic4\", \"Topic4\", \"Topic4\", \"Topic4\", \"Topic4\", \"Topic4\", \"Topic4\", \"Topic4\", \"Topic4\", \"Topic4\", \"Topic4\", \"Topic4\", \"Topic4\", \"Topic4\", \"Topic4\", \"Topic4\", \"Topic4\", \"Topic4\", \"Topic4\", \"Topic4\", \"Topic4\", \"Topic4\", \"Topic4\", \"Topic4\", \"Topic4\", \"Topic4\", \"Topic4\", \"Topic4\", \"Topic4\", \"Topic4\", \"Topic4\", \"Topic4\", \"Topic4\", \"Topic4\", \"Topic4\", \"Topic5\", \"Topic5\", \"Topic5\", \"Topic5\", \"Topic5\", \"Topic5\", \"Topic5\", \"Topic5\", \"Topic5\", \"Topic5\", \"Topic5\", \"Topic5\", \"Topic5\", \"Topic5\", \"Topic5\", \"Topic5\", \"Topic5\", \"Topic5\", \"Topic5\", \"Topic5\", \"Topic5\", \"Topic5\", \"Topic5\", \"Topic5\", \"Topic5\", \"Topic5\", \"Topic5\", \"Topic5\", \"Topic5\", \"Topic5\", \"Topic5\", \"Topic5\", \"Topic5\", \"Topic5\", \"Topic5\", \"Topic5\", \"Topic5\", \"Topic5\", \"Topic5\", \"Topic5\", \"Topic5\", \"Topic5\", \"Topic5\", \"Topic5\", \"Topic5\", \"Topic5\", \"Topic5\", \"Topic5\", \"Topic5\", \"Topic5\", \"Topic5\", \"Topic5\", \"Topic5\", \"Topic5\", \"Topic5\", \"Topic5\", \"Topic5\", \"Topic6\", \"Topic6\", \"Topic6\", \"Topic6\", \"Topic6\", \"Topic6\", \"Topic6\", \"Topic6\", \"Topic6\", \"Topic6\", \"Topic6\", \"Topic6\", \"Topic6\", \"Topic6\", \"Topic6\", \"Topic6\", \"Topic6\", \"Topic6\", \"Topic6\", \"Topic6\", \"Topic6\", \"Topic6\", \"Topic6\", \"Topic6\", \"Topic6\", \"Topic6\", \"Topic6\", \"Topic6\", \"Topic6\", \"Topic6\", \"Topic6\", \"Topic6\", \"Topic6\", \"Topic6\", \"Topic6\", \"Topic6\", \"Topic6\", \"Topic6\", \"Topic6\", \"Topic6\", \"Topic6\", \"Topic6\", \"Topic6\", \"Topic6\", \"Topic6\", \"Topic6\", \"Topic6\", \"Topic6\", \"Topic6\", \"Topic6\", \"Topic6\", \"Topic7\", \"Topic7\", \"Topic7\", \"Topic7\", \"Topic7\", \"Topic7\", \"Topic7\", \"Topic7\", \"Topic7\", \"Topic7\", \"Topic7\", \"Topic7\", \"Topic7\", \"Topic7\", \"Topic7\", \"Topic7\", \"Topic7\", \"Topic7\", \"Topic7\", \"Topic7\", \"Topic7\", \"Topic7\", \"Topic7\", \"Topic7\", \"Topic7\", \"Topic7\", \"Topic7\", \"Topic7\", \"Topic7\", \"Topic7\", \"Topic7\", \"Topic7\", \"Topic7\", \"Topic7\", \"Topic7\", \"Topic7\", \"Topic7\", \"Topic7\", \"Topic7\", \"Topic7\", \"Topic7\", \"Topic7\", \"Topic7\", \"Topic7\", \"Topic7\", \"Topic7\", \"Topic7\", \"Topic7\", \"Topic7\", \"Topic7\", \"Topic7\", \"Topic7\", \"Topic8\", \"Topic8\", \"Topic8\", \"Topic8\", \"Topic8\", \"Topic8\", \"Topic8\", \"Topic8\", \"Topic8\", \"Topic8\", \"Topic8\", \"Topic8\", \"Topic8\", \"Topic8\", \"Topic8\", \"Topic8\", \"Topic8\", \"Topic8\", \"Topic8\", \"Topic8\", \"Topic8\", \"Topic8\", \"Topic8\", \"Topic8\", \"Topic8\", \"Topic8\", \"Topic8\", \"Topic8\", \"Topic8\", \"Topic8\", \"Topic8\", \"Topic8\", \"Topic8\", \"Topic8\", \"Topic8\", \"Topic8\", \"Topic8\", \"Topic8\", \"Topic8\", \"Topic8\", \"Topic8\", \"Topic8\", \"Topic8\", \"Topic8\", \"Topic8\", \"Topic8\", \"Topic8\", \"Topic8\", \"Topic8\", \"Topic8\", \"Topic8\", \"Topic8\", \"Topic8\", \"Topic8\", \"Topic8\", \"Topic8\", \"Topic8\", \"Topic8\", \"Topic8\", \"Topic8\", \"Topic9\", \"Topic9\", \"Topic9\", \"Topic9\", \"Topic9\", \"Topic9\", \"Topic9\", \"Topic9\", \"Topic9\", \"Topic9\", \"Topic9\", \"Topic9\", \"Topic9\", \"Topic9\", \"Topic9\", \"Topic9\", \"Topic9\", \"Topic9\", \"Topic9\", \"Topic9\", \"Topic9\", \"Topic9\", \"Topic9\", \"Topic9\", \"Topic9\", \"Topic9\", \"Topic9\", \"Topic9\", \"Topic9\", \"Topic9\", \"Topic9\", \"Topic9\", \"Topic9\", \"Topic9\", \"Topic9\", \"Topic9\", \"Topic9\", \"Topic9\", \"Topic9\", \"Topic9\", \"Topic9\", \"Topic9\", \"Topic9\", \"Topic9\", \"Topic9\", \"Topic9\", \"Topic9\", \"Topic9\", \"Topic10\", \"Topic10\", \"Topic10\", \"Topic10\", \"Topic10\", \"Topic10\", \"Topic10\", \"Topic10\", \"Topic10\", \"Topic10\", \"Topic10\", \"Topic10\", \"Topic10\", \"Topic10\", \"Topic10\", \"Topic10\", \"Topic10\", \"Topic10\", \"Topic10\", \"Topic10\", \"Topic10\", \"Topic10\", \"Topic10\", \"Topic10\", \"Topic10\", \"Topic10\", \"Topic10\", \"Topic10\", \"Topic10\", \"Topic10\", \"Topic10\", \"Topic10\", \"Topic10\", \"Topic10\", \"Topic10\", \"Topic10\", \"Topic10\", \"Topic10\", \"Topic10\", \"Topic10\", \"Topic10\", \"Topic10\", \"Topic10\", \"Topic10\", \"Topic10\", \"Topic10\"], \"logprob\": [30.0, 29.0, 28.0, 27.0, 26.0, 25.0, 24.0, 23.0, 22.0, 21.0, 20.0, 19.0, 18.0, 17.0, 16.0, 15.0, 14.0, 13.0, 12.0, 11.0, 10.0, 9.0, 8.0, 7.0, 6.0, 5.0, 4.0, 3.0, 2.0, 1.0, -4.839200019836426, -4.8780999183654785, -4.998899936676025, -5.080100059509277, -5.110199928283691, -5.461299896240234, -5.5625, -5.606599807739258, -5.684100151062012, -5.796800136566162, -5.806700229644775, -5.854100227355957, -5.854899883270264, -5.933599948883057, -5.938799858093262, -5.938799858093262, -5.960000038146973, -5.986999988555908, -6.002699851989746, -6.014900207519531, -6.020500183105469, -6.14169979095459, -6.153900146484375, -6.25629997253418, -6.378399848937988, -6.428400039672852, -6.468100070953369, -6.546000003814697, -6.679299831390381, -6.7108001708984375, -5.134799957275391, -4.432199954986572, -4.814899921417236, -2.074399948120117, -3.56030011177063, -3.254499912261963, -4.9045000076293945, -4.94980001449585, -5.731900215148926, -4.174099922180176, -5.300099849700928, -5.323599815368652, -4.96019983291626, -5.266600131988525, -3.667099952697754, -4.978300094604492, -3.920799970626831, -4.088799953460693, -5.10699987411499, -4.797299861907959, -3.940200090408325, -4.352499961853027, -4.873799800872803, -4.319499969482422, -4.755199909210205, -5.041299819946289, -5.0690999031066895, -4.883900165557861, -5.036099910736084, -5.387800216674805, -6.494200229644775, -3.4820001125335693, -3.7607998847961426, -5.782800197601318, -6.490799903869629, -4.259300231933594, -5.6570000648498535, -2.0081000328063965, -2.686000108718872, -5.552700042724609, -6.1371002197265625, -6.508299827575684, -6.4253997802734375, -6.131999969482422, -1.8906999826431274, -6.40500020980835, -4.256400108337402, -1.7517999410629272, -6.105899810791016, -5.5295000076293945, -6.330699920654297, -3.8336000442504883, -4.805200099945068, -2.741300106048584, -5.998300075531006, -4.541100025177002, -6.171599864959717, -5.822199821472168, -7.021900177001953, -5.473100185394287, -4.346099853515625, -4.326600074768066, -5.234099864959717, -3.187999963760376, -3.586899995803833, -5.209199905395508, -5.517099857330322, -4.866799831390381, -4.91540002822876, -5.551199913024902, -5.392000198364258, -5.024899959564209, -5.073800086975098, -5.497200012207031, -5.418600082397461, -5.51140022277832, -3.8612000942230225, -4.902599811553955, -5.196100234985352, -5.526500225067139, -5.732600212097168, -5.83459997177124, -5.941699981689453, -5.947700023651123, -5.985899925231934, -5.990799903869629, -6.080900192260742, -6.109799861907959, -6.110599994659424, -6.140200138092041, -6.363900184631348, -6.345200061798096, -6.381499767303467, -6.740300178527832, -4.732600212097168, -5.957099914550781, -6.507699966430664, -4.545000076293945, -5.087500095367432, -5.279099941253662, -6.351099967956543, -5.311999797821045, -5.922900199890137, -3.574700117111206, -4.6971001625061035, -6.1427001953125, -2.849100112915039, -3.142199993133545, -2.6259000301361084, -3.7023000717163086, -4.158299922943115, -5.021699905395508, -3.5385000705718994, -2.96589994430542, -4.121500015258789, -4.910200119018555, -3.890399932861328, -4.07390022277832, -5.454500198364258, -4.920199871063232, -5.384300231933594, -4.887899875640869, -5.2129998207092285, -4.084099769592285, -4.494900226593018, -4.489699840545654, -4.798099994659424, -4.579599857330322, -4.154200077056885, -4.765500068664551, -4.252299785614014, -4.971399784088135, -5.054699897766113, -3.415800094604492, -3.5257999897003174, -4.288099765777588, -4.575099945068359, -5.194900035858154, -5.312300205230713, -5.587200164794922, -5.618199825286865, -5.94890022277832, -6.353499889373779, -3.683300018310547, -5.938199996948242, -5.951700210571289, -6.236700057983398, -4.47760009765625, -6.29040002822876, -5.639100074768066, -5.6458001136779785, -4.84250020980835, -6.1793999671936035, -6.173699855804443, -6.2957000732421875, -6.317999839782715, -4.947000026702881, -4.810200214385986, -5.728099822998047, -6.455699920654297, -5.329400062561035, -6.081900119781494, -5.259399890899658, -4.2480998039245605, -2.887399911880493, -3.731300115585327, -3.350800037384033, -4.948800086975098, -3.209199905395508, -5.26170015335083, -4.86329984664917, -5.004499912261963, -3.613600015640259, -4.701200008392334, -4.948299884796143, -4.80810022354126, -4.913300037384033, -3.1338999271392822, -3.8761000633239746, -3.8376998901367188, -4.65339994430542, -4.887599945068359, -4.709099769592285, -3.5518999099731445, -3.8833000659942627, -4.77370023727417, -4.494900226593018, -4.685299873352051, -4.752799987792969, -4.811100006103516, -4.845799922943115, -4.461299896240234, -4.341000080108643, -5.397600173950195, -5.994100093841553, -6.295400142669678, -6.296299934387207, -6.344299793243408, -3.795799970626831, -5.690400123596191, -6.0441999435424805, -5.579999923706055, -5.782199859619141, -6.177499771118164, -5.08620023727417, -5.694499969482422, -4.994200229644775, -4.847099781036377, -5.729499816894531, -5.946199893951416, -5.667799949645996, -4.710299968719482, -5.291600227355957, -6.122700214385986, -4.416399955749512, -5.972700119018555, -6.561500072479248, -5.536399841308594, -5.567399978637695, -5.622600078582764, -5.204100131988525, -4.708600044250488, -4.5777997970581055, -2.3729000091552734, -4.188399791717529, -4.635700225830078, -3.916100025177002, -4.156000137329102, -5.106800079345703, -4.400000095367432, -4.450300216674805, -3.4254000186920166, -4.3368000984191895, -3.8743999004364014, -4.668700218200684, -4.442999839782715, -3.638400077819824, -4.9552001953125, -4.205399990081787, -4.157899856567383, -4.109300136566162, -3.9274001121520996, -4.481800079345703, -4.934199810028076, -4.718200206756592, -4.441500186920166, -4.654699802398682, -4.82480001449585, -3.303100109100342, -4.109399795532227, -4.890600204467773, -4.058000087738037, -5.149499893188477, -5.308800220489502, -5.741499900817871, -6.073299884796143, -2.225100040435791, -4.90939998626709, -4.686500072479248, -5.339700222015381, -6.043000221252441, -5.525599956512451, -4.726500034332275, -5.611700057983398, -6.642399787902832, -5.330999851226807, -6.260799884796143, -6.293600082397461, -3.886899948120117, -6.4928998947143555, -5.131199836730957, -5.622600078582764, -4.6194000244140625, -4.485300064086914, -4.923500061035156, -4.947400093078613, -6.080999851226807, -5.045499801635742, -4.718900203704834, -3.898099899291992, -3.824899911880493, -4.585000038146973, -5.355000019073486, -2.7911999225616455, -3.230299949645996, -3.8798000812530518, -3.1268999576568604, -3.933799982070923, -3.7432000637054443, -4.792799949645996, -3.9066998958587646, -4.5493998527526855, -4.5482001304626465, -4.597700119018555, -4.557199954986572, -4.401599884033203, -4.386000156402588, -4.628300189971924, -4.750999927520752, -2.2923998832702637, -4.491799831390381, -5.828499794006348, -6.14109992980957, -6.32919979095459, -6.032100200653076, -3.9944000244140625, -5.196000099182129, -2.2927000522613525, -3.6839001178741455, -3.3238000869750977, -5.933300018310547, -4.654600143432617, -5.077700138092041, -6.23960018157959, -4.620299816131592, -5.736100196838379, -4.615900039672852, -5.676199913024902, -6.5833001136779785, -3.910900115966797, -6.542900085449219, -5.520400047302246, -4.232100009918213, -5.019000053405762, -5.65749979019165, -5.610899925231934, -6.35290002822876, -5.627399921417236, -6.581999778747559, -6.192500114440918, -5.500800132751465, -5.148399829864502, -4.098999977111816, -5.339900016784668, -3.1168999671936035, -3.2197999954223633, -4.372499942779541, -5.046299934387207, -4.3678998947143555, -4.249800205230713, -4.502799987792969, -4.258600234985352, -4.368500232696533, -5.2484002113342285, -4.73199987411499, -4.123000144958496, -3.9479000568389893, -5.089900016784668, -4.696400165557861, -4.948599815368652, -5.030900001525879, -4.466899871826172, -4.534800052642822, -4.809999942779541, -4.899099826812744, -5.219900131225586, -5.367599964141846, -5.80019998550415, -6.153800010681152, -6.292200088500977, -4.39769983291626, -4.877399921417236, -5.942200183868408, -5.332200050354004, -4.280399799346924, -4.7957000732421875, -5.720200061798096, -6.1290998458862305, -6.351900100708008, -6.421599864959717, -6.044300079345703, -5.875100135803223, -5.890100002288818, -5.859399795532227, -5.435299873352051, -6.010900020599365, -5.80109977722168, -4.577400207519531, -6.448500156402588, -5.20389986038208, -6.566699981689453, -4.837600231170654, -5.636899948120117, -3.8752999305725098, -4.357500076293945, -5.195400238037109, -4.200200080871582, -4.481200218200684, -4.9253997802734375, -3.8422999382019043, -5.228099822998047, -4.747099876403809, -4.281599998474121, -4.58519983291626, -5.00439977645874, -5.037300109863281, -4.4054999351501465, -4.0258002281188965, -3.5469000339508057, -3.65339994430542, -3.947200059890747, -3.568000078201294, -4.596499919891357, -4.671199798583984, -4.406300067901611, -4.626299858093262, -4.5183000564575195, -4.699100017547607, -4.625699996948242, -4.695700168609619, -4.683199882507324, -3.895900011062622, -4.02810001373291, -4.458799839019775, -4.079500198364258, -4.901000022888184, -5.42140007019043, -6.1940999031066895, -5.558599948883057, -5.085400104522705, -4.8597002029418945, -4.7779998779296875, -4.030099868774414, -3.885200023651123, -2.99429988861084, -5.942200183868408, -4.4334001541137695, -3.5316998958587646, -4.383299827575684, -3.1212000846862793, -3.5857999324798584, -5.740799903869629, -6.033199787139893, -5.958000183105469, -4.920199871063232, -5.13129997253418, -5.2418999671936035, -5.2667999267578125, -4.482999801635742, -4.598599910736084, -5.844600200653076, -4.550899982452393, -4.642399787902832, -3.2918999195098877, -3.764400005340576, -3.3403000831604004, -3.8819000720977783, -3.6893999576568604, -4.370100021362305, -4.146699905395508, -4.523200035095215, -3.2774999141693115, -3.275099992752075, -4.275300025939941, -4.014800071716309, -4.099400043487549, -3.912100076675415, -4.266600131988525, -4.5457000732421875, -2.7720999717712402, -4.33519983291626, -4.633600234985352, -4.640100002288818, -4.711400032043457, -5.36359977722168, -5.51140022277832, -5.789299964904785, -3.152100086212158, -4.5559000968933105, -4.29040002822876, -4.69320011138916, -4.650000095367432, -4.880799770355225, -5.656899929046631, -4.909599781036377, -6.122300148010254, -4.10099983215332, -5.401000022888184, -4.156099796295166, -6.536600112915039, -5.587800025939941, -5.754300117492676, -5.143700122833252, -6.126100063323975, -3.5697999000549316, -5.771500110626221, -6.354000091552734, -1.8740999698638916, -6.457799911499023, -5.2241997718811035, -3.859999895095825, -4.114200115203857, -2.460900068283081, -3.5820999145507812, -3.396199941635132, -4.251100063323975, -3.0757999420166016, -4.704800128936768, -3.658799886703491, -3.2627999782562256, -4.237800121307373, -3.787400007247925, -5.034800052642822, -4.853400230407715, -4.9131999015808105], \"loglift\": [30.0, 29.0, 28.0, 27.0, 26.0, 25.0, 24.0, 23.0, 22.0, 21.0, 20.0, 19.0, 18.0, 17.0, 16.0, 15.0, 14.0, 13.0, 12.0, 11.0, 10.0, 9.0, 8.0, 7.0, 6.0, 5.0, 4.0, 3.0, 2.0, 1.0, 1.5247, 1.5247, 1.5244, 1.5243, 1.5242, 1.5234, 1.5231, 1.5229, 1.5227, 1.5222, 1.5222, 1.522, 1.522, 1.5216, 1.5216, 1.5216, 1.5215, 1.5214, 1.5213, 1.5212, 1.5212, 1.5206, 1.5205, 1.5199, 1.5191, 1.5187, 1.5184, 1.5177, 1.5165, 1.5162, 1.5058, 1.4946, 1.4809, 1.3762, 1.4181, 1.4015, 1.4685, 1.4525, 1.4691, 1.2369, 1.355, 1.3311, 1.211, 1.2324, 0.4836, 1.077, 0.5669, 0.6491, 1.1127, 0.9209, -0.0398, 0.246, 0.6319, -0.2762, 0.2928, 0.5997, 0.5401, -0.1771, 0.339, 2.2284, 2.2169, 2.1965, 2.1253, 2.1061, 2.0859, 2.0777, 2.0512, 2.0416, 2.039, 2.0111, 1.9758, 1.9178, 1.8891, 1.8719, 1.831, 1.7902, 1.7332, 1.6657, 1.6531, 1.5951, 1.5914, 1.5495, 1.4767, 1.4094, 1.4041, 1.3535, 1.3482, 1.3206, 1.3023, 1.2394, 1.141, 1.0852, 1.1823, 0.2627, 0.3134, 1.0339, 1.1275, 0.5442, 0.5302, 0.9749, 0.7112, -0.0465, -0.4178, 0.7065, -0.6806, -0.8046, 2.3048, 2.3023, 2.301, 2.2989, 2.2972, 2.2963, 2.2952, 2.2951, 2.2947, 2.2946, 2.2935, 2.2932, 2.2931, 2.2928, 2.2894, 2.2892, 2.2891, 2.2818, 2.2786, 2.1648, 2.1628, 2.1601, 2.1586, 2.1491, 2.1381, 2.1307, 2.1281, 2.11, 2.1094, 2.0323, 2.0126, 1.8396, 1.7843, 1.8765, 1.9146, 1.9677, 1.5194, 1.0774, 1.436, 1.7023, 1.1452, 1.1577, 1.9177, 1.5743, 1.8367, 1.3467, 1.6165, 0.5144, 0.8966, 0.8099, 0.9872, 0.4683, -0.3313, 0.6801, -0.8348, 0.5983, 1.2108, 2.3548, 2.3547, 2.3535, 2.3512, 2.3502, 2.3495, 2.3475, 2.3467, 2.344, 2.3381, 2.3116, 2.2685, 2.2659, 2.2614, 2.2594, 2.2339, 2.2299, 2.2233, 2.1926, 2.1887, 2.1883, 2.1865, 2.1838, 2.173, 2.1602, 2.1602, 2.1346, 2.1332, 2.1206, 2.0915, 2.0872, 2.0443, 2.0576, 1.8914, 2.0178, 1.5633, 1.992, 1.8918, 1.9181, 1.3682, 1.7225, 1.83, 1.7457, 1.7672, 0.4519, 0.9856, 0.6499, 1.407, 1.6069, 1.385, -0.1344, 0.16, 1.3763, -0.672, -0.5346, -0.1543, 0.564, 0.2021, 2.394, 2.3912, 2.3897, 2.3839, 2.3795, 2.3794, 2.3786, 2.3313, 2.3272, 2.3112, 2.306, 2.2941, 2.2751, 2.2628, 2.2624, 2.2496, 2.194, 2.1853, 2.1679, 2.1579, 2.1204, 2.0979, 2.0345, 2.0288, 2.0166, 1.9984, 1.9662, 1.9444, 1.9406, 1.9236, 1.911, 1.7848, 1.2129, 1.5054, 1.6073, 1.1318, 1.2355, 1.7333, 1.333, 1.2679, 0.6243, 1.075, 0.6132, 1.226, 1.0026, 0.0833, 1.4374, 0.5672, 0.4406, 0.0414, -0.5099, 0.5538, 1.2789, 0.6649, -0.3982, 0.3622, 0.7665, 2.3976, 2.3965, 2.394, 2.3935, 2.3929, 2.3919, 2.3884, 2.3845, 2.3841, 2.3272, 2.3121, 2.3008, 2.2998, 2.2935, 2.2778, 2.2306, 2.2168, 2.213, 2.2119, 2.192, 2.1801, 2.1724, 2.0989, 2.0961, 2.0775, 2.0706, 2.0677, 2.0667, 2.0268, 1.9633, 1.9618, 1.9121, 1.8917, 1.917, 1.9122, 0.7946, 0.5926, 0.8581, 0.2906, 0.8387, 0.667, 1.4687, 0.1366, 1.0402, 0.9575, 0.9598, 0.8179, 0.1969, -0.6643, 0.3033, 0.4912, 2.4989, 2.4961, 2.4872, 2.4828, 2.4794, 2.4423, 2.4082, 2.3971, 2.3686, 2.338, 2.3255, 2.2979, 2.2601, 2.2327, 2.1983, 2.153, 2.1518, 2.1437, 2.1369, 2.1185, 2.103, 2.0923, 2.09, 2.0871, 2.0534, 2.0202, 2.01, 1.9351, 1.9297, 1.9111, 1.9038, 1.8386, 1.7922, 1.5421, 1.7366, 0.706, 0.6805, 1.273, 1.3823, 0.649, 0.4882, 0.7394, 0.4482, 0.5632, 1.5437, 0.8575, -0.0797, -0.3621, 1.1298, -0.2862, -0.7979, -0.2584, 2.544, 2.5438, 2.5427, 2.5423, 2.5404, 2.5393, 2.5351, 2.53, 2.5274, 2.4634, 2.4624, 2.4102, 2.3845, 2.3484, 2.3144, 2.2654, 2.2622, 2.1918, 2.1847, 2.1763, 2.176, 2.1659, 2.149, 2.1177, 2.1159, 2.0718, 2.0672, 2.0626, 2.0483, 2.0481, 2.0393, 2.0373, 1.734, 1.7865, 1.9427, 1.7141, 1.7225, 1.8424, 1.4574, 1.9243, 1.7221, 1.5138, 1.518, 1.716, 1.6423, 1.0817, 0.681, 0.1748, 0.247, 0.5404, 0.0177, 1.1962, 1.0618, 0.3663, 0.8031, 0.4986, 0.8066, 0.4222, 0.3398, 0.0418, 2.6623, 2.6621, 2.6608, 2.6511, 2.6433, 2.5675, 2.5661, 2.5617, 2.5554, 2.5505, 2.5181, 2.4553, 2.4439, 2.4351, 2.4321, 2.4126, 2.4065, 2.3851, 2.3497, 2.3488, 2.2967, 2.286, 2.2674, 2.2388, 2.2269, 2.1896, 2.1804, 2.1606, 2.1448, 2.128, 2.12, 2.0786, 1.766, 1.8053, 1.6953, 1.73, 1.5422, 1.5353, 1.2989, 1.6323, 0.3083, 0.1424, 1.3035, 0.4728, 0.562, -0.0892, 0.3319, 1.372, 2.6707, 2.6682, 2.6671, 2.667, 2.6667, 2.6624, 2.661, 2.6577, 2.6222, 2.6152, 2.5938, 2.5791, 2.549, 2.4599, 2.4428, 2.3814, 2.3757, 2.3606, 2.2874, 2.2725, 2.1693, 2.163, 2.1495, 2.1322, 2.0813, 2.0197, 2.0004, 1.9851, 1.9488, 1.8305, 1.8157, 1.7855, 1.7354, 1.4394, 1.4348, 1.3106, 1.5342, 0.9675, 1.5567, 0.7514, 0.323, 0.9937, -0.3699, 1.4595, 0.5584, 0.4783]}, \"token.table\": {\"Topic\": [5, 8, 9, 1, 3, 4, 7, 9, 1, 7, 1, 4, 5, 7, 8, 1, 9, 1, 7, 3, 7, 9, 1, 6, 7, 1, 6, 8, 1, 7, 8, 1, 1, 7, 8, 1, 7, 8, 7, 9, 7, 8, 9, 1, 7, 1, 1, 1, 4, 7, 1, 2, 4, 5, 7, 8, 9, 1, 5, 8, 5, 1, 1, 8, 8, 2, 8, 7, 10, 1, 1, 4, 7, 1, 3, 4, 3, 4, 5, 7, 8, 9, 8, 4, 9, 4, 8, 6, 10, 2, 9, 8, 9, 2, 4, 4, 7, 8, 3, 7, 8, 9, 4, 5, 3, 4, 7, 3, 3, 4, 3, 4, 5, 8, 1, 1, 3, 4, 7, 8, 9, 10, 8, 10, 3, 4, 5, 6, 7, 4, 5, 6, 8, 4, 6, 3, 5, 1, 3, 4, 3, 6, 2, 1, 2, 5, 6, 9, 6, 7, 1, 7, 8, 1, 2, 5, 1, 4, 6, 7, 9, 1, 2, 3, 4, 5, 6, 8, 4, 5, 1, 5, 7, 4, 5, 6, 7, 8, 5, 3, 2, 3, 4, 6, 9, 1, 8, 3, 5, 8, 1, 2, 5, 1, 4, 5, 1, 2, 2, 5, 3, 4, 8, 1, 3, 4, 5, 6, 7, 8, 9, 10, 10, 3, 8, 4, 6, 9, 3, 4, 1, 8, 6, 7, 8, 1, 2, 5, 6, 7, 1, 3, 4, 7, 8, 10, 1, 7, 4, 5, 8, 4, 5, 1, 6, 7, 6, 1, 2, 3, 4, 5, 6, 7, 8, 9, 10, 1, 7, 9, 1, 9, 1, 4, 8, 1, 3, 1, 3, 5, 6, 7, 8, 1, 3, 7, 8, 1, 4, 7, 8, 1, 2, 5, 8, 6, 1, 4, 7, 3, 4, 9, 8, 3, 5, 9, 1, 3, 6, 8, 9, 1, 3, 6, 7, 8, 9, 3, 1, 3, 4, 6, 8, 1, 6, 7, 1, 1, 3, 7, 7, 3, 9, 8, 10, 3, 4, 6, 7, 10, 1, 7, 8, 10, 1, 2, 5, 8, 1, 2, 5, 8, 9, 1, 2, 3, 4, 5, 6, 7, 9, 10, 1, 2, 1, 2, 1, 3, 4, 5, 6, 7, 8, 3, 4, 6, 7, 1, 6, 7, 8, 6, 7, 1, 3, 4, 5, 7, 8, 3, 4, 6, 7, 8, 10, 3, 6, 7, 3, 4, 1, 3, 4, 6, 7, 9, 10, 6, 4, 6, 1, 3, 4, 5, 10, 1, 3, 4, 7, 10, 1, 2, 3, 8, 2, 3, 5, 6, 7, 8, 9, 1, 10, 1, 2, 5, 9, 1, 4, 5, 9, 1, 3, 5, 7, 3, 9, 1, 2, 4, 5, 10, 1, 2, 3, 5, 7, 8, 9, 10, 5, 9, 1, 5, 9, 10, 3, 4, 5, 6, 7, 8, 9, 1, 3, 5, 6, 1, 3, 5, 7, 8, 3, 4, 6, 9, 10, 3, 5, 7, 8, 1, 1, 6, 9, 2, 5, 1, 4, 6, 7, 8, 3, 10, 6, 4, 6, 7, 8, 1, 3, 4, 5, 4, 6, 7, 2, 4, 4, 9, 1, 4, 5, 3, 9, 1, 3, 4, 5, 6, 7, 8, 9, 10, 10, 6, 7, 10, 1, 3, 4, 5, 7, 8, 9, 10, 1, 4, 5, 7, 8, 9, 10, 1, 2, 3, 4, 5, 6, 8, 9, 6, 7, 10, 7, 10, 7, 10, 6, 7, 10, 6, 7, 2, 3, 4, 5, 6, 7, 9, 10, 1, 6, 1, 3, 4, 6, 8, 1, 2, 3, 5, 6, 7, 8, 9, 10, 1, 8, 9, 3, 4, 6, 8, 10, 5, 1, 3, 4, 5, 6, 8, 1, 9, 10, 3, 8, 10, 4, 5, 7, 3, 8, 3, 9, 8, 1, 5, 8, 4, 8, 9, 3, 6, 8, 3, 4, 9, 3, 6, 3, 4, 5, 9, 1, 2, 4, 7, 8, 1, 2, 7, 8, 10, 1, 3, 5, 6, 1, 4, 6, 3, 4, 6, 7, 8, 9, 10, 1, 5, 6, 7, 8, 10, 4, 8, 9, 5, 1, 8, 10, 1, 3, 6, 7, 8, 10, 6, 10, 3, 4, 8, 1, 2, 8, 9, 1, 3, 3, 3, 1, 2, 3, 4, 5, 6, 7, 8, 9, 10, 4, 5, 6, 5, 7, 8, 1, 3, 4, 1, 3, 4, 5, 6, 7, 8, 10, 3, 4, 5, 6, 8, 1, 2, 4, 7, 8, 1, 4, 7, 8, 1, 3, 4, 5, 8, 9, 1, 7, 8, 1, 2, 3, 4, 5, 6, 7, 9, 10, 8, 10, 3, 4, 6, 7, 9, 10, 1, 3, 5, 7, 2, 3, 6, 8, 4, 9, 4, 7, 4, 5, 1, 8, 9, 3, 9, 10, 1, 2, 5, 9, 1, 7, 8, 9, 10, 1, 4, 4, 2, 5, 3, 6, 7, 1, 3, 4, 5, 6, 7, 8, 5, 6, 10, 1, 3, 6, 7, 8, 9, 10, 1, 4, 1, 2, 3, 5, 6, 9, 2, 3, 7, 10, 1, 4, 5, 8, 9, 7, 9, 3, 4, 8, 1, 2, 3, 7, 8, 3, 9, 1, 2, 3, 4, 5, 6, 8, 9, 1, 1, 8, 1, 3, 8, 3, 3, 6, 7, 10, 6, 7, 5, 1, 2, 3, 4, 5, 8, 9, 1, 2, 3, 5, 3, 4, 5, 6, 7, 8, 10, 1, 2, 5, 9, 1, 4, 5, 3, 4, 8, 9, 1, 3, 7, 8, 4, 6, 7, 10, 4, 1, 4, 1, 7, 1, 2, 4, 5, 8, 5, 1, 5, 8, 5, 9, 10, 1, 3, 9, 1, 2, 5, 8, 9, 2, 4, 3, 1, 8, 5, 9, 2, 3, 5, 6, 8, 1, 5, 6, 7, 4, 5, 6, 7, 6, 6, 7, 6, 1, 2, 3, 4, 5, 6, 7, 8, 9, 10, 3, 1, 2, 5, 9, 1, 2, 3, 4, 3, 2, 3, 4, 2, 5, 1, 1, 2, 3, 4, 5, 6, 10, 1, 1, 3, 7, 8, 9, 6, 7, 8, 1, 3, 8, 10, 3, 5, 9, 5, 8, 1, 3, 7, 8, 9, 1, 2, 3, 5, 7, 8, 10, 1, 4, 5, 7, 1, 4, 7, 9, 1, 6, 7, 5, 8, 1, 3, 5, 7, 8, 10, 3, 8, 10, 3, 4, 5, 7, 8, 9, 4, 4, 10, 3, 5, 8, 1, 3, 4, 6, 7, 8, 10, 3, 4, 6, 7, 8, 1, 2, 1, 7, 1, 4, 7, 8, 9, 10, 1, 3, 8, 4, 7, 4, 6, 1, 3, 8, 9, 1, 4, 5, 7, 1, 3, 8, 9, 4, 2, 5, 8, 4, 6, 7, 10, 1, 5, 8, 9, 1, 3, 4, 7, 4, 6, 7, 9, 1, 3, 5, 8, 1, 3, 4, 6, 7, 8, 9, 1, 3, 4, 5, 9, 1, 2, 4, 5, 8, 4, 5, 4, 9, 3, 5, 8, 4, 5, 6, 9, 3, 4, 5, 6, 7, 8, 9, 10, 1, 5, 10, 1, 3, 1, 2, 8, 1, 3, 4, 5, 6, 7, 8, 9, 10, 1, 2, 3, 4, 5, 6, 7, 8, 9, 10, 1, 7, 1, 8, 1, 4, 6, 7, 3, 6, 1, 5, 10, 3, 4, 5, 7, 9, 1, 6, 8, 3, 4, 1, 3, 5, 7, 8, 9, 4, 5, 3, 9, 1, 3, 4, 5, 6, 7, 8, 10, 3, 4, 5, 6, 2, 5, 3, 4, 5, 8, 9, 4, 9, 4, 8, 3, 1, 3, 4, 5, 6, 7, 8, 9, 10, 4, 6, 7, 8, 1, 4, 4, 5, 1, 3, 7, 8, 9, 3, 1, 2, 3, 5, 6, 8, 9, 1, 3, 7, 3, 9, 10, 2, 3, 4, 6, 1, 2, 4, 5, 7, 9, 10, 7, 6, 7, 4, 7], \"Freq\": [0.6922599621487835, 0.2501068250343992, 0.05582741630232125, 0.1714314877577113, 0.02090627899484284, 0.1296189297680256, 0.6397321372421909, 0.03345004639174855, 0.29861311879707547, 0.6825442715361726, 0.17226192824896877, 0.08063324301015559, 0.06963780078149802, 0.49479490028959117, 0.18325737047762636, 0.09596086372139216, 0.8931741930991117, 0.15919676302743263, 0.8403170909169545, 0.06623287036795435, 0.2516849073982265, 0.6755752777531343, 0.1447795758509309, 0.002924839916180422, 0.8511284156085028, 0.21890511166274254, 0.015636079404481612, 0.7505318114151173, 0.2872511908776288, 0.6731543058950492, 0.03917061693785847, 0.9901669043246458, 0.014980733489950417, 0.9138247428869755, 0.07062345788119483, 0.2071293653550025, 0.7856631099672509, 0.003571195954396595, 0.19684916575057038, 0.801315290883635, 0.18495484533654255, 0.0857761601560777, 0.7290973613266605, 0.09149553364171976, 0.9008791004723177, 0.9977156509189404, 0.9972509822901657, 0.8233949456816921, 0.1569682672369781, 0.016522975498629276, 0.3831397068356176, 0.0006306826449969014, 0.1816366017591076, 0.16807692489167422, 0.020497185962399297, 0.13433540338434, 0.11163082816445155, 0.9958924887918534, 0.7406909174723828, 0.2526387625487197, 0.9914327773297823, 0.992364358607285, 0.9924025432134361, 0.9905171649706764, 0.9978221006223391, 0.20406352289597243, 0.7902034290865316, 0.04680971767234559, 0.9521781594813712, 0.9974528900991412, 0.9952891816670724, 0.1731950703512935, 0.8126845608791464, 0.9958785371173496, 0.13748583112015608, 0.8401911901787317, 0.024260864754345683, 0.0008086954918115227, 0.0008086954918115227, 0.004043477459057614, 0.17467822623128892, 0.7949476684507268, 0.9971074376822322, 0.37123774500583473, 0.6227213787194646, 0.5026250264483335, 0.49337425909038873, 0.24353104222502212, 0.7479882011197108, 0.9902414386356534, 0.9950427709762634, 0.10550744426144569, 0.890951751541097, 0.6425512872061113, 0.3469776950913001, 0.1761744311005227, 0.6204403877887973, 0.19915370472233, 0.4550895279375243, 0.04684745140533338, 0.09034865628171437, 0.4071266610225401, 0.850007320754423, 0.14905341643560974, 0.7557078605787276, 0.01259513100964546, 0.21411722716397283, 0.9839118731356533, 0.9923175800688798, 0.9901963624711018, 0.9914736434950006, 0.8225977920738083, 0.07564117628264905, 0.10400661738864243, 0.9979105968548347, 0.029923042548460673, 0.22940999287153183, 0.3757004231084507, 0.1030682576669201, 0.1113802139303814, 0.006649565010769039, 0.14462803898422658, 0.07274506088252265, 0.9249014883635023, 0.17267121534990484, 0.5311279155699604, 0.026228539040491876, 0.22512829343088858, 0.043714231734153126, 0.7147487414067233, 0.04138019029196819, 0.221948293384193, 0.022571012886528102, 0.1718144712412676, 0.8075280148339578, 0.13401055572418058, 0.8636235813336082, 0.07767487751950489, 0.12945812919917482, 0.7896945881149664, 0.9942923856328364, 0.9978547521136243, 0.9939145712519983, 0.1013263483225164, 0.528659208639216, 0.2995735515622224, 0.0352439472426144, 0.0264329604319608, 0.6472175759982881, 0.35045842543138744, 0.29873230942697776, 0.5635177655099808, 0.12899804270710402, 0.99620389457835, 0.12151857159866351, 0.8708830964570885, 0.16249540029003937, 0.06319265566834864, 0.16851374844892972, 0.009027522238335521, 0.5958164677301443, 0.21734118114267725, 0.09727157757434506, 0.0015198683995991415, 0.3875664418977811, 0.19910276034748756, 0.0547152623855691, 0.044076183588375104, 0.12130595311335808, 0.8767112065919971, 0.06456012623970349, 0.9361218304757005, 0.973084022195324, 0.45283170949283263, 0.16058754142199527, 0.21006359857028625, 0.06331258160501642, 0.11278863875330739, 0.9874517473399274, 0.9815136343132888, 0.4685195778260255, 0.007587361584227134, 0.15554091247665625, 0.2921134209927446, 0.07397677544621455, 0.3715049900153852, 0.6061397205514178, 0.8449905544648039, 0.1379576415452741, 0.9838658385310833, 0.2441178610374177, 0.7005121229769378, 0.0636829202706307, 0.311084934858143, 0.07444767671818807, 0.6141933329250516, 0.8607041298452524, 0.13929566772141636, 0.8557941691869635, 0.14430252969897275, 0.8681991769573486, 0.1240284538510498, 0.989985078255427, 0.3452651212927643, 0.12255594000086673, 0.08433957161349968, 0.03821636838736704, 0.03821636838736704, 0.01054244645168746, 0.06720809612950755, 0.27410360774387393, 0.018449281290453055, 0.9940866054043561, 0.07648927584953344, 0.9178713101944013, 0.09986174367556275, 0.8238593853233928, 0.049930871837781374, 0.6269665771620879, 0.3726652119817522, 0.9558986550591159, 0.04231342135070533, 0.05261953295188885, 0.6928238505332032, 0.24555782044214794, 0.8973434945822977, 0.10199426631876862, 0.08991814792070531, 0.20154067637399467, 0.7069426802041658, 0.030969994314662595, 0.030969994314662595, 0.06193998862932519, 0.038712492893328246, 0.1625924701519786, 0.6813398749225771, 0.05096980997366746, 0.9514364528417926, 0.011850623141443523, 0.7939917504767161, 0.17775934712165284, 0.09127821040787755, 0.9013723277777909, 0.9918614186536762, 0.6947762980272489, 0.3061726059103131, 0.9872430975115765, 0.20892524488052147, 0.14652810798667446, 0.008763642822169525, 0.02716729274872553, 0.02453819990207467, 0.013671282802584459, 0.1623026650665796, 0.10025607388561937, 0.016300375649235317, 0.29165403312180177, 0.11466901911886292, 0.7371579800498331, 0.13105030756441477, 0.18831058883912605, 0.8113629074673455, 0.9973722332767108, 0.9089726653719711, 0.08970124987223399, 0.023598922592086857, 0.9714889800409089, 0.01893602918940102, 0.08994613864965484, 0.020119531013738583, 0.6154209486555331, 0.10296465871736804, 0.15385523716388327, 0.3957086902098446, 0.04296836787632151, 0.3837175177792433, 0.17686979335136996, 0.14323694415450727, 0.021220288022889965, 0.7639303688240388, 0.06896593607439239, 0.5462095710867698, 0.11766174555031207, 0.32383966665223507, 0.012953586666089404, 0.9992339366226379, 0.11972964871085352, 0.19954941451808922, 0.6585130679096944, 0.10759906897579845, 0.07685647783985604, 0.7993073695345028, 0.9845115615734513, 0.1100249106694898, 0.1100249106694898, 0.77684255109064, 0.9915763926388622, 0.2442149558365981, 0.1794832807955721, 0.017654093193007092, 0.5561039355797234, 0.4084621126904235, 0.006982258336588435, 0.23652400115193326, 0.11258891567748852, 0.17542924070678445, 0.0593491958610017, 0.9881928800501684, 0.11942792065018587, 0.8718238207463569, 0.23543382603458698, 0.6474430215951141, 0.11379301591671703, 0.16676081712756616, 0.8032057705685526, 0.027538483562350374, 0.9948326263540348, 0.31603152284051744, 0.6772104060868231, 0.9857384994247822, 0.9864780943806629, 0.3055247253138034, 0.683793432845179, 0.992211717827752, 0.992304945338317, 0.9838957300899813, 0.027523991064558714, 0.2572069509826004, 0.1936170405920682, 0.5210576239463012, 0.41368890433715977, 0.07354469410438397, 0.4347016740812695, 0.07748458843140453, 0.9970716018406869, 0.8963642300200443, 0.021706826083106485, 0.08171981584228324, 0.26185937788492064, 0.08949624307459313, 0.5137747287615531, 0.11601364843002812, 0.016573378347146873, 0.2148062716819568, 0.34933141152318226, 0.09763921440088945, 0.07160209056065227, 0.07160209056065227, 0.138864660481265, 0.006509280960059297, 0.01952784288017789, 0.02820688416025695, 0.2751045558018342, 0.7094801702257829, 0.19821910295599401, 0.7997115533052171, 0.21521718728908085, 0.22374064025102464, 0.07813165215115146, 0.08807568060675255, 0.04474812805020493, 0.012785179442915694, 0.33596610424995127, 0.1390224103425753, 0.7426113752465897, 0.016219281206633785, 0.10310828767074334, 0.9956056557069559, 0.4707807139380536, 0.38547145704994995, 0.14218209481350613, 0.7267489971271417, 0.2728899396327212, 0.9926985881567086, 0.8630172703877547, 0.06660871549972602, 0.06660871549972602, 0.12031132351771025, 0.8722570955033992, 0.5933118448659797, 0.009630738259014919, 0.17714721585521379, 0.061578356747034775, 0.011381781578835811, 0.14650395775834815, 0.99440811480229, 0.7170963224288085, 0.27758567319824845, 0.1736998892678328, 0.8231864317475555, 0.9933595767912318, 0.26781676919290376, 0.18470122013303708, 0.16623109811973336, 0.015006974135809262, 0.045020922407427784, 0.3209183699811519, 0.996802912688266, 0.871901752179907, 0.12058215721637011, 0.31364475923867036, 0.05368694077058322, 0.55382317847549, 0.04521005538575429, 0.02825628461609643, 0.13465487829817288, 0.11782301851090127, 0.10940708861726546, 0.12623894840453706, 0.5133717235117841, 0.011632762772931215, 0.4362286039849206, 0.3838811715067301, 0.16867506020750261, 0.6061063364726292, 0.07363908760882411, 0.08638431431035136, 0.07363908760882411, 0.016993635602036334, 0.06372613350763624, 0.07930363280950288, 0.19858030253374068, 0.7943212101349627, 0.20252432193563574, 0.30104966774216124, 0.45431131677453424, 0.04196449913981642, 0.13610627547458148, 0.07423978662249898, 0.6929046751433239, 0.08661308439291548, 0.1232783816904546, 0.09732503817667469, 0.635856916087608, 0.13625505344734457, 0.84174293675252, 0.1574483191047879, 0.198339684185206, 0.004047748656840939, 0.18214868955784225, 0.18619643821468318, 0.4250136089682986, 0.23732773549838196, 0.3350005219489796, 0.05826096033895297, 0.030844037826504515, 0.0239898071983924, 0.23133028369878386, 0.04626605673975677, 0.03684148962610261, 0.22597012729088614, 0.7720646015771943, 0.2554649407967858, 0.12164997180799324, 0.6143323576303659, 0.9918281910037208, 0.21087388603918322, 0.0013016906545628595, 0.19785697949355463, 0.2017620514572432, 0.006508453272814297, 0.058576079455328674, 0.32281928233158913, 0.15105356520539706, 0.04268905103630786, 0.7585515991836244, 0.04925659734958599, 0.34518501945100444, 0.20407898109434383, 0.04781278985638913, 0.046646624250135736, 0.355680509907285, 0.05985373890521123, 0.08683007193291206, 0.06575481175502079, 0.7300470125621539, 0.05732470768386427, 0.7119744148617716, 0.10775828981691678, 0.13469786227114597, 0.04233361385664588, 0.995013770138785, 0.9945788041889116, 0.06783725383705091, 0.9044967178273455, 0.7693240163545697, 0.2248793278574896, 0.06759717333631338, 0.3788585761407331, 0.2578124750501254, 0.15405867411531884, 0.14148245582019078, 0.11389362541976095, 0.8826755970031473, 0.998964398909399, 0.13806071231227635, 0.7179157040238371, 0.08678101916771656, 0.05522428492491054, 0.057866138032505544, 0.19931669766751908, 0.08358442160250801, 0.6493866601425622, 0.7324573888894996, 0.12289553504857377, 0.14403356707692846, 0.1366546475093161, 0.8502955845024114, 0.4114704536369379, 0.5863453964326365, 0.20357016510999154, 0.1110382718781772, 0.6662296312690632, 0.08365069652615095, 0.9097013247218916, 0.14133055572336994, 0.02034303453593961, 0.018201662479524917, 0.13062369544129646, 0.058352388537300466, 0.15739084614648016, 0.12901766639898543, 0.054069644424471076, 0.2901559136441913, 0.9990983957300057, 0.11872531603745941, 0.37101661261706065, 0.5045825931592025, 0.1571619661663415, 0.049259720738704056, 0.09617374048985078, 0.07271673061427741, 0.16419906912901353, 0.0774081325893921, 0.08679093653962144, 0.29790402541978167, 0.407011550086945, 0.09070543116223345, 0.06628473815701676, 0.051167166296644515, 0.25932450191253925, 0.04418982543801117, 0.08256520016049455, 0.030199106721994218, 0.6681918856254837, 0.01700532223180257, 0.02198964081698608, 0.09895338367643736, 0.046764636137457065, 0.09323607706402098, 0.023602214476898392, 0.37679856390243577, 0.5187806314598753, 0.10375612629197506, 0.40332465926682676, 0.5953840208224586, 0.3272702023193106, 0.672111959125564, 0.1421703392202912, 0.0437447197600896, 0.8092773155616576, 0.3366618307820254, 0.6615109657471375, 0.5664800987456475, 0.04325926679997308, 0.08284149592194845, 0.05461482433496601, 0.12145039154092442, 0.0031362968429980483, 0.08024593991395007, 0.047801489813970255, 0.08937171365245032, 0.9086124221332449, 0.3352877469459382, 0.5464926269118836, 0.034320792994466116, 0.026400609995743167, 0.05808134199063497, 0.11817380415827021, 0.07878253610551347, 0.08616839886540535, 0.07262765047227022, 0.029543451039567552, 0.0615488563324324, 0.10094012438518914, 0.059086902079135105, 0.3926817034009187, 0.2907893343586403, 0.6978944024607368, 0.998587772967361, 0.042347642393841735, 0.02823176159589449, 0.27102491132058715, 0.40371419082129123, 0.2540858543630504, 0.9961223541340855, 0.4251374430392528, 0.3835282464864749, 0.06693653358490363, 0.0253273370321257, 0.08864567961243995, 0.009045477511473464, 0.36424573469718086, 0.07805265743511018, 0.5593773782849563, 0.09365366847156965, 0.1560894474526161, 0.7492293477725572, 0.060113273786186354, 0.9358174513741443, 0.0032493661506046677, 0.2913508303030778, 0.6919582219698097, 0.08346277944792282, 0.906167319720305, 0.9961909919676493, 0.22095641286160728, 0.6230970842697325, 0.15025036074589296, 0.13539143304175333, 0.8521696079686828, 0.0159284038872651, 0.11125998779215608, 0.18914197924666534, 0.6898119243113677, 0.17806990612494017, 0.7643000465137881, 0.05602199293818342, 0.18506773784327976, 0.801960197320879, 0.06078706001056078, 0.06078706001056078, 0.8145466041415145, 0.06078706001056078, 0.11050719224908373, 0.21750621966486322, 0.0929663680825625, 0.14208067574882194, 0.4385206041630307, 0.20623183797123315, 0.21733662924660724, 0.05076476011599585, 0.35693971956559584, 0.1665718691306114, 0.16964321055743398, 0.06236882741082131, 0.044905555735791344, 0.7209836448690944, 0.9984226376858583, 0.013888629781589138, 0.9857365957804803, 0.3171624957620067, 0.05109102965203874, 0.009289278118552497, 0.07895886400769624, 0.031185433683711957, 0.3257882540149483, 0.18711260210227174, 0.30902297936730944, 0.011567705110006236, 0.0479233497414544, 0.10245681668862666, 0.4676657923045378, 0.061143584152890104, 0.06252505239347597, 0.7503006287217117, 0.17715431511484858, 0.9802592760813358, 0.9694583431021953, 0.029256630381684905, 0.9874107286773126, 0.994340314661568, 0.09663666922762221, 0.3939802668510752, 0.16353897869289913, 0.01672557736631923, 0.32707795738579826, 0.9312799205171456, 0.06405629082922165, 0.8534666412523102, 0.11936596381151192, 0.023873192762302386, 0.7486985814654334, 0.18419731802755096, 0.029376296409566318, 0.037315835979719374, 0.177457020454248, 0.821521618220548, 0.975279766475202, 0.9973763241265218, 0.27796740219165916, 0.002113820548986001, 0.1666395199450631, 0.08138209113596104, 0.14127367335723107, 0.11062327539693406, 0.05002708632600203, 0.033821128783776015, 0.09688344182852505, 0.039105680156241024, 0.04660528455632091, 0.03107018970421394, 0.9165705962743111, 0.7904698122355663, 0.10658019940254826, 0.10658019940254826, 0.06076662686049742, 0.16572716416499297, 0.7678691939644674, 0.16959135381967294, 0.13061694331453072, 0.08110890834853923, 0.4097579915270359, 0.14431065511363475, 0.022120611367783427, 0.007373537122594476, 0.03476096072080253, 0.09036094649314451, 0.5920199942654295, 0.19318547181292964, 0.07166557825318357, 0.04985431530656249, 0.8828819582547903, 0.0705260735884004, 0.03619592136547534, 0.00820938422722121, 0.0018657691425502754, 0.8430218342893264, 0.030304706461381014, 0.06336438623743303, 0.06336438623743303, 0.11503433021168781, 0.12708554575767417, 0.06573390297810733, 0.34510299063506344, 0.22678196527447025, 0.12051215545986342, 0.32433243939235995, 0.564056416334539, 0.09870987285854432, 0.3048325545639435, 0.06357060811258118, 0.09880251140389124, 0.166968585163165, 0.08807975822827513, 0.20603004316005225, 0.01685004070453959, 0.05437967681919595, 0.0007659109411154359, 0.38547155987908915, 0.5996224264785831, 0.07153685197996683, 0.04850231007258522, 0.16432387994491246, 0.16643267603502487, 0.06375052795493642, 0.4855097459774166, 0.339278361496624, 0.10898032217770347, 0.5428453783945985, 0.008224929975675734, 0.5566913856858334, 0.1578677063885199, 0.08308826652027364, 0.19941183964865675, 0.6302199987887176, 0.36838946789098953, 0.8390769653665486, 0.13699215761086508, 0.07546988366097074, 0.9150723393892701, 0.22363631634101477, 0.6820907648400951, 0.08945452653640591, 0.24064530949015234, 0.7558730875011195, 0.99513085963673, 0.25110461408736, 0.4146445422365637, 0.3103395486925834, 0.023178887454217846, 0.661269270591986, 0.25488276467561727, 0.07307827518671545, 0.010694381734641285, 0.9933899674087724, 0.9923699401664574, 0.999193725890928, 0.9974237729225784, 0.8657599587712002, 0.13174608068257393, 0.5018124169420949, 0.34110125073188147, 0.15415152677306182, 0.29100947546164635, 0.15903364123900218, 0.11596203007010576, 0.2821742731705907, 0.02595340672997605, 0.006074201575100778, 0.11927523092925164, 0.0357489200244914, 0.04596289717434609, 0.9141509549119944, 0.19074373389967306, 0.18143916151432316, 0.009304572385349905, 0.0781584080369392, 0.10979395414712889, 0.4233580435334207, 0.006513200669744934, 0.1907762674095238, 0.80126032312, 0.06821955919999573, 0.18164485039998862, 0.19643945359998768, 0.24822056479998444, 0.04931534399999691, 0.25561786639998396, 0.7285522105877094, 0.25904078598674113, 0.050769323450468674, 0.9461555733950979, 0.23383821498286458, 0.03782677007075751, 0.07565354014151501, 0.6017895238529603, 0.04814316190823682, 0.8774848877860982, 0.12230015964868235, 0.24459302930705637, 0.21741602605071678, 0.5344810640413454, 0.730160492348154, 0.022074619536106982, 0.039055096102343125, 0.035659000789095896, 0.17320086097560863, 0.013406532982770097, 0.978676907742217, 0.01694848689633863, 0.2832818524102314, 0.04842424827525323, 0.11137577103308244, 0.2905454896515194, 0.09926970896426913, 0.05810909793030388, 0.09200607172298114, 0.9973045953629693, 0.9801208765418109, 0.019005113949564202, 0.009949307247878398, 0.8606150769414814, 0.12436634059847998, 0.9937898630889356, 0.9807641487065865, 0.7392236736845326, 0.17134323562224263, 0.08322385730223214, 0.9955271699531153, 0.002247239661293714, 0.976701075627448, 0.2924051598499891, 0.10594389849637285, 0.016951023759419658, 0.08687399676702574, 0.38351691255686976, 0.10170614255651794, 0.012713267819564743, 0.14344614649674448, 0.1844307597815286, 0.03415384440398678, 0.6352615059141541, 0.4191574601580548, 0.07445560147544393, 0.06434434695408735, 0.23715487877363625, 0.08916288077923533, 0.0073536396518956975, 0.10846618486546154, 0.3325964391865769, 0.37052410330434443, 0.2538235983265981, 0.04084517674221119, 0.1047734729873792, 0.8381877838990336, 0.0523867364936896, 0.23663709743346847, 0.1603025498742851, 0.6030429257175487, 0.9977432210201389, 0.13035101915894337, 0.10241865791059836, 0.13966180624172503, 0.6238227345463718, 0.6283759067169533, 0.1482081914455141, 0.17235070226921773, 0.0502968975493826, 0.9951455333727568, 0.19766111637425204, 0.802998285270399, 0.3835558162187495, 0.6151366863885606, 0.09421786615093047, 0.39930428987775296, 0.035892520438449704, 0.2691939032883728, 0.2018954274662796, 0.9758237967825308, 0.9432639583054737, 0.02077673916972409, 0.03324278267155854, 0.9201227207424718, 0.07541989514282556, 0.9981475260167102, 0.03660577581770434, 0.09935853436234035, 0.8628504299887452, 0.0006105367868722659, 0.8248351990644311, 0.16993273901278066, 0.0032561961966520846, 0.0012210735737445317, 0.16225817199803022, 0.833217639989885, 0.9769534623701147, 0.3904028588183207, 0.6056249476540616, 0.29635829102732475, 0.6915026790637577, 0.8227962016768595, 0.03198430327218113, 0.011194506145263395, 0.051974492817294334, 0.08155997334406188, 0.013402093075447775, 0.013402093075447775, 0.8309297706777621, 0.14072197729220165, 0.14322590695253903, 0.04296777208576171, 0.14322590695253903, 0.6660004673293065, 0.985905168308617, 0.8999105915413675, 0.09704918144073571, 0.995461047759998, 0.1821681777146154, 0.04789766741634285, 0.05810536702966181, 0.058497970860943306, 0.04554204442865385, 0.05810536702966181, 0.1287740566603316, 0.1546859095249105, 0.009815095782037467, 0.25637030182681864, 0.9912006649187642, 0.1845309662115355, 0.5041787486867476, 0.17681000528218258, 0.13434472017074134, 0.5994083816413616, 0.3947323488857747, 0.7453721733130761, 0.2539582927524257, 0.9983172585035076, 0.044575485999721574, 0.48094603315489065, 0.4739077985233557, 0.8290999875363236, 0.15792380714977594, 0.9924880350791119, 0.033372629980595855, 0.31703998481566065, 0.07548571067039539, 0.03972932140547126, 0.26698103984476684, 0.14620390277213424, 0.12077713707263263, 0.9985746632005698, 0.29250612128775955, 0.013371708401726152, 0.2306619699297761, 0.10697366721380921, 0.3560217361959588, 0.07145025641061016, 0.3751138461557033, 0.5448082051309024, 0.01318154345255054, 0.1449969779780559, 0.685440259532628, 0.1449969779780559, 0.10486732361367399, 0.241650789196727, 0.6520011859458861, 0.07785601504107774, 0.9207320039640497, 0.4483792007402358, 0.02516413881705405, 0.05261592661747665, 0.4392286048067616, 0.0320270857671597, 0.18845176335333746, 0.15859801866369982, 0.33398876871532085, 0.001865859043102351, 0.04104889894825172, 0.13807356918957397, 0.13620771014647162, 0.5435744821528667, 0.11508905973920633, 0.3275611700269718, 0.014164807352517702, 0.13969497759293256, 0.0582062406637219, 0.5471386622389859, 0.244466210787632, 0.009030263936359448, 0.8488448100177882, 0.14448422298175118, 0.177102145590761, 0.8184265818966986, 0.26464773517093115, 0.04410795586182186, 0.005881060781576248, 0.005881060781576248, 0.43519849783664233, 0.24406402243541428, 0.06663225748558427, 0.34341240396416506, 0.5843136425658928, 0.31307908613743884, 0.025089961606833078, 0.1581758449126433, 0.013635848699365804, 0.11017765749087569, 0.379622027790344, 0.9904383029236992, 0.9100496857724335, 0.0780042587804943, 0.09974385327512172, 0.8810707039302419, 0.9948415735126246, 0.15304483767842803, 0.13472256837889793, 0.0010777805470311833, 0.6024793257904315, 0.0258667331287484, 0.011855586017343017, 0.06897795500999573, 0.0877820750131384, 0.05586132046290625, 0.7421575432928973, 0.007980188637558035, 0.10374245228825446, 0.11353696537145966, 0.8799114816288124, 0.9462994434912866, 0.052308009439216846, 0.07199126031540168, 0.644321779822845, 0.15838077269388368, 0.01799781507885042, 0.09718820142579226, 0.007199126031540167, 0.12793749953461928, 0.19190624930192893, 0.6716718725567513, 0.2835365408829667, 0.7088413522074168, 0.1526452277126401, 0.8310684619910406, 0.07793598135982673, 0.6507184949681918, 0.015023803635629248, 0.25634364953292404, 0.10715129215973801, 0.8929274346644834, 0.9938033183460876, 0.002975459036964334, 0.1908255598774884, 0.6755840385985274, 0.021544821276490628, 0.11080193799338037, 0.9923282787977311, 0.5281056275221245, 0.4009690875630946, 0.06845813690101615, 0.11342181184351163, 0.1806719126710805, 0.29308999166641947, 0.4125342005989671, 0.3190515842504085, 0.09515573565363061, 0.005597396214919448, 0.5793305082441629, 0.05012419926647961, 0.20049679706591844, 0.6967263698040665, 0.05012419926647961, 0.30607371940574873, 0.005564976716468159, 0.03338986029880896, 0.6455372991103064, 0.132017848652216, 0.132017848652216, 0.07200973562848145, 0.6480876206563331, 0.21411570583749298, 0.03358677738627341, 0.06297520759926264, 0.037785124559557584, 0.46601653623454353, 0.142743803891662, 0.04198347173284176, 0.12446785680396244, 0.012446785680396245, 0.5426798556652762, 0.02738292849687174, 0.2887654277851929, 0.3726810695564973, 0.004840013890344121, 0.08712025002619418, 0.0919602639165383, 0.4433452723555215, 0.88110225385188, 0.11129712680234274, 0.904709227468868, 0.06959301749760523, 0.10680033537440863, 0.8058570760069014, 0.07767297118138809, 0.9928109907215834, 0.6799279372631623, 0.1673668768647784, 0.1464460172566811, 0.01650815593039019, 0.14895731397654402, 0.30610472081777773, 0.2011691559889409, 0.057202679851817165, 0.07972543522971386, 0.0948259189489855, 0.09546576995403938, 0.9961100436843433, 0.39555085160833914, 0.6015669201543491, 0.9956775188288975, 0.9844857290033396, 0.049068105156008936, 0.32984670688206, 0.6188033261341126, 0.24054655430995037, 0.08747147429452741, 0.16733673343300895, 0.19586004026818093, 0.11124089665717073, 0.061800498142872626, 0.07511137466595288, 0.011409322734068793, 0.0494403985142981, 0.41596992744300987, 0.05427455723209671, 0.05427455723209671, 0.0259221765884641, 0.051034285158538695, 0.21426299086402356, 0.133661223034268, 0.023897006542490343, 0.003645306082752764, 0.022681904514906086, 0.4327908186839007, 0.5539722479153928, 0.3701310097439516, 0.6168850162399193, 0.06096790249547245, 0.08129053666062994, 0.6147596834960138, 0.23879095144060042, 0.08855530713964267, 0.9076918981813374, 0.3667446593432706, 0.19747789349253034, 0.43727247844774575, 0.625803552636787, 0.09702380661035458, 0.1503869002460496, 0.03395833231362411, 0.08732142594931912, 0.928523468418734, 0.02781291495263489, 0.0427890999271306, 0.8204984599078091, 0.17627896599581838, 0.6381693010798328, 0.06805122878813383, 0.0015122495286251961, 0.05897773161638265, 0.2298619283510298, 0.0030244990572503923, 0.9199567221299482, 0.07885343332542413, 0.01188328670814145, 0.9863127967757404, 0.1647997873427594, 0.2925954506564084, 0.1112145804153591, 0.06106691506443355, 0.1041372889343817, 0.07582812301047212, 0.008088333121117026, 0.18198749522513308, 0.08273199017939864, 0.05909427869957046, 0.24110465709424747, 0.6169442696235156, 0.9627404801236896, 0.03631025517707881, 0.05991627894495133, 0.00544693444954103, 0.18791923850916553, 0.13889682846329626, 0.6046097238990543, 0.9566526960962841, 0.04270770964715554, 0.34484674375476293, 0.6491232823619068, 0.9696299133968413, 0.001557211961703325, 0.24448227798742203, 0.13703465262989262, 0.31299960430236834, 0.04905217679365474, 0.04905217679365474, 0.064624296410688, 0.030365633253214838, 0.11134065526178774, 0.042813991178550656, 0.23853509370906795, 0.7003145699920071, 0.015290711135196663, 0.990867645758233, 0.9987669995872531, 0.9972018982848677, 0.0036130503561045933, 0.7447345431190832, 0.05420536231562947, 0.03299456836603533, 0.16497284183017663, 0.0023567548832882377, 0.9977140182361083, 0.2892217395833769, 0.09220156127657987, 0.02620465425755428, 0.16984498129896292, 0.011646513003357457, 0.017469769505036186, 0.3930698138633142, 0.044498491149934906, 0.8343467090612795, 0.11124622787483726, 0.09307708085784194, 0.17253312549258507, 0.7332657833434866, 0.41205422517168117, 0.2158379274708806, 0.20275684095749388, 0.1635135814173338, 0.3525656155110005, 0.43834307369088, 0.055609008321339165, 0.09478296560033922, 0.03692258042388511, 0.019812116325011522, 0.0018011014840919567, 0.9997412198381331, 0.8867550752152318, 0.10937948064328851, 0.9918733586489117, 0.9951757938932987], \"Term\": [\"$\", \"$\", \"$\", \"1\", \"1\", \"1\", \"1\", \"1\", \"1/2\", \"1/2\", \"10\", \"10\", \"10\", \"10\", \"10\", \"16\", \"16\", \"2\", \"2\", \"2nd\", \"2nd\", \"2nd\", \"3\", \"3\", \"3\", \"30\", \"30\", \"30\", \"4\", \"4\", \"4\", \"48\", \"5\", \"5\", \"5\", \"6\", \"6\", \"6\", \"7\", \"7\", \"8\", \"8\", \"8\", \"9\", \"9\", \"AA\", \"AAA\", \"Alexa\", \"Alexa\", \"Alexa\", \"Amazon\", \"Amazon\", \"Amazon\", \"Amazon\", \"Amazon\", \"Amazon\", \"Amazon\", \"AmazonBasics\", \"Android\", \"Android\", \"Apple\", \"Basics\", \"Batteries\", \"Best\", \"Black\", \"Buy\", \"Buy\", \"Christmas\", \"Christmas\", \"Duracell\", \"Echo\", \"Edition\", \"Edition\", \"Energizer\", \"Facebook\", \"Facebook\", \"Fire\", \"Fire\", \"Fire\", \"Fire\", \"Fire\", \"Fire\", \"Friday\", \"GB\", \"GB\", \"Google\", \"Google\", \"Grandson\", \"Grandson\", \"Great\", \"HD\", \"HD8\", \"HD8\", \"Ipad\", \"Ipad\", \"Kids\", \"Kids\", \"Kids\", \"Kindle\", \"Kindle\", \"Kindle\", \"Kindle\", \"Netflix\", \"Netflix\", \"Nook\", \"Nook\", \"Nook\", \"Oasis\", \"Paperwhite\", \"SD\", \"Voyage\", \"YouTube\", \"YouTube\", \"YouTube\", \"aaa\", \"able\", \"able\", \"able\", \"able\", \"able\", \"able\", \"able\", \"absolutely\", \"absolutely\", \"access\", \"access\", \"access\", \"access\", \"access\", \"account\", \"account\", \"account\", \"account\", \"activity\", \"activity\", \"ad\", \"ad\", \"additional\", \"additional\", \"additional\", \"adjust\", \"adult\", \"advertise\", \"affordable\", \"affordable\", \"affordable\", \"affordable\", \"affordable\", \"age\", \"age\", \"ago\", \"ago\", \"ago\", \"alkaline\", \"alternative\", \"alternative\", \"amazing\", \"amazing\", \"amazing\", \"amazing\", \"amazing\", \"amazon\", \"amazon\", \"amazon\", \"amazon\", \"amazon\", \"amazon\", \"amazon\", \"android\", \"android\", \"annoying\", \"annoying\", \"anymore\", \"app\", \"app\", \"app\", \"app\", \"app\", \"apple\", \"avid\", \"awesome\", \"awesome\", \"awesome\", \"awesome\", \"awesome\", \"awhile\", \"awhile\", \"bag\", \"bag\", \"bang\", \"bargain\", \"bargain\", \"bargain\", \"basic\", \"basic\", \"basic\", \"battery\", \"battery\", \"beat\", \"beat\", \"bed\", \"bed\", \"best\", \"big\", \"big\", \"big\", \"big\", \"big\", \"big\", \"big\", \"big\", \"big\", \"birthday\", \"black\", \"black\", \"bonus\", \"bonus\", \"bonus\", \"book\", \"book\", \"box\", \"box\", \"boy\", \"boy\", \"boy\", \"brand\", \"brand\", \"break\", \"break\", \"break\", \"bring\", \"bring\", \"bring\", \"bring\", \"bring\", \"bring\", \"brother\", \"brother\", \"browser\", \"browser\", \"browser\", \"budget\", \"budget\", \"bulk\", \"bumper\", \"bumper\", \"busy\", \"buy\", \"buy\", \"buy\", \"buy\", \"buy\", \"buy\", \"buy\", \"buy\", \"buy\", \"buy\", \"call\", \"call\", \"call\", \"camera\", \"camera\", \"candle\", \"card\", \"card\", \"carry\", \"carry\", \"case\", \"case\", \"case\", \"case\", \"case\", \"case\", \"charge\", \"charge\", \"charge\", \"charge\", \"charger\", \"charger\", \"charger\", \"charger\", \"cheap\", \"cheap\", \"cheap\", \"cheap\", \"child\", \"christmas\", \"christmas\", \"christmas\", \"clarity\", \"clarity\", \"clarity\", \"class\", \"clear\", \"clear\", \"clear\", \"clock\", \"color\", \"color\", \"color\", \"color\", \"come\", \"come\", \"come\", \"come\", \"come\", \"come\", \"comfortable\", \"compact\", \"compact\", \"content\", \"content\", \"content\", \"control\", \"control\", \"control\", \"controller\", \"convenient\", \"convenient\", \"cord\", \"crack\", \"crisp\", \"crisp\", \"customer\", \"dad\", \"dark\", \"daughter\", \"daughter\", \"daughter\", \"daughter\", \"day\", \"day\", \"day\", \"day\", \"dead\", \"deal\", \"deal\", \"deal\", \"decent\", \"decent\", \"decent\", \"decent\", \"decent\", \"definitely\", \"definitely\", \"definitely\", \"definitely\", \"definitely\", \"definitely\", \"definitely\", \"definitely\", \"definitely\", \"delivery\", \"delivery\", \"describe\", \"describe\", \"device\", \"device\", \"device\", \"device\", \"device\", \"device\", \"device\", \"download\", \"download\", \"download\", \"download\", \"drain\", \"drop\", \"drop\", \"drop\", \"durable\", \"durable\", \"duracell\", \"e\", \"e\", \"e\", \"early\", \"early\", \"easy\", \"easy\", \"easy\", \"easy\", \"easy\", \"easy\", \"ebook\", \"educational\", \"educational\", \"email\", \"email\", \"energizer\", \"enjoy\", \"enjoy\", \"enjoy\", \"enjoy\", \"enjoy\", \"enjoy\", \"entertain\", \"entertainment\", \"entertainment\", \"etc\", \"etc\", \"etc\", \"etc\", \"etc\", \"everyday\", \"everyday\", \"everyday\", \"everyday\", \"everyday\", \"exactly\", \"exactly\", \"exactly\", \"exactly\", \"excellent\", \"excellent\", \"excellent\", \"excellent\", \"excellent\", \"excellent\", \"excellent\", \"excited\", \"excited\", \"expect\", \"expect\", \"expect\", \"expect\", \"expectation\", \"expectation\", \"expectation\", \"expectation\", \"extremely\", \"extremely\", \"extremely\", \"extremely\", \"eye\", \"eye\", \"family\", \"family\", \"family\", \"family\", \"family\", \"far\", \"far\", \"far\", \"far\", \"far\", \"far\", \"far\", \"far\", \"fast\", \"fast\", \"faster\", \"faster\", \"faster\", \"father\", \"feature\", \"feature\", \"feature\", \"feature\", \"feature\", \"feature\", \"feature\", \"feel\", \"feel\", \"feel\", \"feel\", \"find\", \"find\", \"find\", \"find\", \"find\", \"fire\", \"fire\", \"fire\", \"fire\", \"fire\", \"fit\", \"fit\", \"fit\", \"fit\", \"flash\", \"flashlight\", \"forward\", \"forward\", \"fraction\", \"fraction\", \"free\", \"free\", \"free\", \"free\", \"free\", \"friend\", \"friend\", \"friendly\", \"fun\", \"fun\", \"fun\", \"fun\", \"function\", \"function\", \"function\", \"function\", \"game\", \"game\", \"game\", \"gaming\", \"gaming\", \"gb\", \"gb\", \"general\", \"general\", \"general\", \"generation\", \"generation\", \"get\", \"get\", \"get\", \"get\", \"get\", \"get\", \"get\", \"get\", \"get\", \"gift\", \"girl\", \"girl\", \"girl\", \"give\", \"give\", \"give\", \"give\", \"give\", \"give\", \"give\", \"give\", \"go\", \"go\", \"go\", \"go\", \"go\", \"go\", \"go\", \"good\", \"good\", \"good\", \"good\", \"good\", \"good\", \"good\", \"good\", \"grand\", \"grand\", \"grand\", \"grandchild\", \"grandchild\", \"granddaughter\", \"granddaughter\", \"grandkid\", \"grandkid\", \"grandkid\", \"grandson\", \"grandson\", \"great\", \"great\", \"great\", \"great\", \"great\", \"great\", \"great\", \"great\", \"grow\", \"grow\", \"hand\", \"hand\", \"hand\", \"hand\", \"hand\", \"happy\", \"happy\", \"happy\", \"happy\", \"happy\", \"happy\", \"happy\", \"happy\", \"happy\", \"hate\", \"hate\", \"hd\", \"help\", \"help\", \"help\", \"help\", \"help\", \"highly\", \"hold\", \"hold\", \"hold\", \"hold\", \"hold\", \"hold\", \"holiday\", \"holiday\", \"holiday\", \"husband\", \"husband\", \"husband\", \"iPad\", \"iPad\", \"iPad\", \"improve\", \"improve\", \"improvement\", \"improvement\", \"inch\", \"inexpensive\", \"inexpensive\", \"inexpensive\", \"install\", \"install\", \"install\", \"instruction\", \"instruction\", \"instruction\", \"internet\", \"internet\", \"internet\", \"investment\", \"investment\", \"ipad\", \"ipad\", \"ipad\", \"ipad\", \"issue\", \"issue\", \"issue\", \"issue\", \"issue\", \"item\", \"item\", \"item\", \"item\", \"item\", \"keep\", \"keep\", \"keep\", \"keep\", \"keyboard\", \"kid\", \"kid\", \"kindle\", \"kindle\", \"kindle\", \"kindle\", \"kindle\", \"kindle\", \"kindle\", \"know\", \"know\", \"know\", \"know\", \"know\", \"know\", \"lack\", \"lack\", \"lack\", \"lag\", \"last\", \"last\", \"law\", \"leak\", \"learn\", \"learn\", \"learn\", \"learn\", \"learn\", \"learning\", \"learning\", \"library\", \"library\", \"library\", \"life\", \"life\", \"life\", \"life\", \"light\", \"light\", \"lighting\", \"lightweight\", \"like\", \"like\", \"like\", \"like\", \"like\", \"like\", \"like\", \"like\", \"like\", \"like\", \"limit\", \"limit\", \"limit\", \"limited\", \"limited\", \"limited\", \"listen\", \"listen\", \"listen\", \"little\", \"little\", \"little\", \"little\", \"little\", \"little\", \"little\", \"little\", \"load\", \"load\", \"load\", \"load\", \"load\", \"long\", \"long\", \"long\", \"long\", \"long\", \"longer\", \"longer\", \"longer\", \"longer\", \"look\", \"look\", \"look\", \"look\", \"look\", \"look\", \"loose\", \"loose\", \"loose\", \"lot\", \"lot\", \"lot\", \"lot\", \"lot\", \"lot\", \"lot\", \"lot\", \"lot\", \"loud\", \"loud\", \"love\", \"love\", \"love\", \"love\", \"love\", \"love\", \"low\", \"low\", \"low\", \"low\", \"market\", \"market\", \"market\", \"market\", \"memory\", \"memory\", \"micro\", \"micro\", \"mini\", \"mini\", \"miss\", \"miss\", \"miss\", \"model\", \"model\", \"mom\", \"money\", \"money\", \"money\", \"money\", \"month\", \"month\", \"month\", \"month\", \"mother\", \"mouse\", \"movie\", \"music\", \"name\", \"name\", \"navigate\", \"navigate\", \"navigate\", \"need\", \"need\", \"need\", \"need\", \"need\", \"need\", \"need\", \"nephew\", \"nephew\", \"nephew\", \"new\", \"new\", \"new\", \"new\", \"new\", \"new\", \"new\", \"news\", \"news\", \"nice\", \"nice\", \"nice\", \"nice\", \"nice\", \"nice\", \"nicely\", \"nicely\", \"niece\", \"niece\", \"ok\", \"ok\", \"ok\", \"ok\", \"ok\", \"old\", \"old\", \"online\", \"online\", \"online\", \"order\", \"order\", \"order\", \"order\", \"order\", \"original\", \"original\", \"overall\", \"overall\", \"overall\", \"overall\", \"overall\", \"overall\", \"overall\", \"overall\", \"pack\", \"package\", \"package\", \"page\", \"page\", \"page\", \"paper\", \"paperwhite\", \"parent\", \"parent\", \"parent\", \"parental\", \"parental\", \"pass\", \"pay\", \"pay\", \"pay\", \"pay\", \"pay\", \"pay\", \"pay\", \"people\", \"people\", \"people\", \"people\", \"perfect\", \"perfect\", \"perfect\", \"perfect\", \"perfect\", \"perfect\", \"perfect\", \"performance\", \"performance\", \"performance\", \"performance\", \"personal\", \"personal\", \"personal\", \"photo\", \"photo\", \"photo\", \"picture\", \"plan\", \"plan\", \"plan\", \"plan\", \"play\", \"play\", \"play\", \"play\", \"playing\", \"plenty\", \"plenty\", \"plug\", \"plug\", \"point\", \"point\", \"point\", \"point\", \"point\", \"poor\", \"power\", \"power\", \"power\", \"powerful\", \"powerful\", \"present\", \"previous\", \"previous\", \"previous\", \"price\", \"price\", \"price\", \"price\", \"price\", \"prime\", \"prime\", \"print\", \"probably\", \"probably\", \"processor\", \"processor\", \"product\", \"product\", \"product\", \"product\", \"product\", \"profile\", \"profile\", \"profile\", \"profile\", \"program\", \"program\", \"program\", \"program\", \"proof\", \"protect\", \"protect\", \"protective\", \"purchase\", \"purchase\", \"purchase\", \"purchase\", \"purchase\", \"purchase\", \"purchase\", \"purchase\", \"purchase\", \"purchase\", \"purse\", \"quality\", \"quality\", \"quality\", \"quality\", \"quantity\", \"quantity\", \"read\", \"read\", \"reader\", \"reading\", \"reading\", \"reading\", \"reasonable\", \"reasonable\", \"rechargeable\", \"recommend\", \"recommend\", \"recommend\", \"recommend\", \"recommend\", \"recommend\", \"recommend\", \"remote\", \"replace\", \"replace\", \"replace\", \"replace\", \"replace\", \"replacement\", \"replacement\", \"replacement\", \"research\", \"research\", \"research\", \"research\", \"resolution\", \"resolution\", \"resolution\", \"return\", \"return\", \"review\", \"review\", \"review\", \"review\", \"review\", \"right\", \"right\", \"right\", \"right\", \"right\", \"right\", \"right\", \"run\", \"run\", \"run\", \"run\", \"s\", \"s\", \"s\", \"s\", \"safe\", \"safe\", \"safe\", \"sale\", \"sale\", \"say\", \"say\", \"say\", \"say\", \"say\", \"say\", \"school\", \"school\", \"school\", \"screen\", \"screen\", \"screen\", \"screen\", \"screen\", \"screen\", \"sd\", \"selection\", \"selection\", \"serve\", \"serve\", \"service\", \"set\", \"set\", \"set\", \"set\", \"set\", \"set\", \"set\", \"setting\", \"setting\", \"setting\", \"setting\", \"setting\", \"shipping\", \"shipping\", \"short\", \"short\", \"show\", \"show\", \"show\", \"show\", \"show\", \"show\", \"simply\", \"simply\", \"simply\", \"sister\", \"sister\", \"site\", \"site\", \"size\", \"size\", \"size\", \"size\", \"slot\", \"slot\", \"slow\", \"slow\", \"small\", \"small\", \"small\", \"small\", \"social\", \"solid\", \"solid\", \"solid\", \"son\", \"son\", \"son\", \"son\", \"sound\", \"sound\", \"sound\", \"sound\", \"space\", \"space\", \"space\", \"space\", \"speed\", \"speed\", \"speed\", \"speed\", \"stand\", \"stand\", \"stand\", \"stand\", \"star\", \"star\", \"star\", \"star\", \"star\", \"star\", \"star\", \"storage\", \"storage\", \"storage\", \"storage\", \"storage\", \"store\", \"store\", \"store\", \"store\", \"store\", \"stream\", \"stream\", \"streaming\", \"streaming\", \"support\", \"support\", \"support\", \"surf\", \"tab\", \"tab\", \"tab\", \"tablet\", \"tablet\", \"tablet\", \"tablet\", \"tablet\", \"tablet\", \"tablet\", \"tablet\", \"tap\", \"tech\", \"tech\", \"test\", \"text\", \"thank\", \"thank\", \"thank\", \"thing\", \"thing\", \"thing\", \"thing\", \"thing\", \"thing\", \"thing\", \"thing\", \"thing\", \"time\", \"time\", \"time\", \"time\", \"time\", \"time\", \"time\", \"time\", \"time\", \"time\", \"timer\", \"timer\", \"today\", \"today\", \"toddler\", \"toddler\", \"toddler\", \"toddler\", \"tool\", \"tool\", \"totally\", \"totally\", \"totally\", \"touch\", \"touch\", \"touch\", \"touch\", \"touch\", \"toy\", \"toy\", \"toy\", \"travel\", \"travel\", \"try\", \"try\", \"try\", \"try\", \"try\", \"try\", \"unlimited\", \"unlimited\", \"upgrade\", \"upgrade\", \"use\", \"use\", \"use\", \"use\", \"use\", \"use\", \"use\", \"use\", \"user\", \"user\", \"user\", \"user\", \"value\", \"value\", \"version\", \"version\", \"version\", \"version\", \"version\", \"video\", \"video\", \"view\", \"view\", \"voyage\", \"want\", \"want\", \"want\", \"want\", \"want\", \"want\", \"want\", \"want\", \"want\", \"warranty\", \"warranty\", \"warranty\", \"warranty\", \"waste\", \"watch\", \"web\", \"web\", \"week\", \"week\", \"week\", \"week\", \"week\", \"weight\", \"well\", \"well\", \"well\", \"well\", \"well\", \"well\", \"well\", \"white\", \"white\", \"white\", \"wife\", \"wife\", \"wife\", \"wonderful\", \"wonderful\", \"wonderful\", \"wonderful\", \"work\", \"work\", \"work\", \"work\", \"work\", \"work\", \"work\", \"year\", \"young\", \"young\", \"youtube\", \"yr\"]}, \"R\": 30, \"lambda.step\": 0.01, \"plot.opts\": {\"xlab\": \"PC1\", \"ylab\": \"PC2\"}, \"topic.order\": [6, 4, 8, 5, 9, 1, 2, 3, 7, 10]};\n",
       "\n",
       "function LDAvis_load_lib(url, callback){\n",
       "  var s = document.createElement('script');\n",
       "  s.src = url;\n",
       "  s.async = true;\n",
       "  s.onreadystatechange = s.onload = callback;\n",
       "  s.onerror = function(){console.warn(\"failed to load library \" + url);};\n",
       "  document.getElementsByTagName(\"head\")[0].appendChild(s);\n",
       "}\n",
       "\n",
       "if(typeof(LDAvis) !== \"undefined\"){\n",
       "   // already loaded: just create the visualization\n",
       "   !function(LDAvis){\n",
       "       new LDAvis(\"#\" + \"ldavis_el52311407015876285843910468825\", ldavis_el52311407015876285843910468825_data);\n",
       "   }(LDAvis);\n",
       "}else if(typeof define === \"function\" && define.amd){\n",
       "   // require.js is available: use it to load d3/LDAvis\n",
       "   require.config({paths: {d3: \"https://cdnjs.cloudflare.com/ajax/libs/d3/3.5.5/d3.min\"}});\n",
       "   require([\"d3\"], function(d3){\n",
       "      window.d3 = d3;\n",
       "      LDAvis_load_lib(\"https://cdn.rawgit.com/bmabey/pyLDAvis/files/ldavis.v1.0.0.js\", function(){\n",
       "        new LDAvis(\"#\" + \"ldavis_el52311407015876285843910468825\", ldavis_el52311407015876285843910468825_data);\n",
       "      });\n",
       "    });\n",
       "}else{\n",
       "    // require.js not available: dynamically load d3 & LDAvis\n",
       "    LDAvis_load_lib(\"https://cdnjs.cloudflare.com/ajax/libs/d3/3.5.5/d3.min.js\", function(){\n",
       "         LDAvis_load_lib(\"https://cdn.rawgit.com/bmabey/pyLDAvis/files/ldavis.v1.0.0.js\", function(){\n",
       "                 new LDAvis(\"#\" + \"ldavis_el52311407015876285843910468825\", ldavis_el52311407015876285843910468825_data);\n",
       "            })\n",
       "         });\n",
       "}\n",
       "</script>"
      ],
      "text/plain": [
       "PreparedData(topic_coordinates=              x         y  topics  cluster       Freq\n",
       "topic                                                \n",
       "5     -0.168326  0.174708       1        1  21.734620\n",
       "3     -0.323065  0.026920       2        1  10.708605\n",
       "7      0.107292 -0.139202       3        1   9.963705\n",
       "4      0.079542 -0.124548       4        1   9.482051\n",
       "8     -0.156531 -0.088564       5        1   9.101377\n",
       "0      0.141245 -0.031344       6        1   9.085676\n",
       "1      0.183610  0.186070       7        1   8.214658\n",
       "2     -0.037254  0.102540       8        1   7.829765\n",
       "6     -0.024954 -0.198379       9        1   6.964029\n",
       "9      0.198442  0.091799      10        1   6.915514, topic_info=          Term         Freq        Total Category  logprob  loglift\n",
       "2      battery  8945.000000  8945.000000  Default  30.0000  30.0000\n",
       "15       price  4913.000000  4913.000000  Default  29.0000  29.0000\n",
       "72        love  6164.000000  6164.000000  Default  28.0000  28.0000\n",
       "18       great  9246.000000  9246.000000  Default  27.0000  27.0000\n",
       "28        good  6821.000000  6821.000000  Default  26.0000  26.0000\n",
       "..         ...          ...          ...      ...      ...      ...\n",
       "669     kindle   281.540926  1507.113881  Topic10  -4.2378   0.9937\n",
       "18       great   441.740331  9246.573731  Topic10  -3.7874  -0.3699\n",
       "119       give   126.885979   426.311796  Topic10  -5.0348   1.4595\n",
       "125  recommend   152.125417  1258.516336  Topic10  -4.8534   0.5584\n",
       "76        want   143.294591  1284.346672  Topic10  -4.9132   0.4783\n",
       "\n",
       "[565 rows x 6 columns], token_table=      Topic      Freq     Term\n",
       "term                          \n",
       "746       5  0.692260        $\n",
       "746       8  0.250107        $\n",
       "746       9  0.055827        $\n",
       "253       1  0.171431        1\n",
       "253       3  0.020906        1\n",
       "...     ...       ...      ...\n",
       "82        7  0.999741     year\n",
       "479       6  0.886755    young\n",
       "479       7  0.109379    young\n",
       "769       4  0.991873  youtube\n",
       "543       7  0.995176       yr\n",
       "\n",
       "[1282 rows x 3 columns], R=30, lambda_step=0.01, plot_opts={'xlab': 'PC1', 'ylab': 'PC2'}, topic_order=[6, 4, 8, 5, 9, 1, 2, 3, 7, 10])"
      ]
     },
     "execution_count": 65,
     "metadata": {},
     "output_type": "execute_result"
    }
   ],
   "source": [
    "pyLDAvis.gensim.prepare(lda, corpus, id2word)"
   ]
  },
  {
   "cell_type": "code",
   "execution_count": 67,
   "metadata": {},
   "outputs": [
    {
     "name": "stderr",
     "output_type": "stream",
     "text": [
      "/Users/matthewdmeans/miniconda3/envs/U4-S1-NLP/lib/python3.7/site-packages/ipykernel/ipkernel.py:287: DeprecationWarning: `should_run_async` will not call `transform_cell` automatically in the future. Please pass the result to `transformed_cell` argument and any exception that happen during thetransform in `preprocessing_exc_tuple` in IPython 7.17 and above.\n",
      "  and should_run_async(code)\n"
     ]
    }
   ],
   "source": [
    "doc_topics = [lda[doc] for doc in corpus]"
   ]
  },
  {
   "cell_type": "code",
   "execution_count": 68,
   "metadata": {},
   "outputs": [
    {
     "name": "stderr",
     "output_type": "stream",
     "text": [
      "/Users/matthewdmeans/miniconda3/envs/U4-S1-NLP/lib/python3.7/site-packages/ipykernel/ipkernel.py:287: DeprecationWarning: `should_run_async` will not call `transform_cell` automatically in the future. Please pass the result to `transformed_cell` argument and any exception that happen during thetransform in `preprocessing_exc_tuple` in IPython 7.17 and above.\n",
      "  and should_run_async(code)\n"
     ]
    },
    {
     "data": {
      "text/plain": [
       "[(0, 0.01111195),\n",
       " (1, 0.011119223),\n",
       " (2, 0.011118282),\n",
       " (3, 0.01111657),\n",
       " (4, 0.011112089),\n",
       " (5, 0.8999695),\n",
       " (6, 0.011113506),\n",
       " (7, 0.011111982),\n",
       " (8, 0.011113774),\n",
       " (9, 0.011113043)]"
      ]
     },
     "execution_count": 68,
     "metadata": {},
     "output_type": "execute_result"
    }
   ],
   "source": [
    "doc_topics[0]"
   ]
  },
  {
   "cell_type": "code",
   "execution_count": 70,
   "metadata": {},
   "outputs": [
    {
     "name": "stderr",
     "output_type": "stream",
     "text": [
      "/Users/matthewdmeans/miniconda3/envs/U4-S1-NLP/lib/python3.7/site-packages/ipykernel/ipkernel.py:287: DeprecationWarning: `should_run_async` will not call `transform_cell` automatically in the future. Please pass the result to `transformed_cell` argument and any exception that happen during thetransform in `preprocessing_exc_tuple` in IPython 7.17 and above.\n",
      "  and should_run_async(code)\n"
     ]
    }
   ],
   "source": [
    "def update(doc):\n",
    "    d_dist = {k:0 for k in range(0,10)}\n",
    "    for t in doc:\n",
    "        d_dist[t[0]] = t[1]\n",
    "    return d_dist\n",
    "\n",
    "new_distro = [update(doc) for doc in doc_topics]"
   ]
  },
  {
   "cell_type": "code",
   "execution_count": 71,
   "metadata": {},
   "outputs": [
    {
     "name": "stderr",
     "output_type": "stream",
     "text": [
      "/Users/matthewdmeans/miniconda3/envs/U4-S1-NLP/lib/python3.7/site-packages/ipykernel/ipkernel.py:287: DeprecationWarning: `should_run_async` will not call `transform_cell` automatically in the future. Please pass the result to `transformed_cell` argument and any exception that happen during thetransform in `preprocessing_exc_tuple` in IPython 7.17 and above.\n",
      "  and should_run_async(code)\n"
     ]
    }
   ],
   "source": [
    "dft = pd.DataFrame.from_records(new_distro)\n",
    "dft.columns = topics"
   ]
  },
  {
   "cell_type": "code",
   "execution_count": 72,
   "metadata": {},
   "outputs": [
    {
     "name": "stderr",
     "output_type": "stream",
     "text": [
      "/Users/matthewdmeans/miniconda3/envs/U4-S1-NLP/lib/python3.7/site-packages/ipykernel/ipkernel.py:287: DeprecationWarning: `should_run_async` will not call `transform_cell` automatically in the future. Please pass the result to `transformed_cell` argument and any exception that happen during thetransform in `preprocessing_exc_tuple` in IPython 7.17 and above.\n",
      "  and should_run_async(code)\n"
     ]
    },
    {
     "data": {
      "text/html": [
       "<div>\n",
       "<style scoped>\n",
       "    .dataframe tbody tr th:only-of-type {\n",
       "        vertical-align: middle;\n",
       "    }\n",
       "\n",
       "    .dataframe tbody tr th {\n",
       "        vertical-align: top;\n",
       "    }\n",
       "\n",
       "    .dataframe thead th {\n",
       "        text-align: right;\n",
       "    }\n",
       "</style>\n",
       "<table border=\"1\" class=\"dataframe\">\n",
       "  <thead>\n",
       "    <tr style=\"text-align: right;\">\n",
       "      <th></th>\n",
       "      <th>kid tablet great love child</th>\n",
       "      <th>year old love buy 2</th>\n",
       "      <th>tablet good buy device store</th>\n",
       "      <th>great good price product work</th>\n",
       "      <th>game tablet app play watch</th>\n",
       "      <th>battery long brand work Amazon</th>\n",
       "      <th>Fire fire great tablet Kindle</th>\n",
       "      <th>easy read use book Kindle</th>\n",
       "      <th>tablet price good iPad Amazon</th>\n",
       "      <th>love buy gift use Christmas</th>\n",
       "    </tr>\n",
       "  </thead>\n",
       "  <tbody>\n",
       "    <tr>\n",
       "      <th>0</th>\n",
       "      <td>0.011112</td>\n",
       "      <td>0.011119</td>\n",
       "      <td>0.011118</td>\n",
       "      <td>0.011117</td>\n",
       "      <td>0.011112</td>\n",
       "      <td>0.899970</td>\n",
       "      <td>0.011114</td>\n",
       "      <td>0.011112</td>\n",
       "      <td>0.011114</td>\n",
       "      <td>0.011113</td>\n",
       "    </tr>\n",
       "    <tr>\n",
       "      <th>1</th>\n",
       "      <td>0.016670</td>\n",
       "      <td>0.016668</td>\n",
       "      <td>0.016671</td>\n",
       "      <td>0.195267</td>\n",
       "      <td>0.016668</td>\n",
       "      <td>0.671373</td>\n",
       "      <td>0.016669</td>\n",
       "      <td>0.016671</td>\n",
       "      <td>0.016674</td>\n",
       "      <td>0.016668</td>\n",
       "    </tr>\n",
       "    <tr>\n",
       "      <th>2</th>\n",
       "      <td>0.025002</td>\n",
       "      <td>0.025003</td>\n",
       "      <td>0.025004</td>\n",
       "      <td>0.331384</td>\n",
       "      <td>0.025001</td>\n",
       "      <td>0.313282</td>\n",
       "      <td>0.025003</td>\n",
       "      <td>0.025003</td>\n",
       "      <td>0.025005</td>\n",
       "      <td>0.180314</td>\n",
       "    </tr>\n",
       "    <tr>\n",
       "      <th>3</th>\n",
       "      <td>0.016667</td>\n",
       "      <td>0.016667</td>\n",
       "      <td>0.016667</td>\n",
       "      <td>0.458149</td>\n",
       "      <td>0.016667</td>\n",
       "      <td>0.408506</td>\n",
       "      <td>0.016673</td>\n",
       "      <td>0.016667</td>\n",
       "      <td>0.016670</td>\n",
       "      <td>0.016667</td>\n",
       "    </tr>\n",
       "    <tr>\n",
       "      <th>4</th>\n",
       "      <td>0.016667</td>\n",
       "      <td>0.016667</td>\n",
       "      <td>0.016667</td>\n",
       "      <td>0.406939</td>\n",
       "      <td>0.016667</td>\n",
       "      <td>0.459723</td>\n",
       "      <td>0.016667</td>\n",
       "      <td>0.016667</td>\n",
       "      <td>0.016668</td>\n",
       "      <td>0.016667</td>\n",
       "    </tr>\n",
       "  </tbody>\n",
       "</table>\n",
       "</div>"
      ],
      "text/plain": [
       "   kid tablet great love child  year old love buy 2  \\\n",
       "0                     0.011112             0.011119   \n",
       "1                     0.016670             0.016668   \n",
       "2                     0.025002             0.025003   \n",
       "3                     0.016667             0.016667   \n",
       "4                     0.016667             0.016667   \n",
       "\n",
       "   tablet good buy device store  great good price product work  \\\n",
       "0                      0.011118                       0.011117   \n",
       "1                      0.016671                       0.195267   \n",
       "2                      0.025004                       0.331384   \n",
       "3                      0.016667                       0.458149   \n",
       "4                      0.016667                       0.406939   \n",
       "\n",
       "   game tablet app play watch  battery long brand work Amazon  \\\n",
       "0                    0.011112                        0.899970   \n",
       "1                    0.016668                        0.671373   \n",
       "2                    0.025001                        0.313282   \n",
       "3                    0.016667                        0.408506   \n",
       "4                    0.016667                        0.459723   \n",
       "\n",
       "   Fire fire great tablet Kindle  easy read use book Kindle  \\\n",
       "0                       0.011114                   0.011112   \n",
       "1                       0.016669                   0.016671   \n",
       "2                       0.025003                   0.025003   \n",
       "3                       0.016673                   0.016667   \n",
       "4                       0.016667                   0.016667   \n",
       "\n",
       "   tablet price good iPad Amazon  love buy gift use Christmas  \n",
       "0                       0.011114                     0.011113  \n",
       "1                       0.016674                     0.016668  \n",
       "2                       0.025005                     0.180314  \n",
       "3                       0.016670                     0.016667  \n",
       "4                       0.016668                     0.016667  "
      ]
     },
     "execution_count": 72,
     "metadata": {},
     "output_type": "execute_result"
    }
   ],
   "source": [
    "dft.head()"
   ]
  },
  {
   "cell_type": "code",
   "execution_count": 73,
   "metadata": {},
   "outputs": [
    {
     "name": "stderr",
     "output_type": "stream",
     "text": [
      "/Users/matthewdmeans/miniconda3/envs/U4-S1-NLP/lib/python3.7/site-packages/ipykernel/ipkernel.py:287: DeprecationWarning: `should_run_async` will not call `transform_cell` automatically in the future. Please pass the result to `transformed_cell` argument and any exception that happen during thetransform in `preprocessing_exc_tuple` in IPython 7.17 and above.\n",
      "  and should_run_async(code)\n"
     ]
    }
   ],
   "source": [
    "df['primary_topic'] = dft.idxmax(axis=1)"
   ]
  },
  {
   "cell_type": "code",
   "execution_count": 74,
   "metadata": {},
   "outputs": [
    {
     "name": "stderr",
     "output_type": "stream",
     "text": [
      "/Users/matthewdmeans/miniconda3/envs/U4-S1-NLP/lib/python3.7/site-packages/ipykernel/ipkernel.py:287: DeprecationWarning: `should_run_async` will not call `transform_cell` automatically in the future. Please pass the result to `transformed_cell` argument and any exception that happen during thetransform in `preprocessing_exc_tuple` in IPython 7.17 and above.\n",
      "  and should_run_async(code)\n"
     ]
    },
    {
     "data": {
      "text/html": [
       "<div>\n",
       "<style scoped>\n",
       "    .dataframe tbody tr th:only-of-type {\n",
       "        vertical-align: middle;\n",
       "    }\n",
       "\n",
       "    .dataframe tbody tr th {\n",
       "        vertical-align: top;\n",
       "    }\n",
       "\n",
       "    .dataframe thead th {\n",
       "        text-align: right;\n",
       "    }\n",
       "</style>\n",
       "<table border=\"1\" class=\"dataframe\">\n",
       "  <thead>\n",
       "    <tr style=\"text-align: right;\">\n",
       "      <th></th>\n",
       "      <th>id</th>\n",
       "      <th>dateAdded</th>\n",
       "      <th>dateUpdated</th>\n",
       "      <th>name</th>\n",
       "      <th>asins</th>\n",
       "      <th>brand</th>\n",
       "      <th>categories</th>\n",
       "      <th>primaryCategories</th>\n",
       "      <th>imageURLs</th>\n",
       "      <th>keys</th>\n",
       "      <th>...</th>\n",
       "      <th>reviews.id</th>\n",
       "      <th>reviews.numHelpful</th>\n",
       "      <th>reviews.rating</th>\n",
       "      <th>reviews.sourceURLs</th>\n",
       "      <th>reviews.text</th>\n",
       "      <th>reviews.title</th>\n",
       "      <th>reviews.username</th>\n",
       "      <th>sourceURLs</th>\n",
       "      <th>tokens</th>\n",
       "      <th>primary_topic</th>\n",
       "    </tr>\n",
       "  </thead>\n",
       "  <tbody>\n",
       "    <tr>\n",
       "      <th>0</th>\n",
       "      <td>AVpgNzjwLJeJML43Kpxn</td>\n",
       "      <td>2015-10-30T08:59:32Z</td>\n",
       "      <td>2019-04-25T09:08:16Z</td>\n",
       "      <td>AmazonBasics AAA Performance Alkaline Batterie...</td>\n",
       "      <td>B00QWO9P0O,B00LH3DMUO</td>\n",
       "      <td>Amazonbasics</td>\n",
       "      <td>AA,AAA,Health,Electronics,Health &amp; Household,C...</td>\n",
       "      <td>Health &amp; Beauty</td>\n",
       "      <td>https://images-na.ssl-images-amazon.com/images...</td>\n",
       "      <td>amazonbasics/hl002619,amazonbasicsaaaperforman...</td>\n",
       "      <td>...</td>\n",
       "      <td>NaN</td>\n",
       "      <td>NaN</td>\n",
       "      <td>3</td>\n",
       "      <td>https://www.amazon.com/product-reviews/B00QWO9...</td>\n",
       "      <td>[order, 3, item, bad, quality, miss, backup, s...</td>\n",
       "      <td>... 3 of them and one of the item is bad quali...</td>\n",
       "      <td>Byger yang</td>\n",
       "      <td>https://www.barcodable.com/upc/841710106442,ht...</td>\n",
       "      <td>[order, item, bad, quality, missing, backup, s...</td>\n",
       "      <td>battery long brand work Amazon</td>\n",
       "    </tr>\n",
       "    <tr>\n",
       "      <th>1</th>\n",
       "      <td>AVpgNzjwLJeJML43Kpxn</td>\n",
       "      <td>2015-10-30T08:59:32Z</td>\n",
       "      <td>2019-04-25T09:08:16Z</td>\n",
       "      <td>AmazonBasics AAA Performance Alkaline Batterie...</td>\n",
       "      <td>B00QWO9P0O,B00LH3DMUO</td>\n",
       "      <td>Amazonbasics</td>\n",
       "      <td>AA,AAA,Health,Electronics,Health &amp; Household,C...</td>\n",
       "      <td>Health &amp; Beauty</td>\n",
       "      <td>https://images-na.ssl-images-amazon.com/images...</td>\n",
       "      <td>amazonbasics/hl002619,amazonbasicsaaaperforman...</td>\n",
       "      <td>...</td>\n",
       "      <td>NaN</td>\n",
       "      <td>NaN</td>\n",
       "      <td>4</td>\n",
       "      <td>https://www.amazon.com/product-reviews/B00QWO9...</td>\n",
       "      <td>[bulk, expensive, way, product, like]</td>\n",
       "      <td>... always the less expensive way to go for pr...</td>\n",
       "      <td>ByMG</td>\n",
       "      <td>https://www.barcodable.com/upc/841710106442,ht...</td>\n",
       "      <td>[bulk, expensive, way, products, like]</td>\n",
       "      <td>battery long brand work Amazon</td>\n",
       "    </tr>\n",
       "    <tr>\n",
       "      <th>2</th>\n",
       "      <td>AVpgNzjwLJeJML43Kpxn</td>\n",
       "      <td>2015-10-30T08:59:32Z</td>\n",
       "      <td>2019-04-25T09:08:16Z</td>\n",
       "      <td>AmazonBasics AAA Performance Alkaline Batterie...</td>\n",
       "      <td>B00QWO9P0O,B00LH3DMUO</td>\n",
       "      <td>Amazonbasics</td>\n",
       "      <td>AA,AAA,Health,Electronics,Health &amp; Household,C...</td>\n",
       "      <td>Health &amp; Beauty</td>\n",
       "      <td>https://images-na.ssl-images-amazon.com/images...</td>\n",
       "      <td>amazonbasics/hl002619,amazonbasicsaaaperforman...</td>\n",
       "      <td>...</td>\n",
       "      <td>NaN</td>\n",
       "      <td>NaN</td>\n",
       "      <td>5</td>\n",
       "      <td>https://www.amazon.com/product-reviews/B00QWO9...</td>\n",
       "      <td>[Duracell, price, happy]</td>\n",
       "      <td>... are not Duracell but for the price i am ha...</td>\n",
       "      <td>BySharon Lambert</td>\n",
       "      <td>https://www.barcodable.com/upc/841710106442,ht...</td>\n",
       "      <td>[duracell, price, happy]</td>\n",
       "      <td>great good price product work</td>\n",
       "    </tr>\n",
       "    <tr>\n",
       "      <th>3</th>\n",
       "      <td>AVpgNzjwLJeJML43Kpxn</td>\n",
       "      <td>2015-10-30T08:59:32Z</td>\n",
       "      <td>2019-04-25T09:08:16Z</td>\n",
       "      <td>AmazonBasics AAA Performance Alkaline Batterie...</td>\n",
       "      <td>B00QWO9P0O,B00LH3DMUO</td>\n",
       "      <td>Amazonbasics</td>\n",
       "      <td>AA,AAA,Health,Electronics,Health &amp; Household,C...</td>\n",
       "      <td>Health &amp; Beauty</td>\n",
       "      <td>https://images-na.ssl-images-amazon.com/images...</td>\n",
       "      <td>amazonbasics/hl002619,amazonbasicsaaaperforman...</td>\n",
       "      <td>...</td>\n",
       "      <td>NaN</td>\n",
       "      <td>NaN</td>\n",
       "      <td>5</td>\n",
       "      <td>https://www.amazon.com/product-reviews/B00QWO9...</td>\n",
       "      <td>[work, brand, battery, well, price]</td>\n",
       "      <td>... as well as name brand batteries at a much ...</td>\n",
       "      <td>Bymark sexson</td>\n",
       "      <td>https://www.barcodable.com/upc/841710106442,ht...</td>\n",
       "      <td>[work, brand, batteries, better, price]</td>\n",
       "      <td>great good price product work</td>\n",
       "    </tr>\n",
       "    <tr>\n",
       "      <th>4</th>\n",
       "      <td>AVpgNzjwLJeJML43Kpxn</td>\n",
       "      <td>2015-10-30T08:59:32Z</td>\n",
       "      <td>2019-04-25T09:08:16Z</td>\n",
       "      <td>AmazonBasics AAA Performance Alkaline Batterie...</td>\n",
       "      <td>B00QWO9P0O,B00LH3DMUO</td>\n",
       "      <td>Amazonbasics</td>\n",
       "      <td>AA,AAA,Health,Electronics,Health &amp; Household,C...</td>\n",
       "      <td>Health &amp; Beauty</td>\n",
       "      <td>https://images-na.ssl-images-amazon.com/images...</td>\n",
       "      <td>amazonbasics/hl002619,amazonbasicsaaaperforman...</td>\n",
       "      <td>...</td>\n",
       "      <td>NaN</td>\n",
       "      <td>NaN</td>\n",
       "      <td>5</td>\n",
       "      <td>https://www.amazon.com/product-reviews/B00QWO9...</td>\n",
       "      <td>[battery, long, last, price, great]</td>\n",
       "      <td>... batteries are very long lasting the price ...</td>\n",
       "      <td>Bylinda</td>\n",
       "      <td>https://www.barcodable.com/upc/841710106442,ht...</td>\n",
       "      <td>[batteries, long, lasting, price, great]</td>\n",
       "      <td>battery long brand work Amazon</td>\n",
       "    </tr>\n",
       "  </tbody>\n",
       "</table>\n",
       "<p>5 rows × 26 columns</p>\n",
       "</div>"
      ],
      "text/plain": [
       "                     id             dateAdded           dateUpdated  \\\n",
       "0  AVpgNzjwLJeJML43Kpxn  2015-10-30T08:59:32Z  2019-04-25T09:08:16Z   \n",
       "1  AVpgNzjwLJeJML43Kpxn  2015-10-30T08:59:32Z  2019-04-25T09:08:16Z   \n",
       "2  AVpgNzjwLJeJML43Kpxn  2015-10-30T08:59:32Z  2019-04-25T09:08:16Z   \n",
       "3  AVpgNzjwLJeJML43Kpxn  2015-10-30T08:59:32Z  2019-04-25T09:08:16Z   \n",
       "4  AVpgNzjwLJeJML43Kpxn  2015-10-30T08:59:32Z  2019-04-25T09:08:16Z   \n",
       "\n",
       "                                                name                  asins  \\\n",
       "0  AmazonBasics AAA Performance Alkaline Batterie...  B00QWO9P0O,B00LH3DMUO   \n",
       "1  AmazonBasics AAA Performance Alkaline Batterie...  B00QWO9P0O,B00LH3DMUO   \n",
       "2  AmazonBasics AAA Performance Alkaline Batterie...  B00QWO9P0O,B00LH3DMUO   \n",
       "3  AmazonBasics AAA Performance Alkaline Batterie...  B00QWO9P0O,B00LH3DMUO   \n",
       "4  AmazonBasics AAA Performance Alkaline Batterie...  B00QWO9P0O,B00LH3DMUO   \n",
       "\n",
       "          brand                                         categories  \\\n",
       "0  Amazonbasics  AA,AAA,Health,Electronics,Health & Household,C...   \n",
       "1  Amazonbasics  AA,AAA,Health,Electronics,Health & Household,C...   \n",
       "2  Amazonbasics  AA,AAA,Health,Electronics,Health & Household,C...   \n",
       "3  Amazonbasics  AA,AAA,Health,Electronics,Health & Household,C...   \n",
       "4  Amazonbasics  AA,AAA,Health,Electronics,Health & Household,C...   \n",
       "\n",
       "  primaryCategories                                          imageURLs  \\\n",
       "0   Health & Beauty  https://images-na.ssl-images-amazon.com/images...   \n",
       "1   Health & Beauty  https://images-na.ssl-images-amazon.com/images...   \n",
       "2   Health & Beauty  https://images-na.ssl-images-amazon.com/images...   \n",
       "3   Health & Beauty  https://images-na.ssl-images-amazon.com/images...   \n",
       "4   Health & Beauty  https://images-na.ssl-images-amazon.com/images...   \n",
       "\n",
       "                                                keys  ... reviews.id  \\\n",
       "0  amazonbasics/hl002619,amazonbasicsaaaperforman...  ...        NaN   \n",
       "1  amazonbasics/hl002619,amazonbasicsaaaperforman...  ...        NaN   \n",
       "2  amazonbasics/hl002619,amazonbasicsaaaperforman...  ...        NaN   \n",
       "3  amazonbasics/hl002619,amazonbasicsaaaperforman...  ...        NaN   \n",
       "4  amazonbasics/hl002619,amazonbasicsaaaperforman...  ...        NaN   \n",
       "\n",
       "  reviews.numHelpful reviews.rating  \\\n",
       "0                NaN              3   \n",
       "1                NaN              4   \n",
       "2                NaN              5   \n",
       "3                NaN              5   \n",
       "4                NaN              5   \n",
       "\n",
       "                                  reviews.sourceURLs  \\\n",
       "0  https://www.amazon.com/product-reviews/B00QWO9...   \n",
       "1  https://www.amazon.com/product-reviews/B00QWO9...   \n",
       "2  https://www.amazon.com/product-reviews/B00QWO9...   \n",
       "3  https://www.amazon.com/product-reviews/B00QWO9...   \n",
       "4  https://www.amazon.com/product-reviews/B00QWO9...   \n",
       "\n",
       "                                        reviews.text  \\\n",
       "0  [order, 3, item, bad, quality, miss, backup, s...   \n",
       "1              [bulk, expensive, way, product, like]   \n",
       "2                           [Duracell, price, happy]   \n",
       "3                [work, brand, battery, well, price]   \n",
       "4                [battery, long, last, price, great]   \n",
       "\n",
       "                                       reviews.title  reviews.username  \\\n",
       "0  ... 3 of them and one of the item is bad quali...        Byger yang   \n",
       "1  ... always the less expensive way to go for pr...              ByMG   \n",
       "2  ... are not Duracell but for the price i am ha...  BySharon Lambert   \n",
       "3  ... as well as name brand batteries at a much ...     Bymark sexson   \n",
       "4  ... batteries are very long lasting the price ...           Bylinda   \n",
       "\n",
       "                                          sourceURLs  \\\n",
       "0  https://www.barcodable.com/upc/841710106442,ht...   \n",
       "1  https://www.barcodable.com/upc/841710106442,ht...   \n",
       "2  https://www.barcodable.com/upc/841710106442,ht...   \n",
       "3  https://www.barcodable.com/upc/841710106442,ht...   \n",
       "4  https://www.barcodable.com/upc/841710106442,ht...   \n",
       "\n",
       "                                              tokens  \\\n",
       "0  [order, item, bad, quality, missing, backup, s...   \n",
       "1             [bulk, expensive, way, products, like]   \n",
       "2                           [duracell, price, happy]   \n",
       "3            [work, brand, batteries, better, price]   \n",
       "4           [batteries, long, lasting, price, great]   \n",
       "\n",
       "                    primary_topic  \n",
       "0  battery long brand work Amazon  \n",
       "1  battery long brand work Amazon  \n",
       "2   great good price product work  \n",
       "3   great good price product work  \n",
       "4  battery long brand work Amazon  \n",
       "\n",
       "[5 rows x 26 columns]"
      ]
     },
     "execution_count": 74,
     "metadata": {},
     "output_type": "execute_result"
    }
   ],
   "source": [
    "df.head()"
   ]
  },
  {
   "cell_type": "code",
   "execution_count": 77,
   "metadata": {},
   "outputs": [
    {
     "name": "stderr",
     "output_type": "stream",
     "text": [
      "/Users/matthewdmeans/miniconda3/envs/U4-S1-NLP/lib/python3.7/site-packages/ipykernel/ipkernel.py:287: DeprecationWarning: `should_run_async` will not call `transform_cell` automatically in the future. Please pass the result to `transformed_cell` argument and any exception that happen during thetransform in `preprocessing_exc_tuple` in IPython 7.17 and above.\n",
      "  and should_run_async(code)\n"
     ]
    },
    {
     "data": {
      "text/plain": [
       "(array([0, 1, 2, 3, 4, 5, 6, 7, 8, 9]),\n",
       " [Text(0, 0, 'battery long brand work Amazon'),\n",
       "  Text(1, 0, 'great good price product work'),\n",
       "  Text(2, 0, 'tablet price good iPad Amazon'),\n",
       "  Text(3, 0, 'easy read use book Kindle'),\n",
       "  Text(4, 0, 'year old love buy 2'),\n",
       "  Text(5, 0, 'kid tablet great love child'),\n",
       "  Text(6, 0, 'tablet good buy device store'),\n",
       "  Text(7, 0, 'love buy gift use Christmas'),\n",
       "  Text(8, 0, 'Fire fire great tablet Kindle'),\n",
       "  Text(9, 0, 'game tablet app play watch')])"
      ]
     },
     "execution_count": 77,
     "metadata": {},
     "output_type": "execute_result"
    },
    {
     "data": {
      "image/png": "[encoded data removed]",
      "text/plain": [
       "<Figure size 432x288 with 1 Axes>"
      ]
     },
     "metadata": {
      "needs_background": "light"
     },
     "output_type": "display_data"
    }
   ],
   "source": [
    "ax = sns.countplot(x='primary_topic', hue='reviews.rating', data=df)\n",
    "plt.xticks(rotation=90)"
   ]
  },
  {
   "cell_type": "markdown",
   "metadata": {},
   "source": [
    "## Stretch Goals\n",
    "\n",
    "* Incorporate Named Entity Recognition in your analysis\n",
    "* Incorporate some custom pre-processing from our previous lessons (like spacy lemmatization)\n",
    "* Analyze a dataset of interest to you with topic modeling"
   ]
  }
 ],
 "metadata": {
  "kernelspec": {
   "display_name": "U4-S1_NLP",
   "language": "python",
   "name": "u4-s1_nlp"
  },
  "language_info": {
   "codemirror_mode": {
    "name": "ipython",
    "version": 3
   },
   "file_extension": ".py",
   "mimetype": "text/x-python",
   "name": "python",
   "nbconvert_exporter": "python",
   "pygments_lexer": "ipython3",
   "version": "3.7.0"
  }
 },
 "nbformat": 4,
 "nbformat_minor": 2
}
