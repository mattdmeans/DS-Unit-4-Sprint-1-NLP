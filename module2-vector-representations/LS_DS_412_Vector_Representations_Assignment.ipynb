{
 "cells": [
  {
   "cell_type": "markdown",
   "metadata": {},
   "source": [
    "<img align=\"left\" src=\"https://lever-client-logos.s3.amazonaws.com/864372b1-534c-480e-acd5-9711f850815c-1524247202159.png\" width=200>\n",
    "<br></br>\n",
    "\n",
    "# Vector Representations\n",
    "## *Data Science Unit 4 Sprint 2 Assignment 2*"
   ]
  },
  {
   "cell_type": "code",
   "execution_count": 40,
   "metadata": {
    "colab": {
     "base_uri": "https://localhost:8080/",
     "height": 159
    },
    "colab_type": "code",
    "id": "hyj-f9FDcVFp",
    "outputId": "5dd045fe-6e4c-458c-e2fc-253c3da9c805"
   },
   "outputs": [],
   "source": [
    "import re\n",
    "import string\n",
    "\n",
    "from sklearn.feature_extraction.text import CountVectorizer, TfidfVectorizer\n",
    "import matplotlib.pyplot as plt\n",
    "import pandas as pd\n",
    "import numpy as np\n",
    "import spacy\n",
    "\n",
    "from bs4 import BeautifulSoup"
   ]
  },
  {
   "cell_type": "markdown",
   "metadata": {
    "colab_type": "text",
    "id": "M7bcmqfGXrFG"
   },
   "source": [
    "## 1) *Clean:* Job Listings from indeed.com that contain the title \"Data Scientist\" \n",
    "\n",
    "You have `job_listings.csv` in the data folder for this module. The text data in the description column is still messy - full of html tags. Use the [BeautifulSoup](https://www.crummy.com/software/BeautifulSoup/bs4/doc/) library to clean up this column. You will need to read through the documentation to accomplish this task. "
   ]
  },
  {
   "cell_type": "code",
   "execution_count": 41,
   "metadata": {
    "colab": {},
    "colab_type": "code",
    "id": "KcYlc1URXhlC"
   },
   "outputs": [],
   "source": [
    "import requests\n",
    "\n",
    "df = pd.read_csv('data/job_listings.csv')\n",
    "df['text'] = df['description'].apply(lambda x: BeautifulSoup(x).get_text())"
   ]
  },
  {
   "cell_type": "code",
   "execution_count": 42,
   "metadata": {},
   "outputs": [],
   "source": [
    "df['text'] = [re.sub(r'[^a-zA-Z ^0-9]', '', row) for row in df['text']]"
   ]
  },
  {
   "cell_type": "code",
   "execution_count": 43,
   "metadata": {},
   "outputs": [
    {
     "data": {
      "text/plain": [
       "'bJob DescriptionnnAs a Data Scientist 1 you will help us build machine learning models data pipelines and microservices to help our clients navigate their healthcare journey You will do so by empowering and improving the next generation of Accolade Applications and user experiencesnA day in the lifexe2x80xa6nWork with a small agile team to design and develop mobile applications in an iterative fashionnWork with a tightknit group of development team members in SeattlenContribute to best practices and help guide the future of our applicationsnOperates effectively as a collaborative member of the development teamnOperates effectively as an individual for quick turnaround of enhancements and fixesnResponsible for meeting expectations and deliverables on time with high qualitynDrive and implement new features within our mobile applicationsnPerform thorough manual testing and writing test cases that cover all areasnIdentify new development toolsapproaches that will increase code quality efficiency and best practicesnDevelop and champion the the development processes coding style guidelines and architectural designs necessary to innovate and maintain great product qualitynEffectively turns design documents and graphics into performant usable UInDemonstrates creative technical and analytical skillsnDemonstrates ability to communicate effectively in both technical and business environmentsnnQualificationsnnWhat we are looking forxe2x80xa6nMasterxe2x80x99s Degree in Computer Science Math or related fieldnComputer Science fundamentals as illustrated through algorithm design problem solving and complexity analysisnMust have 1 year realworld experience developing and deploying microservices or data pipelinesnMust have a fundamental understanding of key machine learning concepts such as accuracy measures crossvalidation and open source machine learning librariesnFluent in Python and SQLnProficient with writing unitfunctional tests and familiar with automation frameworksnExperience with cloud infrastructure such as AWS or Azure is a plusnExperience with distributed data pipelines such as a Spark is a plusnStrong written and oral communication skillsnDesire and willingness to work in an Agile collaborative innovative flexible and teamoriented environmentnHandson detailoriented methodical  inquisitivenA motivated selfstarter with a solid level of experience that quickly grasps complex challengesnA skillful communicator with experience working with technical management teamsn A service oriented person who thinks Customer FirstnFast fail entrepreneurial spiritnThrives in a fastpaced environment where continuous improvement is the norm and the bar for quality is extremely highnExcited by the challenges of working in a product team undergoing rapid international growthnAdditional InformationnnWhat is important to usnCreating an enduring company that is hyperfocused on our culture and making a meaningful impact in the lives of our employees members and customers The secret to our success isnWe find joy and purpose in serving othersnMaking a difference in our membersxe2x80x99 and customersxe2x80x99 lives is what we do Even when itxe2x80x99s hard we do the right thing for the right reasonsnWe are strong individually and together wexe2x80x99re powerfulnTrusting in our colleagues and embracing their different backgrounds and experiences enable us to solve tough problems in creative ways having fun along the waynWe roll up our sleeves and get stuff donenResults motivate us And we arent afraid of the hard work or tough decisions needed to get us therenWexe2x80x99re boldly and relentlessly reinventing healthcarenWere curious and act big  not afraid to knock down barriers or take calculated risks to change the world one person at a timenAll your information will be kept confidential according to EEO guidelines'"
      ]
     },
     "execution_count": 43,
     "metadata": {},
     "output_type": "execute_result"
    }
   ],
   "source": [
    "df['text'][1]"
   ]
  },
  {
   "cell_type": "markdown",
   "metadata": {
    "colab_type": "text",
    "id": "5C4xFZNtX1m2"
   },
   "source": [
    "## 2) Use Spacy to tokenize the listings "
   ]
  },
  {
   "cell_type": "code",
   "execution_count": 44,
   "metadata": {
    "colab": {},
    "colab_type": "code",
    "id": "dhUHuMr-X-II"
   },
   "outputs": [],
   "source": [
    "##### Your Code Here #####\n",
    "from spacy.tokenizer import Tokenizer\n",
    "from spacy.lang.en import English\n",
    "\n",
    "nlp = spacy.load('en_core_web_lg')"
   ]
  },
  {
   "cell_type": "code",
   "execution_count": 45,
   "metadata": {},
   "outputs": [],
   "source": [
    "nlp = English()\n",
    "\n",
    "tokenizer = Tokenizer(nlp.vocab)"
   ]
  },
  {
   "cell_type": "code",
   "execution_count": 46,
   "metadata": {},
   "outputs": [
    {
     "data": {
      "text/plain": [
       "0    [bjob, requirementsnconceptual, understanding,...\n",
       "1    [bjob, descriptionnnas, data, scientist, 1, he...\n",
       "2    [bas, data, scientist, working, consulting, bu...\n",
       "3    [b4969,  , 6756, monthcontractunder, general, ...\n",
       "4    [blocation, usa, xe2x80x93, multiple, location...\n",
       "Name: tokens, dtype: object"
      ]
     },
     "execution_count": 46,
     "metadata": {},
     "output_type": "execute_result"
    }
   ],
   "source": [
    "tokens = []\n",
    "\n",
    "for doc in tokenizer.pipe(df['text'], batch_size = 500):\n",
    "    doc_tokens = []\n",
    "    for token in doc:\n",
    "        if (token.is_stop == False) & (token.is_punct == False):\n",
    "            doc_tokens.append(token.text.lower())\n",
    "    tokens.append(doc_tokens)\n",
    "    \n",
    "df['tokens'] = tokens\n",
    "\n",
    "df['tokens'].head()"
   ]
  },
  {
   "cell_type": "code",
   "execution_count": null,
   "metadata": {},
   "outputs": [],
   "source": []
  },
  {
   "cell_type": "code",
   "execution_count": null,
   "metadata": {},
   "outputs": [],
   "source": []
  },
  {
   "cell_type": "markdown",
   "metadata": {
    "colab_type": "text",
    "id": "-lgCZNL_YycP"
   },
   "source": [
    "## 3) Use Scikit-Learn's CountVectorizer to get word counts for each listing."
   ]
  },
  {
   "cell_type": "code",
   "execution_count": 48,
   "metadata": {},
   "outputs": [
    {
     "name": "stdout",
     "output_type": "stream",
     "text": [
      "['25000', '35', 'accordance', 'achieve', 'action', 'additional', 'advanced', 'age', 'agile', 'aim', 'algorithm', 'algorithms', 'allowed', 'ambitious', 'analysis', 'analytic', 'analytical', 'analytics', 'ancestry', 'andor', 'annual', 'applied', 'applying', 'appropriate', 'areanwilling', 'assets', 'assistance', 'association', 'authorized', 'available', 'avronexperience', 'background', 'based', 'bcerner', 'best', 'biostatistics', 'brightest', 'business', 'care', 'careers', 'cassandra', 'category', 'cerner', 'check', 'citizenship', 'client', 'clientfacing', 'clients', 'clinical', 'cluster', 'clustering', 'collections', 'color', 'complexity', 'comply', 'compromises', 'computational', 'computer', 'computingnpreferred', 'confidence', 'contextual', 'corporate', 'corporation', 'couch', 'countries', 'countriesnncernerxe2x80x99s', 'creating', 'currently', 'data', 'databases', 'datadriven', 'db', 'decision', 'degree', 'develop', 'developing', 'development', 'directly', 'disability', 'discover', 'discovering', 'domesticregionalnvirtual', 'drive', 'drug', 'drugfree', 'efficient', 'eligibility', 'eligible', 'employment', 'encoding', 'encouraged', 'engineering', 'entire', 'equal', 'equivalent', 'evidencebased', 'experiencenat', 'experiencenexperience', 'experiences', 'explanatory', 'exploring', 'facilities', 'facility', 'feasibility', 'features', 'financial', 'find', 'flu', 'focus', 'focusing', 'gender', 'genetic', 'grid', 'hadoopnexperience', 'hbase', 'health', 'healthcare', 'help', 'highdimensionality', 'hire', 'hours', 'ideally', 'identity', 'immunization', 'impactful', 'important', 'improve', 'include', 'including', 'individual', 'individuals', 'information', 'informationnapplicants', 'innovate', 'innovative', 'inquisitivennas', 'insights', 'intelligence', 'intelligent', 'interventions', 'irregular', 'jobnnoncerner', 'jobnyes', 'join', 'languages', 'learning', 'legally', 'level', 'leveraging', 'licensed', 'lifecycle', 'limited', 'local', 'machine', 'malvern', 'mapreduce', 'marital', 'mathematical', 'mathematics', 'methodologiesnexpectationsnmust', 'methodologynnclient', 'methods', 'metro', 'mining', 'modeling', 'models', 'modern', 'mongodb', 'multiple', 'national', 'navigate', 'needed', 'networks', 'networksnexperience', 'neural', 'new', 'nosql', 'obligated', 'occupational', 'offices', 'operational', 'opportunity', 'optimization', 'organization', 'organizational', 'orientation', 'origin', 'outcomes', 'pa', 'patients', 'people', 'peoplexe2x80x99s', 'performance', 'personal', 'pig', 'place', 'policies', 'policy', 'population', 'positionnadditional', 'positionnnsome', 'positions', 'power', 'predictive', 'pregnancy', 'prevent', 'principals', 'probability', 'problem', 'procedures', 'programming', 'protected', 'proud', 'provide', 'providers', 'python', 'quadruple', 'qualificationsnmasterxe2x80x99s', 'qualificationsnphd', 'quality', 'quantitative', 'race', 'receive', 'regard', 'regulationsnwork', 'relational', 'relevant', 'religion', 'relocate', 'report', 'requests', 'required', 'requirements', 'residing', 'responsibilities', 'riak', 'rnexperience', 'role', 'rules', 'safeguarding', 'science', 'scientifically', 'scientist', 'scope', 'screen', 'screennrelocation', 'security', 'seek', 'servicesnworking', 'set', 'sex', 'sexual', 'shot', 'single', 'smart', 'software', 'solutions', 'solving', 'spark', 'sponsorship', 'sql', 'states', 'statistical', 'statistics', 'status', 'storage', 'studies', 'supporting', 'systems', 'talent', 'tb', 'team', 'techniques', 'technologies', 'technology', 'thrive', 'time', 'tools', 'transform', 'transforming', 'trees', 'understand', 'united', 'unstructured', 'updated', 'usnqualificationsnbasic', 'valid', 'value', 'verification', 'veteran', 'visa', 'visually', 'warehousing', 'willing', 'work', 'workflow', 'working', 'workplace', 'xe2x80x93', 'years']\n"
     ]
    }
   ],
   "source": [
    "vector = CountVectorizer()\n",
    "\n",
    "for text in df['tokens']:\n",
    "    vector.fit(text)\n",
    "    \n",
    "dtm = vector.transform(text)\n",
    "\n",
    "print(vector.get_feature_names())"
   ]
  },
  {
   "cell_type": "code",
   "execution_count": 49,
   "metadata": {},
   "outputs": [],
   "source": [
    "dtm = pd.DataFrame(dtm.todense(), columns = vector.get_feature_names())"
   ]
  },
  {
   "cell_type": "code",
   "execution_count": 50,
   "metadata": {},
   "outputs": [
    {
     "data": {
      "text/html": [
       "<div>\n",
       "<style scoped>\n",
       "    .dataframe tbody tr th:only-of-type {\n",
       "        vertical-align: middle;\n",
       "    }\n",
       "\n",
       "    .dataframe tbody tr th {\n",
       "        vertical-align: top;\n",
       "    }\n",
       "\n",
       "    .dataframe thead th {\n",
       "        text-align: right;\n",
       "    }\n",
       "</style>\n",
       "<table border=\"1\" class=\"dataframe\">\n",
       "  <thead>\n",
       "    <tr style=\"text-align: right;\">\n",
       "      <th></th>\n",
       "      <th>25000</th>\n",
       "      <th>35</th>\n",
       "      <th>accordance</th>\n",
       "      <th>achieve</th>\n",
       "      <th>action</th>\n",
       "      <th>additional</th>\n",
       "      <th>advanced</th>\n",
       "      <th>age</th>\n",
       "      <th>agile</th>\n",
       "      <th>aim</th>\n",
       "      <th>...</th>\n",
       "      <th>visa</th>\n",
       "      <th>visually</th>\n",
       "      <th>warehousing</th>\n",
       "      <th>willing</th>\n",
       "      <th>work</th>\n",
       "      <th>workflow</th>\n",
       "      <th>working</th>\n",
       "      <th>workplace</th>\n",
       "      <th>xe2x80x93</th>\n",
       "      <th>years</th>\n",
       "    </tr>\n",
       "  </thead>\n",
       "  <tbody>\n",
       "    <tr>\n",
       "      <th>374</th>\n",
       "      <td>0</td>\n",
       "      <td>0</td>\n",
       "      <td>0</td>\n",
       "      <td>0</td>\n",
       "      <td>0</td>\n",
       "      <td>0</td>\n",
       "      <td>0</td>\n",
       "      <td>0</td>\n",
       "      <td>0</td>\n",
       "      <td>0</td>\n",
       "      <td>...</td>\n",
       "      <td>0</td>\n",
       "      <td>0</td>\n",
       "      <td>0</td>\n",
       "      <td>0</td>\n",
       "      <td>0</td>\n",
       "      <td>0</td>\n",
       "      <td>0</td>\n",
       "      <td>0</td>\n",
       "      <td>0</td>\n",
       "      <td>0</td>\n",
       "    </tr>\n",
       "    <tr>\n",
       "      <th>375</th>\n",
       "      <td>0</td>\n",
       "      <td>0</td>\n",
       "      <td>0</td>\n",
       "      <td>0</td>\n",
       "      <td>0</td>\n",
       "      <td>0</td>\n",
       "      <td>0</td>\n",
       "      <td>0</td>\n",
       "      <td>0</td>\n",
       "      <td>0</td>\n",
       "      <td>...</td>\n",
       "      <td>0</td>\n",
       "      <td>0</td>\n",
       "      <td>0</td>\n",
       "      <td>0</td>\n",
       "      <td>0</td>\n",
       "      <td>0</td>\n",
       "      <td>0</td>\n",
       "      <td>0</td>\n",
       "      <td>0</td>\n",
       "      <td>0</td>\n",
       "    </tr>\n",
       "    <tr>\n",
       "      <th>376</th>\n",
       "      <td>0</td>\n",
       "      <td>0</td>\n",
       "      <td>0</td>\n",
       "      <td>0</td>\n",
       "      <td>0</td>\n",
       "      <td>0</td>\n",
       "      <td>0</td>\n",
       "      <td>0</td>\n",
       "      <td>0</td>\n",
       "      <td>0</td>\n",
       "      <td>...</td>\n",
       "      <td>0</td>\n",
       "      <td>0</td>\n",
       "      <td>0</td>\n",
       "      <td>0</td>\n",
       "      <td>0</td>\n",
       "      <td>0</td>\n",
       "      <td>0</td>\n",
       "      <td>0</td>\n",
       "      <td>0</td>\n",
       "      <td>0</td>\n",
       "    </tr>\n",
       "    <tr>\n",
       "      <th>377</th>\n",
       "      <td>0</td>\n",
       "      <td>0</td>\n",
       "      <td>0</td>\n",
       "      <td>0</td>\n",
       "      <td>0</td>\n",
       "      <td>0</td>\n",
       "      <td>0</td>\n",
       "      <td>0</td>\n",
       "      <td>0</td>\n",
       "      <td>0</td>\n",
       "      <td>...</td>\n",
       "      <td>0</td>\n",
       "      <td>0</td>\n",
       "      <td>0</td>\n",
       "      <td>0</td>\n",
       "      <td>0</td>\n",
       "      <td>0</td>\n",
       "      <td>0</td>\n",
       "      <td>0</td>\n",
       "      <td>0</td>\n",
       "      <td>0</td>\n",
       "    </tr>\n",
       "    <tr>\n",
       "      <th>378</th>\n",
       "      <td>0</td>\n",
       "      <td>0</td>\n",
       "      <td>0</td>\n",
       "      <td>0</td>\n",
       "      <td>0</td>\n",
       "      <td>0</td>\n",
       "      <td>0</td>\n",
       "      <td>0</td>\n",
       "      <td>0</td>\n",
       "      <td>0</td>\n",
       "      <td>...</td>\n",
       "      <td>0</td>\n",
       "      <td>0</td>\n",
       "      <td>0</td>\n",
       "      <td>0</td>\n",
       "      <td>0</td>\n",
       "      <td>0</td>\n",
       "      <td>0</td>\n",
       "      <td>1</td>\n",
       "      <td>0</td>\n",
       "      <td>0</td>\n",
       "    </tr>\n",
       "  </tbody>\n",
       "</table>\n",
       "<p>5 rows × 300 columns</p>\n",
       "</div>"
      ],
      "text/plain": [
       "     25000  35  accordance  achieve  action  additional  advanced  age  agile  \\\n",
       "374      0   0           0        0       0           0         0    0      0   \n",
       "375      0   0           0        0       0           0         0    0      0   \n",
       "376      0   0           0        0       0           0         0    0      0   \n",
       "377      0   0           0        0       0           0         0    0      0   \n",
       "378      0   0           0        0       0           0         0    0      0   \n",
       "\n",
       "     aim  ...  visa  visually  warehousing  willing  work  workflow  working  \\\n",
       "374    0  ...     0         0            0        0     0         0        0   \n",
       "375    0  ...     0         0            0        0     0         0        0   \n",
       "376    0  ...     0         0            0        0     0         0        0   \n",
       "377    0  ...     0         0            0        0     0         0        0   \n",
       "378    0  ...     0         0            0        0     0         0        0   \n",
       "\n",
       "     workplace  xe2x80x93  years  \n",
       "374          0          0      0  \n",
       "375          0          0      0  \n",
       "376          0          0      0  \n",
       "377          0          0      0  \n",
       "378          1          0      0  \n",
       "\n",
       "[5 rows x 300 columns]"
      ]
     },
     "execution_count": 50,
     "metadata": {},
     "output_type": "execute_result"
    }
   ],
   "source": [
    "dtm.tail()"
   ]
  },
  {
   "cell_type": "markdown",
   "metadata": {
    "colab_type": "text",
    "id": "Zo1iH_UeY7_n"
   },
   "source": [
    "## 4) Visualize the most common word counts"
   ]
  },
  {
   "cell_type": "code",
   "execution_count": 51,
   "metadata": {
    "colab": {},
    "colab_type": "code",
    "id": "M5LB00uyZKV5"
   },
   "outputs": [],
   "source": [
    "##### Your Code Here #####\n",
    "from collections import Counter"
   ]
  },
  {
   "cell_type": "code",
   "execution_count": 52,
   "metadata": {},
   "outputs": [
    {
     "data": {
      "text/plain": [
       "[('data', 4021),\n",
       " ('business', 1093),\n",
       " ('experience', 1022),\n",
       " (' ', 928),\n",
       " ('work', 927),\n",
       " ('science', 877),\n",
       " ('team', 859),\n",
       " ('learning', 842),\n",
       " ('machine', 667),\n",
       " ('analytics', 645)]"
      ]
     },
     "execution_count": 52,
     "metadata": {},
     "output_type": "execute_result"
    }
   ],
   "source": [
    "word_counts = Counter()\n",
    "\n",
    "df['tokens'].apply(lambda x: word_counts.update(x))\n",
    "\n",
    "word_counts.most_common(10)"
   ]
  },
  {
   "cell_type": "code",
   "execution_count": 53,
   "metadata": {},
   "outputs": [],
   "source": [
    "def count(docs):\n",
    "\n",
    "        word_counts = Counter()\n",
    "        appears_in = Counter()\n",
    "        \n",
    "        total_docs = len(docs)\n",
    "\n",
    "        for doc in docs:\n",
    "            word_counts.update(doc)\n",
    "            appears_in.update(set(doc))\n",
    "\n",
    "        temp = list(zip(word_counts.keys(), word_counts.values()))\n",
    "        \n",
    "        wc = pd.DataFrame(temp, columns = ['word', 'count'])\n",
    "\n",
    "        wc['rank'] = wc['count'].rank(method='first', ascending=False)\n",
    "        total = wc['count'].sum()\n",
    "\n",
    "        wc['pct_total'] = wc['count'].apply(lambda x: x / total)\n",
    "        \n",
    "        wc = wc.sort_values(by='rank')\n",
    "        wc['cul_pct_total'] = wc['pct_total'].cumsum()\n",
    "\n",
    "        t2 = list(zip(appears_in.keys(), appears_in.values()))\n",
    "        ac = pd.DataFrame(t2, columns=['word', 'appears_in'])\n",
    "        wc = ac.merge(wc, on='word')\n",
    "\n",
    "        wc['appears_in_pct'] = wc['appears_in'].apply(lambda x: x / total_docs)\n",
    "        \n",
    "        return wc.sort_values(by='rank')"
   ]
  },
  {
   "cell_type": "code",
   "execution_count": 54,
   "metadata": {},
   "outputs": [],
   "source": [
    "wc = count(df['tokens'])"
   ]
  },
  {
   "cell_type": "code",
   "execution_count": 55,
   "metadata": {},
   "outputs": [
    {
     "data": {
      "image/png": "[encoded data removed]",
      "text/plain": [
       "<Figure size 432x288 with 1 Axes>"
      ]
     },
     "metadata": {
      "needs_background": "light"
     },
     "output_type": "display_data"
    }
   ],
   "source": [
    "import squarify\n",
    "import matplotlib.pyplot as plt\n",
    "\n",
    "wc_top20 = wc[wc['rank'] <= 20]\n",
    "\n",
    "squarify.plot(sizes = wc_top20['pct_total'], label = wc_top20['word'], alpha = .8)\n",
    "plt.axis('off')\n",
    "plt.show()"
   ]
  },
  {
   "cell_type": "code",
   "execution_count": null,
   "metadata": {},
   "outputs": [],
   "source": []
  },
  {
   "cell_type": "markdown",
   "metadata": {
    "colab_type": "text",
    "id": "bwFsTqrVZMYi"
   },
   "source": [
    "## 5) Use Scikit-Learn's tfidfVectorizer to get a TF-IDF feature matrix"
   ]
  },
  {
   "cell_type": "code",
   "execution_count": 56,
   "metadata": {
    "colab": {},
    "colab_type": "code",
    "id": "-gx2gZCbl5Np"
   },
   "outputs": [],
   "source": [
    "##### Your Code Here #####\n",
    "\n",
    "def tokenize(document):\n",
    "    \n",
    "    doc = nlp(document)\n",
    "    \n",
    "    return [token.lemma_.strip() for token in doc if (token.is_stop != True) & (token.is_punct != True)]"
   ]
  },
  {
   "cell_type": "code",
   "execution_count": 57,
   "metadata": {},
   "outputs": [
    {
     "data": {
      "text/plain": [
       "(426, 2610)"
      ]
     },
     "execution_count": 57,
     "metadata": {},
     "output_type": "execute_result"
    }
   ],
   "source": [
    "tfidf = TfidfVectorizer(stop_words = 'english',\n",
    "                        ngram_range = (1, 2),\n",
    "                        max_df = .97,\n",
    "                        min_df = .02,\n",
    "                        tokenizer = tokenize)\n",
    "\n",
    "dtm = tfidf.fit_transform(df['text'])\n",
    "\n",
    "dtm = pd.DataFrame(dtm.todense(), columns = tfidf.get_feature_names())\n",
    "\n",
    "dtm.shape"
   ]
  },
  {
   "cell_type": "code",
   "execution_count": null,
   "metadata": {},
   "outputs": [],
   "source": []
  },
  {
   "cell_type": "code",
   "execution_count": null,
   "metadata": {},
   "outputs": [],
   "source": []
  },
  {
   "cell_type": "markdown",
   "metadata": {},
   "source": [
    "## 6) Create a NearestNeighbor Model. Write the description of your ideal datascience job and query your job listings. "
   ]
  },
  {
   "cell_type": "code",
   "execution_count": 58,
   "metadata": {
    "inputHidden": false,
    "jupyter": {
     "outputs_hidden": false
    },
    "outputHidden": false
   },
   "outputs": [],
   "source": [
    "##### Your Code Here #####\n",
    "from sklearn.metrics.pairwise import cosine_similarity\n",
    "from sklearn.neighbors import NearestNeighbors\n",
    "\n",
    "dist_matrix = cosine_similarity(dtm)"
   ]
  },
  {
   "cell_type": "code",
   "execution_count": 59,
   "metadata": {},
   "outputs": [
    {
     "data": {
      "text/plain": [
       "(426, 426)"
      ]
     },
     "execution_count": 59,
     "metadata": {},
     "output_type": "execute_result"
    }
   ],
   "source": [
    "df_dist_matrix = pd.DataFrame(dist_matrix)\n",
    "df_dist_matrix.shape"
   ]
  },
  {
   "cell_type": "code",
   "execution_count": 60,
   "metadata": {},
   "outputs": [
    {
     "data": {
      "text/plain": [
       "42     0.191394\n",
       "138    0.191394\n",
       "338    0.173859\n",
       "403    0.170600\n",
       "115    0.159438\n",
       "Name: 0, dtype: float64"
      ]
     },
     "execution_count": 60,
     "metadata": {},
     "output_type": "execute_result"
    }
   ],
   "source": [
    "df_dist_matrix[df_dist_matrix[0] < 1][0].sort_values(ascending = False)[:5]"
   ]
  },
  {
   "cell_type": "code",
   "execution_count": 61,
   "metadata": {},
   "outputs": [
    {
     "name": "stdout",
     "output_type": "stream",
     "text": [
      "bWe are looking for an experienced Data Scientist to launch our new analytical framework for predicting consumer behavior in the mortgage buying proce\n"
     ]
    }
   ],
   "source": [
    "print(df['text'][300][:150])"
   ]
  },
  {
   "cell_type": "code",
   "execution_count": 62,
   "metadata": {},
   "outputs": [
    {
     "data": {
      "text/html": [
       "<div>\n",
       "<style scoped>\n",
       "    .dataframe tbody tr th:only-of-type {\n",
       "        vertical-align: middle;\n",
       "    }\n",
       "\n",
       "    .dataframe tbody tr th {\n",
       "        vertical-align: top;\n",
       "    }\n",
       "\n",
       "    .dataframe thead th {\n",
       "        text-align: right;\n",
       "    }\n",
       "</style>\n",
       "<table border=\"1\" class=\"dataframe\">\n",
       "  <thead>\n",
       "    <tr style=\"text-align: right;\">\n",
       "      <th></th>\n",
       "      <th></th>\n",
       "      <th>analytics</th>\n",
       "      <th>data</th>\n",
       "      <th>1</th>\n",
       "      <th>1 year</th>\n",
       "      <th>10</th>\n",
       "      <th>100</th>\n",
       "      <th>12</th>\n",
       "      <th>12 months</th>\n",
       "      <th>2</th>\n",
       "      <th>...</th>\n",
       "      <th>years relevant</th>\n",
       "      <th>years work</th>\n",
       "      <th>yearsxe2x80x99</th>\n",
       "      <th>yearsxe2x80x99 experience</th>\n",
       "      <th>york</th>\n",
       "      <th>york city</th>\n",
       "      <th>youxe2x80x99ll</th>\n",
       "      <th>youxe2x80x99ll work</th>\n",
       "      <th>youxe2x80x99re</th>\n",
       "      <th>youxe2x80x99ve</th>\n",
       "    </tr>\n",
       "  </thead>\n",
       "  <tbody>\n",
       "    <tr>\n",
       "      <th>0</th>\n",
       "      <td>0.000000</td>\n",
       "      <td>0.0</td>\n",
       "      <td>0.0</td>\n",
       "      <td>0.000000</td>\n",
       "      <td>0.00000</td>\n",
       "      <td>0.0</td>\n",
       "      <td>0.0</td>\n",
       "      <td>0.0</td>\n",
       "      <td>0.0</td>\n",
       "      <td>0.142498</td>\n",
       "      <td>...</td>\n",
       "      <td>0.0</td>\n",
       "      <td>0.0</td>\n",
       "      <td>0.0</td>\n",
       "      <td>0.0</td>\n",
       "      <td>0.0</td>\n",
       "      <td>0.0</td>\n",
       "      <td>0.0</td>\n",
       "      <td>0.0</td>\n",
       "      <td>0.0</td>\n",
       "      <td>0.0</td>\n",
       "    </tr>\n",
       "    <tr>\n",
       "      <th>1</th>\n",
       "      <td>0.054047</td>\n",
       "      <td>0.0</td>\n",
       "      <td>0.0</td>\n",
       "      <td>0.139382</td>\n",
       "      <td>0.08633</td>\n",
       "      <td>0.0</td>\n",
       "      <td>0.0</td>\n",
       "      <td>0.0</td>\n",
       "      <td>0.0</td>\n",
       "      <td>0.000000</td>\n",
       "      <td>...</td>\n",
       "      <td>0.0</td>\n",
       "      <td>0.0</td>\n",
       "      <td>0.0</td>\n",
       "      <td>0.0</td>\n",
       "      <td>0.0</td>\n",
       "      <td>0.0</td>\n",
       "      <td>0.0</td>\n",
       "      <td>0.0</td>\n",
       "      <td>0.0</td>\n",
       "      <td>0.0</td>\n",
       "    </tr>\n",
       "    <tr>\n",
       "      <th>2</th>\n",
       "      <td>0.000000</td>\n",
       "      <td>0.0</td>\n",
       "      <td>0.0</td>\n",
       "      <td>0.000000</td>\n",
       "      <td>0.00000</td>\n",
       "      <td>0.0</td>\n",
       "      <td>0.0</td>\n",
       "      <td>0.0</td>\n",
       "      <td>0.0</td>\n",
       "      <td>0.000000</td>\n",
       "      <td>...</td>\n",
       "      <td>0.0</td>\n",
       "      <td>0.0</td>\n",
       "      <td>0.0</td>\n",
       "      <td>0.0</td>\n",
       "      <td>0.0</td>\n",
       "      <td>0.0</td>\n",
       "      <td>0.0</td>\n",
       "      <td>0.0</td>\n",
       "      <td>0.0</td>\n",
       "      <td>0.0</td>\n",
       "    </tr>\n",
       "    <tr>\n",
       "      <th>3</th>\n",
       "      <td>0.068972</td>\n",
       "      <td>0.0</td>\n",
       "      <td>0.0</td>\n",
       "      <td>0.000000</td>\n",
       "      <td>0.00000</td>\n",
       "      <td>0.0</td>\n",
       "      <td>0.0</td>\n",
       "      <td>0.0</td>\n",
       "      <td>0.0</td>\n",
       "      <td>0.000000</td>\n",
       "      <td>...</td>\n",
       "      <td>0.0</td>\n",
       "      <td>0.0</td>\n",
       "      <td>0.0</td>\n",
       "      <td>0.0</td>\n",
       "      <td>0.0</td>\n",
       "      <td>0.0</td>\n",
       "      <td>0.0</td>\n",
       "      <td>0.0</td>\n",
       "      <td>0.0</td>\n",
       "      <td>0.0</td>\n",
       "    </tr>\n",
       "    <tr>\n",
       "      <th>4</th>\n",
       "      <td>0.000000</td>\n",
       "      <td>0.0</td>\n",
       "      <td>0.0</td>\n",
       "      <td>0.000000</td>\n",
       "      <td>0.00000</td>\n",
       "      <td>0.0</td>\n",
       "      <td>0.0</td>\n",
       "      <td>0.0</td>\n",
       "      <td>0.0</td>\n",
       "      <td>0.000000</td>\n",
       "      <td>...</td>\n",
       "      <td>0.0</td>\n",
       "      <td>0.0</td>\n",
       "      <td>0.0</td>\n",
       "      <td>0.0</td>\n",
       "      <td>0.0</td>\n",
       "      <td>0.0</td>\n",
       "      <td>0.0</td>\n",
       "      <td>0.0</td>\n",
       "      <td>0.0</td>\n",
       "      <td>0.0</td>\n",
       "    </tr>\n",
       "  </tbody>\n",
       "</table>\n",
       "<p>5 rows × 2610 columns</p>\n",
       "</div>"
      ],
      "text/plain": [
       "              analytics   data         1   1 year   10  100   12  12 months  \\\n",
       "0  0.000000         0.0    0.0  0.000000  0.00000  0.0  0.0  0.0        0.0   \n",
       "1  0.054047         0.0    0.0  0.139382  0.08633  0.0  0.0  0.0        0.0   \n",
       "2  0.000000         0.0    0.0  0.000000  0.00000  0.0  0.0  0.0        0.0   \n",
       "3  0.068972         0.0    0.0  0.000000  0.00000  0.0  0.0  0.0        0.0   \n",
       "4  0.000000         0.0    0.0  0.000000  0.00000  0.0  0.0  0.0        0.0   \n",
       "\n",
       "          2  ...  years relevant  years work  yearsxe2x80x99  \\\n",
       "0  0.142498  ...             0.0         0.0             0.0   \n",
       "1  0.000000  ...             0.0         0.0             0.0   \n",
       "2  0.000000  ...             0.0         0.0             0.0   \n",
       "3  0.000000  ...             0.0         0.0             0.0   \n",
       "4  0.000000  ...             0.0         0.0             0.0   \n",
       "\n",
       "   yearsxe2x80x99 experience  york  york city  youxe2x80x99ll  \\\n",
       "0                        0.0   0.0        0.0             0.0   \n",
       "1                        0.0   0.0        0.0             0.0   \n",
       "2                        0.0   0.0        0.0             0.0   \n",
       "3                        0.0   0.0        0.0             0.0   \n",
       "4                        0.0   0.0        0.0             0.0   \n",
       "\n",
       "   youxe2x80x99ll work  youxe2x80x99re  youxe2x80x99ve  \n",
       "0                  0.0             0.0             0.0  \n",
       "1                  0.0             0.0             0.0  \n",
       "2                  0.0             0.0             0.0  \n",
       "3                  0.0             0.0             0.0  \n",
       "4                  0.0             0.0             0.0  \n",
       "\n",
       "[5 rows x 2610 columns]"
      ]
     },
     "execution_count": 62,
     "metadata": {},
     "output_type": "execute_result"
    }
   ],
   "source": [
    "dtm.head()"
   ]
  },
  {
   "cell_type": "code",
   "execution_count": 63,
   "metadata": {},
   "outputs": [
    {
     "data": {
      "text/plain": [
       "NearestNeighbors(algorithm='kd_tree', leaf_size=30, metric='minkowski',\n",
       "                 metric_params=None, n_jobs=None, n_neighbors=5, p=2,\n",
       "                 radius=1.0)"
      ]
     },
     "execution_count": 63,
     "metadata": {},
     "output_type": "execute_result"
    }
   ],
   "source": [
    "nn = NearestNeighbors(n_neighbors=5, algorithm = 'kd_tree')\n",
    "nn.fit(dtm)"
   ]
  },
  {
   "cell_type": "code",
   "execution_count": 64,
   "metadata": {},
   "outputs": [
    {
     "data": {
      "text/plain": [
       "(array([[0.        , 1.27169675, 1.27169675, 1.28541136, 1.28794386]]),\n",
       " array([[  0, 138,  42, 338, 403]]))"
      ]
     },
     "execution_count": 64,
     "metadata": {},
     "output_type": "execute_result"
    }
   ],
   "source": [
    "nn.kneighbors([dtm.iloc[0].values])"
   ]
  },
  {
   "cell_type": "code",
   "execution_count": 65,
   "metadata": {},
   "outputs": [],
   "source": [
    "ideal_ds_job_description = [\"\"\" Become rich \"\"\"]\n",
    "\n",
    "ideal = tfidf.transform(ideal_ds_job_description)"
   ]
  },
  {
   "cell_type": "code",
   "execution_count": 66,
   "metadata": {},
   "outputs": [
    {
     "data": {
      "text/plain": [
       "(array([[1.25811917, 1.30091743, 1.33370714, 1.33455585, 1.33955027]]),\n",
       " array([[124, 111, 160, 169,  75]]))"
      ]
     },
     "execution_count": 66,
     "metadata": {},
     "output_type": "execute_result"
    }
   ],
   "source": [
    "nn.kneighbors(ideal.todense())"
   ]
  },
  {
   "cell_type": "code",
   "execution_count": 67,
   "metadata": {},
   "outputs": [
    {
     "data": {
      "text/plain": [
       "'bKeysight Marketing is hiring a data scientist to scale up insights that are a foundational element for Marketing transformation You will be part of the data analysts team whose goal is to build analytic capabilities that support the strategy planning and execution of Marketing activitiesnnYou will need to have a deep competency and strong experience with statistics modeling using data science tools and applying them to the real world of customer targeting and optimizing ROInnResponsibilitiesnYour focus will be generating customer insights the improve online and offline customer experience and targetingnYou will also focus on automating reporting that can be easily consumed by different stakeholdersnYou will consolidate validate and investigate big data from multiple sources to find and deliver actionable insights to business partners and to upper management to make informed business decisionsnYou will create datadriven attribution statistical models of Marketing touches and customer responses to measure and maximize ROInDevelop Propensity Score Matching for segmentation of customersnJob DescriptionnKeysight Marketing is hiring a data scientist to scale up insights that are a foundational element for Marketing transformation You will be part of the data analysts team whose goal is to build analytic capabilities that support the strategy planning and execution of Marketing activitiesnnYou will need to have a deep competency and strong experience with statistics modeling using data science tools and applying them to the real world of customer targeting and optimizing ROInnResponsibilitiesnYour focus will be generating customer insights the improve online and offline customer experience and targetingnYou will also focus on automating reporting that can be easily consumed by different stakeholdersnYou will consolidate validate and investigate big data from multiple sources to find and deliver actionable insights to business partners and to upper management to make informed business decisionsnYou will create datadriven attribution statistical models of Marketing touches and customer responses to measure and maximize ROInDevelop Propensity Score Matching for segmentation of customersnJob QualificationsnWho You ArennAnalytical with a proven track record of expertlevel ability in analytical techniques model development and deployment of highvelocity transactional datanA leader You can lead others to solve complex problems use sophisticated analytical thought to exercise judgment identify innovative solutions and coordinate with multiple stakeholdersnA communicator with strong interpersonal skills ability to work effectively with all levels of the organizationnA Selfmotivator who is highly organized can assess prioritize of projects and manage multiple tasks simultaneouslnnDesired Skills and QualificationsnnBS MS in a field related to Data Science Computer Engineering Statistics Mathematics or a closely related quantitative field with 4 years of work or research experience in applied data sciencenComfortable with both structured and unstructured datanStrong competency in R Python or SQLnExperience with visualization tools such as DOMO or TableaunExperience with analytics tools as Adobe Analytics Google AnalyticsnFamiliarity with big data processing such as Hadoop is a plusnJob FunctionnnPrivacy StatementnKeysight is an Equal Opportunity EmployernKeysight Technologies Inc is an equal opportunity employer Qualified applicants will receive consideration for employment without regard to race color religion sex sexual orientation gender identity national origin protected veteran status disability or any other protected categories under all applicable lawsnCandidates can be considered to work from the following locationsnAmericas  United States  Arizona  Tempe  Americas  United States  California  Anaheim  Americas  United States  California  Calabasas  Americas  United States  California  El Segundo  Americas  United States  California  Irvine Voscal  Americas  United States  California  Roseville  Americas  United States  California  San Diego  Americas  United States  California  Santa Clara  Americas  United States  California  Santa Rosa  Americas  United States  California  Westlake Village  Americas  United States  Colorado  Colorado Springs  Americas  United States  Colorado  Englewood  Americas  United States  Colorado  Englewood  Americas  United States  Colorado  Loveland  Americas  United States  Florida  Boca Raton  Americas  United States  Florida  Orlando  Americas  United States  Georgia  Alpharetta  Americas  United States  Georgia  Atlanta  Americas  United States  Illinois  Arlington Heights  Americas  United States  Illinois  Schaumburg  Americas  United States  Iowa  Elk Horn  Americas  United States  Maryland  Columbia  Americas  United States  Massachusetts  Andover  Americas  United States  Michigan  Detroit  Americas  United States  Michigan  Novi  Americas  United States  New Hampshire  Nashua  Americas  United States  New Jersey  Budd Lake  Americas  United States  New Mexico  Albuquerque  Americas  United States  New York  Cold Springs  Americas  United States  New York  Pittsford  Americas  United States  New York  Rochester  Americas  United States  New York  Utica  Americas  United States  North Carolina  Apex  Americas  United States  North Carolina  Morrisville  Americas  United States  Ohio  Mentor  Americas  United States  Oregon  Beaverton  Americas  United States  Oregon  Lake Oswego  Americas  United States  Pennsylvania  Bethlehem  Americas  United States  Pennsylvania  Philadelphia  Americas  United States  Puerto Rico  San Juan  Americas  United States  Texas  Austin  Americas  United States  Texas  Dallas  Americas  United States  Texas  Plano  Americas  United States  Texas  Richardson  Americas  United States  Utah  Salt Lake City  Americas  United States  Virginia  Chantilly  Americas  United States  Washington  Everett  Americas  United States  Washington  PleasantonnJob ID  33051'"
      ]
     },
     "execution_count": 67,
     "metadata": {},
     "output_type": "execute_result"
    }
   ],
   "source": [
    "df['text'][124]"
   ]
  },
  {
   "cell_type": "code",
   "execution_count": 68,
   "metadata": {},
   "outputs": [
    {
     "data": {
      "text/plain": [
       "'bMine rich user data sets and find insights that will drive the decisions that power our platformnnnThe Missionnnnviagogo is on a mission to revolutionize the way people get tickets to live events making it possible for anyone anywhere in the world to see their favorite artists teams or shows live Weve helped millions of people from almost every country attend live events and were just getting started We believe creative individuals with innovative ideas are the engine for our rapid growth so were looking for the worlds smartest data scientists to join our team where youll be given the freedom to make meaningful and measurable improvements impacting millions of peoplennnYour RolennnData scientists sit at the core of our business constantly working to identify new product features and improvements that enhance the experience for our users and drive proxefxacx81table revenue streams for the company Youll be part of a team using data to automate manual processes  human decisions the work carried out by our Data Scientists is exciting and challenging but crucial to scaling viagogo across all geographies languages and currencies Youll mine rich data sets and xefxacx81nd insights that will drive the decisions that power our platform Youll be given autonomy to make product decisions as soon as youre capable with senior members of the product team on hand to guide and support you Every piece of work you complete will tie directly to a business goal so you can measure the impact you have on viagogo and quickly youll come to understand of the technical underpinnings of how ideas turn into reality at an ecommerce tech company operating at a global scalennTypes of projects includennDesigning running and analyzing feature experiments AB tests on millions of users of our website and appsnOptimizing the coverage and efxefxacx81ciency of ad campaigns through search engines PPC and social media platformsnIdentifying opportunities to acquire new inventory and optimize the qualitypricing of inventory in all geographiesnnnYour SkillsnnnYou get things done Given a problem you wont rest until youve found the answernnnYou have a degree in a quantitative xefxacx81eld like science math economics engineering or similar or industry experience working as a data analystnYou have excellent criticalthinking and problemsolving skillsnYou are thorough detailoriented and organized with the ability to manage multiple parallel projectsnYou have entrepreneurial drive to initiate and drive projects and achieve stretch goals with minimal guidancennYou want to learn Becoming an effective data analyst requires learning the tools of the trade Well teach you how to use tools like Excel SQL and R to not only analyze data to xefxacx81nd the insights youre looking for but to visualize and present it most effectively for stakeholders to make decisionsnnYou want to make an impact You dont just want to produce pretty tables and graphs you want to understand what the results mean and how to utilize your xefxacx81ndings to make the best productbusiness decision possiblennYou are a team player You work not just to advance your own skills or ideas but also to help the team and the business succeed This means being open to feedback from others and giving it in return It also means recognizing that the best ideas might not always be your own'"
      ]
     },
     "execution_count": 68,
     "metadata": {},
     "output_type": "execute_result"
    }
   ],
   "source": [
    "df['text'][111]"
   ]
  },
  {
   "cell_type": "code",
   "execution_count": null,
   "metadata": {},
   "outputs": [],
   "source": []
  },
  {
   "cell_type": "markdown",
   "metadata": {
    "colab_type": "text",
    "id": "FiDfTWceoRkH"
   },
   "source": [
    "## Stretch Goals\n",
    "\n",
    " - Try different visualizations for words and frequencies - what story do you want to tell with the data?\n",
    " - Scrape Job Listings for the job title \"Data Analyst\". How do these differ from Data Scientist Job Listings\n",
    " - Try and identify requirements for experience specific technologies that are asked for in the job listings. How are those distributed among the job listings?\n",
    " - Use a clustering algorithm to cluster documents by their most important terms. Do the clusters reveal any common themes?\n",
    "  - **Hint:** K-means might not be the best algorithm for this. Do a little bit of research to see what might be good for this. Also, remember that algorithms that depend on Euclidean distance break down with high dimensional data.\n",
    " - Create a labeled dataset - which jobs will you apply for? Train a model to select the jobs you are most likely to apply for. :) "
   ]
  }
 ],
 "metadata": {
  "colab": {
   "collapsed_sections": [],
   "name": "LS_DS_422_BOW_Assignment.ipynb",
   "provenance": [],
   "version": "0.3.2"
  },
  "kernel_info": {
   "name": "python3"
  },
  "kernelspec": {
   "display_name": "U4-S1_NLP",
   "language": "python",
   "name": "u4-s1_nlp"
  },
  "language_info": {
   "codemirror_mode": {
    "name": "ipython",
    "version": 3
   },
   "file_extension": ".py",
   "mimetype": "text/x-python",
   "name": "python",
   "nbconvert_exporter": "python",
   "pygments_lexer": "ipython3",
   "version": "3.7.0"
  },
  "nteract": {
   "version": "0.14.3"
  }
 },
 "nbformat": 4,
 "nbformat_minor": 4
}
